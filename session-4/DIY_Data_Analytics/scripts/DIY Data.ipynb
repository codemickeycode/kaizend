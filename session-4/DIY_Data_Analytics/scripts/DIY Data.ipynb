{
 "cells": [
  {
   "cell_type": "code",
   "execution_count": 1,
   "metadata": {},
   "outputs": [
    {
     "data": {
      "text/plain": [
       "'Hello World'"
      ]
     },
     "execution_count": 1,
     "metadata": {},
     "output_type": "execute_result"
    }
   ],
   "source": [
    "\"Hello World\""
   ]
  },
  {
   "cell_type": "code",
   "execution_count": 2,
   "metadata": {},
   "outputs": [],
   "source": [
    "greeting = \"Hello World\""
   ]
  },
  {
   "cell_type": "code",
   "execution_count": 3,
   "metadata": {},
   "outputs": [
    {
     "data": {
      "text/plain": [
       "'Hello World'"
      ]
     },
     "execution_count": 3,
     "metadata": {},
     "output_type": "execute_result"
    }
   ],
   "source": [
    "greeting"
   ]
  },
  {
   "cell_type": "code",
   "execution_count": 4,
   "metadata": {},
   "outputs": [],
   "source": [
    "a = 2\n",
    "b = 15"
   ]
  },
  {
   "cell_type": "code",
   "execution_count": 5,
   "metadata": {},
   "outputs": [
    {
     "data": {
      "text/plain": [
       "17"
      ]
     },
     "execution_count": 5,
     "metadata": {},
     "output_type": "execute_result"
    }
   ],
   "source": [
    "a + b"
   ]
  },
  {
   "cell_type": "code",
   "execution_count": 6,
   "metadata": {},
   "outputs": [],
   "source": [
    "my_sum  = a + b"
   ]
  },
  {
   "cell_type": "code",
   "execution_count": 7,
   "metadata": {},
   "outputs": [
    {
     "data": {
      "text/plain": [
       "17"
      ]
     },
     "execution_count": 7,
     "metadata": {},
     "output_type": "execute_result"
    }
   ],
   "source": [
    "my_sum"
   ]
  },
  {
   "cell_type": "code",
   "execution_count": 8,
   "metadata": {},
   "outputs": [],
   "source": [
    "my_product = a * b"
   ]
  },
  {
   "cell_type": "code",
   "execution_count": 9,
   "metadata": {},
   "outputs": [
    {
     "data": {
      "text/plain": [
       "30"
      ]
     },
     "execution_count": 9,
     "metadata": {},
     "output_type": "execute_result"
    }
   ],
   "source": [
    "my_product"
   ]
  },
  {
   "cell_type": "code",
   "execution_count": 10,
   "metadata": {},
   "outputs": [],
   "source": [
    "import numpy as np"
   ]
  },
  {
   "cell_type": "code",
   "execution_count": 11,
   "metadata": {},
   "outputs": [],
   "source": [
    "ages_list = [25, 30, 35, 40, 45]"
   ]
  },
  {
   "cell_type": "code",
   "execution_count": 12,
   "metadata": {},
   "outputs": [],
   "source": [
    "ages = np.array(ages_list)"
   ]
  },
  {
   "cell_type": "code",
   "execution_count": 13,
   "metadata": {},
   "outputs": [
    {
     "data": {
      "text/plain": [
       "array([25, 30, 35, 40, 45])"
      ]
     },
     "execution_count": 13,
     "metadata": {},
     "output_type": "execute_result"
    }
   ],
   "source": [
    "ages"
   ]
  },
  {
   "cell_type": "code",
   "execution_count": 14,
   "metadata": {},
   "outputs": [],
   "source": [
    "ages = np.array([25, 30, 35, 40, 45, 50, 55])"
   ]
  },
  {
   "cell_type": "code",
   "execution_count": 15,
   "metadata": {},
   "outputs": [
    {
     "data": {
      "text/plain": [
       "array([25, 30, 35, 40, 45, 50, 55])"
      ]
     },
     "execution_count": 15,
     "metadata": {},
     "output_type": "execute_result"
    }
   ],
   "source": [
    "ages"
   ]
  },
  {
   "cell_type": "code",
   "execution_count": 16,
   "metadata": {},
   "outputs": [
    {
     "data": {
      "text/plain": [
       "25"
      ]
     },
     "execution_count": 16,
     "metadata": {},
     "output_type": "execute_result"
    }
   ],
   "source": [
    "ages[0]"
   ]
  },
  {
   "cell_type": "code",
   "execution_count": 17,
   "metadata": {},
   "outputs": [
    {
     "data": {
      "text/plain": [
       "55"
      ]
     },
     "execution_count": 17,
     "metadata": {},
     "output_type": "execute_result"
    }
   ],
   "source": [
    "ages[6]"
   ]
  },
  {
   "cell_type": "code",
   "execution_count": 18,
   "metadata": {},
   "outputs": [
    {
     "data": {
      "text/plain": [
       "55"
      ]
     },
     "execution_count": 18,
     "metadata": {},
     "output_type": "execute_result"
    }
   ],
   "source": [
    "ages[-1]"
   ]
  },
  {
   "cell_type": "code",
   "execution_count": 19,
   "metadata": {},
   "outputs": [
    {
     "data": {
      "text/plain": [
       "array([25, 30, 35, 40])"
      ]
     },
     "execution_count": 19,
     "metadata": {},
     "output_type": "execute_result"
    }
   ],
   "source": [
    "ages[0:4]"
   ]
  },
  {
   "cell_type": "code",
   "execution_count": 20,
   "metadata": {},
   "outputs": [
    {
     "data": {
      "text/plain": [
       "array([25, 30, 35, 40])"
      ]
     },
     "execution_count": 20,
     "metadata": {},
     "output_type": "execute_result"
    }
   ],
   "source": [
    "ages[:4]"
   ]
  },
  {
   "cell_type": "code",
   "execution_count": 21,
   "metadata": {},
   "outputs": [
    {
     "data": {
      "text/plain": [
       "array([30, 35, 40])"
      ]
     },
     "execution_count": 21,
     "metadata": {},
     "output_type": "execute_result"
    }
   ],
   "source": [
    "ages[1:4]"
   ]
  },
  {
   "cell_type": "code",
   "execution_count": 22,
   "metadata": {},
   "outputs": [
    {
     "data": {
      "text/plain": [
       "array([30, 35, 40, 45, 50, 55])"
      ]
     },
     "execution_count": 22,
     "metadata": {},
     "output_type": "execute_result"
    }
   ],
   "source": [
    "ages[1:]"
   ]
  },
  {
   "cell_type": "code",
   "execution_count": 23,
   "metadata": {},
   "outputs": [
    {
     "data": {
      "text/plain": [
       "array([25, 30, 35, 40, 45, 50, 55])"
      ]
     },
     "execution_count": 23,
     "metadata": {},
     "output_type": "execute_result"
    }
   ],
   "source": [
    "ages[:]"
   ]
  },
  {
   "cell_type": "code",
   "execution_count": 24,
   "metadata": {},
   "outputs": [
    {
     "data": {
      "text/plain": [
       "array([25, 35, 45, 55])"
      ]
     },
     "execution_count": 24,
     "metadata": {},
     "output_type": "execute_result"
    }
   ],
   "source": [
    "ages[::2]"
   ]
  },
  {
   "cell_type": "code",
   "execution_count": 25,
   "metadata": {},
   "outputs": [
    {
     "data": {
      "text/plain": [
       "array([55, 50, 45, 40, 35, 30, 25])"
      ]
     },
     "execution_count": 25,
     "metadata": {},
     "output_type": "execute_result"
    }
   ],
   "source": [
    "ages[::-1]"
   ]
  },
  {
   "cell_type": "code",
   "execution_count": 26,
   "metadata": {},
   "outputs": [
    {
     "data": {
      "text/plain": [
       "array([25, 30, 35])"
      ]
     },
     "execution_count": 26,
     "metadata": {},
     "output_type": "execute_result"
    }
   ],
   "source": [
    "ages[ages<40]"
   ]
  },
  {
   "cell_type": "code",
   "execution_count": 27,
   "metadata": {},
   "outputs": [
    {
     "data": {
      "text/plain": [
       "array([25, 30, 35, 40])"
      ]
     },
     "execution_count": 27,
     "metadata": {},
     "output_type": "execute_result"
    }
   ],
   "source": [
    "ages[ages<=40]"
   ]
  },
  {
   "cell_type": "code",
   "execution_count": 28,
   "metadata": {},
   "outputs": [
    {
     "data": {
      "text/plain": [
       "7"
      ]
     },
     "execution_count": 28,
     "metadata": {},
     "output_type": "execute_result"
    }
   ],
   "source": [
    "len(ages)"
   ]
  },
  {
   "cell_type": "code",
   "execution_count": 29,
   "metadata": {},
   "outputs": [],
   "source": [
    "ages_mean = np.mean(ages)"
   ]
  },
  {
   "cell_type": "code",
   "execution_count": 30,
   "metadata": {},
   "outputs": [
    {
     "data": {
      "text/plain": [
       "40.0"
      ]
     },
     "execution_count": 30,
     "metadata": {},
     "output_type": "execute_result"
    }
   ],
   "source": [
    "ages_mean"
   ]
  },
  {
   "cell_type": "code",
   "execution_count": 31,
   "metadata": {},
   "outputs": [
    {
     "data": {
      "text/plain": [
       "25"
      ]
     },
     "execution_count": 31,
     "metadata": {},
     "output_type": "execute_result"
    }
   ],
   "source": [
    "np.min(ages)"
   ]
  },
  {
   "cell_type": "code",
   "execution_count": 32,
   "metadata": {},
   "outputs": [
    {
     "data": {
      "text/plain": [
       "55"
      ]
     },
     "execution_count": 32,
     "metadata": {},
     "output_type": "execute_result"
    }
   ],
   "source": [
    "np.max(ages)"
   ]
  },
  {
   "cell_type": "code",
   "execution_count": 33,
   "metadata": {},
   "outputs": [],
   "source": [
    "import pandas as pd"
   ]
  },
  {
   "cell_type": "code",
   "execution_count": 34,
   "metadata": {},
   "outputs": [],
   "source": [
    "import numpy as np"
   ]
  },
  {
   "cell_type": "code",
   "execution_count": 35,
   "metadata": {},
   "outputs": [],
   "source": [
    "fn = \"../input/forbes_celebrity_list.csv\"\n",
    "df = pd.read_csv(fn)"
   ]
  },
  {
   "cell_type": "code",
   "execution_count": 36,
   "metadata": {},
   "outputs": [],
   "source": [
    "?pd.read_csv"
   ]
  },
  {
   "cell_type": "code",
   "execution_count": 38,
   "metadata": {},
   "outputs": [
    {
     "data": {
      "text/html": [
       "<div>\n",
       "<style scoped>\n",
       "    .dataframe tbody tr th:only-of-type {\n",
       "        vertical-align: middle;\n",
       "    }\n",
       "\n",
       "    .dataframe tbody tr th {\n",
       "        vertical-align: top;\n",
       "    }\n",
       "\n",
       "    .dataframe thead th {\n",
       "        text-align: right;\n",
       "    }\n",
       "</style>\n",
       "<table border=\"1\" class=\"dataframe\">\n",
       "  <thead>\n",
       "    <tr style=\"text-align: right;\">\n",
       "      <th></th>\n",
       "      <th>year</th>\n",
       "      <th>rank</th>\n",
       "      <th>recipient</th>\n",
       "      <th>country</th>\n",
       "      <th>career</th>\n",
       "      <th>tied</th>\n",
       "      <th>title</th>\n",
       "    </tr>\n",
       "  </thead>\n",
       "  <tbody>\n",
       "    <tr>\n",
       "      <td>0</td>\n",
       "      <td>1999</td>\n",
       "      <td>1</td>\n",
       "      <td>Michael Jordan</td>\n",
       "      <td>United States</td>\n",
       "      <td>Sportsperson (Basketball)</td>\n",
       "      <td>0</td>\n",
       "      <td>Michael_Jordan</td>\n",
       "    </tr>\n",
       "    <tr>\n",
       "      <td>1</td>\n",
       "      <td>1999</td>\n",
       "      <td>2</td>\n",
       "      <td>Oprah Winfrey</td>\n",
       "      <td>United States</td>\n",
       "      <td>Television Personality</td>\n",
       "      <td>0</td>\n",
       "      <td>Oprah_Winfrey</td>\n",
       "    </tr>\n",
       "    <tr>\n",
       "      <td>2</td>\n",
       "      <td>1999</td>\n",
       "      <td>3</td>\n",
       "      <td>Leonardo DiCaprio</td>\n",
       "      <td>United States</td>\n",
       "      <td>Actor</td>\n",
       "      <td>0</td>\n",
       "      <td>Leonardo_DiCaprio</td>\n",
       "    </tr>\n",
       "    <tr>\n",
       "      <td>3</td>\n",
       "      <td>1999</td>\n",
       "      <td>4</td>\n",
       "      <td>Jerry Seinfeld</td>\n",
       "      <td>United States</td>\n",
       "      <td>Actor</td>\n",
       "      <td>0</td>\n",
       "      <td>Jerry_Seinfeld</td>\n",
       "    </tr>\n",
       "    <tr>\n",
       "      <td>4</td>\n",
       "      <td>1999</td>\n",
       "      <td>5</td>\n",
       "      <td>Steven Spielberg</td>\n",
       "      <td>United States</td>\n",
       "      <td>Filmmaker</td>\n",
       "      <td>0</td>\n",
       "      <td>Steven_Spielberg</td>\n",
       "    </tr>\n",
       "    <tr>\n",
       "      <td>...</td>\n",
       "      <td>...</td>\n",
       "      <td>...</td>\n",
       "      <td>...</td>\n",
       "      <td>...</td>\n",
       "      <td>...</td>\n",
       "      <td>...</td>\n",
       "      <td>...</td>\n",
       "    </tr>\n",
       "    <tr>\n",
       "      <td>197</td>\n",
       "      <td>2018</td>\n",
       "      <td>6</td>\n",
       "      <td>U2</td>\n",
       "      <td>Republic of Ireland</td>\n",
       "      <td>Musicians</td>\n",
       "      <td>0</td>\n",
       "      <td>U2</td>\n",
       "    </tr>\n",
       "    <tr>\n",
       "      <td>198</td>\n",
       "      <td>2018</td>\n",
       "      <td>7</td>\n",
       "      <td>Coldplay</td>\n",
       "      <td>United Kingdom</td>\n",
       "      <td>Musicians</td>\n",
       "      <td>0</td>\n",
       "      <td>Coldplay</td>\n",
       "    </tr>\n",
       "    <tr>\n",
       "      <td>199</td>\n",
       "      <td>2018</td>\n",
       "      <td>8</td>\n",
       "      <td>Lionel Messi</td>\n",
       "      <td>Argentina</td>\n",
       "      <td>Athlete (Association football)</td>\n",
       "      <td>0</td>\n",
       "      <td>Lionel_Messi</td>\n",
       "    </tr>\n",
       "    <tr>\n",
       "      <td>200</td>\n",
       "      <td>2018</td>\n",
       "      <td>9</td>\n",
       "      <td>Ed Sheeran</td>\n",
       "      <td>United Kingdom</td>\n",
       "      <td>Musician</td>\n",
       "      <td>0</td>\n",
       "      <td>Ed_Sheeran</td>\n",
       "    </tr>\n",
       "    <tr>\n",
       "      <td>201</td>\n",
       "      <td>2018</td>\n",
       "      <td>10</td>\n",
       "      <td>Cristiano Ronaldo</td>\n",
       "      <td>Portugal</td>\n",
       "      <td>Athlete (Association football)</td>\n",
       "      <td>0</td>\n",
       "      <td>Cristiano_Ronaldo</td>\n",
       "    </tr>\n",
       "  </tbody>\n",
       "</table>\n",
       "<p>202 rows × 7 columns</p>\n",
       "</div>"
      ],
      "text/plain": [
       "     year  rank          recipient              country  \\\n",
       "0    1999     1     Michael Jordan        United States   \n",
       "1    1999     2      Oprah Winfrey        United States   \n",
       "2    1999     3  Leonardo DiCaprio        United States   \n",
       "3    1999     4     Jerry Seinfeld        United States   \n",
       "4    1999     5   Steven Spielberg        United States   \n",
       "..    ...   ...                ...                  ...   \n",
       "197  2018     6                 U2  Republic of Ireland   \n",
       "198  2018     7           Coldplay       United Kingdom   \n",
       "199  2018     8       Lionel Messi            Argentina   \n",
       "200  2018     9         Ed Sheeran       United Kingdom   \n",
       "201  2018    10  Cristiano Ronaldo             Portugal   \n",
       "\n",
       "                             career  tied              title  \n",
       "0         Sportsperson (Basketball)     0     Michael_Jordan  \n",
       "1            Television Personality     0      Oprah_Winfrey  \n",
       "2                             Actor     0  Leonardo_DiCaprio  \n",
       "3                             Actor     0     Jerry_Seinfeld  \n",
       "4                         Filmmaker     0   Steven_Spielberg  \n",
       "..                              ...   ...                ...  \n",
       "197                       Musicians     0                 U2  \n",
       "198                       Musicians     0           Coldplay  \n",
       "199  Athlete (Association football)     0       Lionel_Messi  \n",
       "200                        Musician     0         Ed_Sheeran  \n",
       "201  Athlete (Association football)     0  Cristiano_Ronaldo  \n",
       "\n",
       "[202 rows x 7 columns]"
      ]
     },
     "execution_count": 38,
     "metadata": {},
     "output_type": "execute_result"
    }
   ],
   "source": [
    "df # this is a Pandas dataframe\n",
    "# Note that every row has an index & every column has a name"
   ]
  },
  {
   "cell_type": "code",
   "execution_count": 39,
   "metadata": {},
   "outputs": [
    {
     "data": {
      "text/html": [
       "<div>\n",
       "<style scoped>\n",
       "    .dataframe tbody tr th:only-of-type {\n",
       "        vertical-align: middle;\n",
       "    }\n",
       "\n",
       "    .dataframe tbody tr th {\n",
       "        vertical-align: top;\n",
       "    }\n",
       "\n",
       "    .dataframe thead th {\n",
       "        text-align: right;\n",
       "    }\n",
       "</style>\n",
       "<table border=\"1\" class=\"dataframe\">\n",
       "  <thead>\n",
       "    <tr style=\"text-align: right;\">\n",
       "      <th></th>\n",
       "      <th>year</th>\n",
       "      <th>rank</th>\n",
       "      <th>recipient</th>\n",
       "      <th>country</th>\n",
       "      <th>career</th>\n",
       "      <th>tied</th>\n",
       "      <th>title</th>\n",
       "    </tr>\n",
       "  </thead>\n",
       "  <tbody>\n",
       "    <tr>\n",
       "      <td>0</td>\n",
       "      <td>1999</td>\n",
       "      <td>1</td>\n",
       "      <td>Michael Jordan</td>\n",
       "      <td>United States</td>\n",
       "      <td>Sportsperson (Basketball)</td>\n",
       "      <td>0</td>\n",
       "      <td>Michael_Jordan</td>\n",
       "    </tr>\n",
       "    <tr>\n",
       "      <td>1</td>\n",
       "      <td>1999</td>\n",
       "      <td>2</td>\n",
       "      <td>Oprah Winfrey</td>\n",
       "      <td>United States</td>\n",
       "      <td>Television Personality</td>\n",
       "      <td>0</td>\n",
       "      <td>Oprah_Winfrey</td>\n",
       "    </tr>\n",
       "    <tr>\n",
       "      <td>2</td>\n",
       "      <td>1999</td>\n",
       "      <td>3</td>\n",
       "      <td>Leonardo DiCaprio</td>\n",
       "      <td>United States</td>\n",
       "      <td>Actor</td>\n",
       "      <td>0</td>\n",
       "      <td>Leonardo_DiCaprio</td>\n",
       "    </tr>\n",
       "    <tr>\n",
       "      <td>3</td>\n",
       "      <td>1999</td>\n",
       "      <td>4</td>\n",
       "      <td>Jerry Seinfeld</td>\n",
       "      <td>United States</td>\n",
       "      <td>Actor</td>\n",
       "      <td>0</td>\n",
       "      <td>Jerry_Seinfeld</td>\n",
       "    </tr>\n",
       "    <tr>\n",
       "      <td>4</td>\n",
       "      <td>1999</td>\n",
       "      <td>5</td>\n",
       "      <td>Steven Spielberg</td>\n",
       "      <td>United States</td>\n",
       "      <td>Filmmaker</td>\n",
       "      <td>0</td>\n",
       "      <td>Steven_Spielberg</td>\n",
       "    </tr>\n",
       "  </tbody>\n",
       "</table>\n",
       "</div>"
      ],
      "text/plain": [
       "   year  rank          recipient        country                     career  \\\n",
       "0  1999     1     Michael Jordan  United States  Sportsperson (Basketball)   \n",
       "1  1999     2      Oprah Winfrey  United States     Television Personality   \n",
       "2  1999     3  Leonardo DiCaprio  United States                      Actor   \n",
       "3  1999     4     Jerry Seinfeld  United States                      Actor   \n",
       "4  1999     5   Steven Spielberg  United States                  Filmmaker   \n",
       "\n",
       "   tied              title  \n",
       "0     0     Michael_Jordan  \n",
       "1     0      Oprah_Winfrey  \n",
       "2     0  Leonardo_DiCaprio  \n",
       "3     0     Jerry_Seinfeld  \n",
       "4     0   Steven_Spielberg  "
      ]
     },
     "execution_count": 39,
     "metadata": {},
     "output_type": "execute_result"
    }
   ],
   "source": [
    "df.head()"
   ]
  },
  {
   "cell_type": "code",
   "execution_count": 40,
   "metadata": {},
   "outputs": [
    {
     "data": {
      "text/html": [
       "<div>\n",
       "<style scoped>\n",
       "    .dataframe tbody tr th:only-of-type {\n",
       "        vertical-align: middle;\n",
       "    }\n",
       "\n",
       "    .dataframe tbody tr th {\n",
       "        vertical-align: top;\n",
       "    }\n",
       "\n",
       "    .dataframe thead th {\n",
       "        text-align: right;\n",
       "    }\n",
       "</style>\n",
       "<table border=\"1\" class=\"dataframe\">\n",
       "  <thead>\n",
       "    <tr style=\"text-align: right;\">\n",
       "      <th></th>\n",
       "      <th>year</th>\n",
       "      <th>rank</th>\n",
       "      <th>recipient</th>\n",
       "      <th>country</th>\n",
       "      <th>career</th>\n",
       "      <th>tied</th>\n",
       "      <th>title</th>\n",
       "    </tr>\n",
       "  </thead>\n",
       "  <tbody>\n",
       "    <tr>\n",
       "      <td>0</td>\n",
       "      <td>1999</td>\n",
       "      <td>1</td>\n",
       "      <td>Michael Jordan</td>\n",
       "      <td>United States</td>\n",
       "      <td>Sportsperson (Basketball)</td>\n",
       "      <td>0</td>\n",
       "      <td>Michael_Jordan</td>\n",
       "    </tr>\n",
       "    <tr>\n",
       "      <td>1</td>\n",
       "      <td>1999</td>\n",
       "      <td>2</td>\n",
       "      <td>Oprah Winfrey</td>\n",
       "      <td>United States</td>\n",
       "      <td>Television Personality</td>\n",
       "      <td>0</td>\n",
       "      <td>Oprah_Winfrey</td>\n",
       "    </tr>\n",
       "    <tr>\n",
       "      <td>2</td>\n",
       "      <td>1999</td>\n",
       "      <td>3</td>\n",
       "      <td>Leonardo DiCaprio</td>\n",
       "      <td>United States</td>\n",
       "      <td>Actor</td>\n",
       "      <td>0</td>\n",
       "      <td>Leonardo_DiCaprio</td>\n",
       "    </tr>\n",
       "    <tr>\n",
       "      <td>3</td>\n",
       "      <td>1999</td>\n",
       "      <td>4</td>\n",
       "      <td>Jerry Seinfeld</td>\n",
       "      <td>United States</td>\n",
       "      <td>Actor</td>\n",
       "      <td>0</td>\n",
       "      <td>Jerry_Seinfeld</td>\n",
       "    </tr>\n",
       "    <tr>\n",
       "      <td>4</td>\n",
       "      <td>1999</td>\n",
       "      <td>5</td>\n",
       "      <td>Steven Spielberg</td>\n",
       "      <td>United States</td>\n",
       "      <td>Filmmaker</td>\n",
       "      <td>0</td>\n",
       "      <td>Steven_Spielberg</td>\n",
       "    </tr>\n",
       "    <tr>\n",
       "      <td>5</td>\n",
       "      <td>1999</td>\n",
       "      <td>6</td>\n",
       "      <td>Spice Girls</td>\n",
       "      <td>United Kingdom</td>\n",
       "      <td>Musicians</td>\n",
       "      <td>0</td>\n",
       "      <td>Spice_Girls</td>\n",
       "    </tr>\n",
       "    <tr>\n",
       "      <td>6</td>\n",
       "      <td>1999</td>\n",
       "      <td>7</td>\n",
       "      <td>Harrison Ford</td>\n",
       "      <td>United States</td>\n",
       "      <td>Actor</td>\n",
       "      <td>0</td>\n",
       "      <td>Harrison_Ford</td>\n",
       "    </tr>\n",
       "    <tr>\n",
       "      <td>7</td>\n",
       "      <td>1999</td>\n",
       "      <td>8</td>\n",
       "      <td>Robin Williams</td>\n",
       "      <td>United States</td>\n",
       "      <td>Actor</td>\n",
       "      <td>0</td>\n",
       "      <td>Robin_Williams</td>\n",
       "    </tr>\n",
       "    <tr>\n",
       "      <td>8</td>\n",
       "      <td>1999</td>\n",
       "      <td>9</td>\n",
       "      <td>Celine Dion</td>\n",
       "      <td>Canada</td>\n",
       "      <td>Musician</td>\n",
       "      <td>0</td>\n",
       "      <td>Céline_Dion</td>\n",
       "    </tr>\n",
       "    <tr>\n",
       "      <td>9</td>\n",
       "      <td>1999</td>\n",
       "      <td>10</td>\n",
       "      <td>The Rolling Stones</td>\n",
       "      <td>United Kingdom</td>\n",
       "      <td>Musicians</td>\n",
       "      <td>0</td>\n",
       "      <td>The_Rolling_Stones</td>\n",
       "    </tr>\n",
       "  </tbody>\n",
       "</table>\n",
       "</div>"
      ],
      "text/plain": [
       "   year  rank           recipient         country                     career  \\\n",
       "0  1999     1      Michael Jordan   United States  Sportsperson (Basketball)   \n",
       "1  1999     2       Oprah Winfrey   United States     Television Personality   \n",
       "2  1999     3   Leonardo DiCaprio   United States                      Actor   \n",
       "3  1999     4      Jerry Seinfeld   United States                      Actor   \n",
       "4  1999     5    Steven Spielberg   United States                  Filmmaker   \n",
       "5  1999     6         Spice Girls  United Kingdom                  Musicians   \n",
       "6  1999     7       Harrison Ford   United States                      Actor   \n",
       "7  1999     8      Robin Williams   United States                      Actor   \n",
       "8  1999     9         Celine Dion          Canada                   Musician   \n",
       "9  1999    10  The Rolling Stones  United Kingdom                  Musicians   \n",
       "\n",
       "   tied               title  \n",
       "0     0      Michael_Jordan  \n",
       "1     0       Oprah_Winfrey  \n",
       "2     0   Leonardo_DiCaprio  \n",
       "3     0      Jerry_Seinfeld  \n",
       "4     0    Steven_Spielberg  \n",
       "5     0         Spice_Girls  \n",
       "6     0       Harrison_Ford  \n",
       "7     0      Robin_Williams  \n",
       "8     0         Céline_Dion  \n",
       "9     0  The_Rolling_Stones  "
      ]
     },
     "execution_count": 40,
     "metadata": {},
     "output_type": "execute_result"
    }
   ],
   "source": [
    "df.head(10)"
   ]
  },
  {
   "cell_type": "code",
   "execution_count": 42,
   "metadata": {},
   "outputs": [
    {
     "data": {
      "text/html": [
       "<div>\n",
       "<style scoped>\n",
       "    .dataframe tbody tr th:only-of-type {\n",
       "        vertical-align: middle;\n",
       "    }\n",
       "\n",
       "    .dataframe tbody tr th {\n",
       "        vertical-align: top;\n",
       "    }\n",
       "\n",
       "    .dataframe thead th {\n",
       "        text-align: right;\n",
       "    }\n",
       "</style>\n",
       "<table border=\"1\" class=\"dataframe\">\n",
       "  <thead>\n",
       "    <tr style=\"text-align: right;\">\n",
       "      <th></th>\n",
       "      <th>year</th>\n",
       "      <th>rank</th>\n",
       "      <th>recipient</th>\n",
       "      <th>country</th>\n",
       "      <th>career</th>\n",
       "      <th>tied</th>\n",
       "      <th>title</th>\n",
       "    </tr>\n",
       "  </thead>\n",
       "  <tbody>\n",
       "    <tr>\n",
       "      <td>192</td>\n",
       "      <td>2018</td>\n",
       "      <td>1</td>\n",
       "      <td>Floyd Mayweather, Jr.</td>\n",
       "      <td>United States</td>\n",
       "      <td>Athlete (Boxing)</td>\n",
       "      <td>0</td>\n",
       "      <td>Floyd_Mayweather_Jr.</td>\n",
       "    </tr>\n",
       "    <tr>\n",
       "      <td>193</td>\n",
       "      <td>2018</td>\n",
       "      <td>2</td>\n",
       "      <td>George Clooney</td>\n",
       "      <td>United States</td>\n",
       "      <td>Actor</td>\n",
       "      <td>0</td>\n",
       "      <td>George_Clooney</td>\n",
       "    </tr>\n",
       "    <tr>\n",
       "      <td>194</td>\n",
       "      <td>2018</td>\n",
       "      <td>3</td>\n",
       "      <td>Kylie Jenner</td>\n",
       "      <td>United States</td>\n",
       "      <td>Personality</td>\n",
       "      <td>0</td>\n",
       "      <td>Kylie_Jenner</td>\n",
       "    </tr>\n",
       "    <tr>\n",
       "      <td>195</td>\n",
       "      <td>2018</td>\n",
       "      <td>4</td>\n",
       "      <td>Judy Sheindlin</td>\n",
       "      <td>United States</td>\n",
       "      <td>Personality</td>\n",
       "      <td>0</td>\n",
       "      <td>Judy_Sheindlin</td>\n",
       "    </tr>\n",
       "    <tr>\n",
       "      <td>196</td>\n",
       "      <td>2018</td>\n",
       "      <td>5</td>\n",
       "      <td>Dwayne Johnson</td>\n",
       "      <td>United States</td>\n",
       "      <td>Actor</td>\n",
       "      <td>0</td>\n",
       "      <td>Dwayne_Johnson</td>\n",
       "    </tr>\n",
       "    <tr>\n",
       "      <td>197</td>\n",
       "      <td>2018</td>\n",
       "      <td>6</td>\n",
       "      <td>U2</td>\n",
       "      <td>Republic of Ireland</td>\n",
       "      <td>Musicians</td>\n",
       "      <td>0</td>\n",
       "      <td>U2</td>\n",
       "    </tr>\n",
       "    <tr>\n",
       "      <td>198</td>\n",
       "      <td>2018</td>\n",
       "      <td>7</td>\n",
       "      <td>Coldplay</td>\n",
       "      <td>United Kingdom</td>\n",
       "      <td>Musicians</td>\n",
       "      <td>0</td>\n",
       "      <td>Coldplay</td>\n",
       "    </tr>\n",
       "    <tr>\n",
       "      <td>199</td>\n",
       "      <td>2018</td>\n",
       "      <td>8</td>\n",
       "      <td>Lionel Messi</td>\n",
       "      <td>Argentina</td>\n",
       "      <td>Athlete (Association football)</td>\n",
       "      <td>0</td>\n",
       "      <td>Lionel_Messi</td>\n",
       "    </tr>\n",
       "    <tr>\n",
       "      <td>200</td>\n",
       "      <td>2018</td>\n",
       "      <td>9</td>\n",
       "      <td>Ed Sheeran</td>\n",
       "      <td>United Kingdom</td>\n",
       "      <td>Musician</td>\n",
       "      <td>0</td>\n",
       "      <td>Ed_Sheeran</td>\n",
       "    </tr>\n",
       "    <tr>\n",
       "      <td>201</td>\n",
       "      <td>2018</td>\n",
       "      <td>10</td>\n",
       "      <td>Cristiano Ronaldo</td>\n",
       "      <td>Portugal</td>\n",
       "      <td>Athlete (Association football)</td>\n",
       "      <td>0</td>\n",
       "      <td>Cristiano_Ronaldo</td>\n",
       "    </tr>\n",
       "  </tbody>\n",
       "</table>\n",
       "</div>"
      ],
      "text/plain": [
       "     year  rank              recipient              country  \\\n",
       "192  2018     1  Floyd Mayweather, Jr.        United States   \n",
       "193  2018     2         George Clooney        United States   \n",
       "194  2018     3           Kylie Jenner        United States   \n",
       "195  2018     4         Judy Sheindlin        United States   \n",
       "196  2018     5         Dwayne Johnson        United States   \n",
       "197  2018     6                     U2  Republic of Ireland   \n",
       "198  2018     7               Coldplay       United Kingdom   \n",
       "199  2018     8           Lionel Messi            Argentina   \n",
       "200  2018     9             Ed Sheeran       United Kingdom   \n",
       "201  2018    10      Cristiano Ronaldo             Portugal   \n",
       "\n",
       "                             career  tied                 title  \n",
       "192                Athlete (Boxing)     0  Floyd_Mayweather_Jr.  \n",
       "193                           Actor     0        George_Clooney  \n",
       "194                     Personality     0          Kylie_Jenner  \n",
       "195                     Personality     0        Judy_Sheindlin  \n",
       "196                           Actor     0        Dwayne_Johnson  \n",
       "197                       Musicians     0                    U2  \n",
       "198                       Musicians     0              Coldplay  \n",
       "199  Athlete (Association football)     0          Lionel_Messi  \n",
       "200                        Musician     0            Ed_Sheeran  \n",
       "201  Athlete (Association football)     0     Cristiano_Ronaldo  "
      ]
     },
     "execution_count": 42,
     "metadata": {},
     "output_type": "execute_result"
    }
   ],
   "source": [
    "df.tail(10)"
   ]
  },
  {
   "cell_type": "code",
   "execution_count": 44,
   "metadata": {},
   "outputs": [
    {
     "data": {
      "text/plain": [
       "202"
      ]
     },
     "execution_count": 44,
     "metadata": {},
     "output_type": "execute_result"
    }
   ],
   "source": [
    "len(df)"
   ]
  },
  {
   "cell_type": "code",
   "execution_count": 45,
   "metadata": {},
   "outputs": [
    {
     "data": {
      "text/plain": [
       "Index(['year', 'rank', 'recipient', 'country', 'career', 'tied', 'title'], dtype='object')"
      ]
     },
     "execution_count": 45,
     "metadata": {},
     "output_type": "execute_result"
    }
   ],
   "source": [
    "df.columns"
   ]
  },
  {
   "cell_type": "code",
   "execution_count": 46,
   "metadata": {},
   "outputs": [
    {
     "data": {
      "text/plain": [
       "0         Michael Jordan\n",
       "1          Oprah Winfrey\n",
       "2      Leonardo DiCaprio\n",
       "3         Jerry Seinfeld\n",
       "4       Steven Spielberg\n",
       "             ...        \n",
       "197                   U2\n",
       "198             Coldplay\n",
       "199         Lionel Messi\n",
       "200           Ed Sheeran\n",
       "201    Cristiano Ronaldo\n",
       "Name: recipient, Length: 202, dtype: object"
      ]
     },
     "execution_count": 46,
     "metadata": {},
     "output_type": "execute_result"
    }
   ],
   "source": [
    "df[\"recipient\"] # this is a Pandas series (every vaue has an index)"
   ]
  },
  {
   "cell_type": "code",
   "execution_count": 47,
   "metadata": {},
   "outputs": [
    {
     "data": {
      "text/plain": [
       "0        Michael Jordan\n",
       "1         Oprah Winfrey\n",
       "2     Leonardo DiCaprio\n",
       "3        Jerry Seinfeld\n",
       "4      Steven Spielberg\n",
       "5           Spice Girls\n",
       "6         Harrison Ford\n",
       "7        Robin Williams\n",
       "8           Celine Dion\n",
       "9    The Rolling Stones\n",
       "Name: recipient, dtype: object"
      ]
     },
     "execution_count": 47,
     "metadata": {},
     "output_type": "execute_result"
    }
   ],
   "source": [
    "df[\"recipient\"].head(10) # this is the same procedure as for the dataframe earlier"
   ]
  },
  {
   "cell_type": "code",
   "execution_count": 48,
   "metadata": {},
   "outputs": [
    {
     "data": {
      "text/html": [
       "<div>\n",
       "<style scoped>\n",
       "    .dataframe tbody tr th:only-of-type {\n",
       "        vertical-align: middle;\n",
       "    }\n",
       "\n",
       "    .dataframe tbody tr th {\n",
       "        vertical-align: top;\n",
       "    }\n",
       "\n",
       "    .dataframe thead th {\n",
       "        text-align: right;\n",
       "    }\n",
       "</style>\n",
       "<table border=\"1\" class=\"dataframe\">\n",
       "  <thead>\n",
       "    <tr style=\"text-align: right;\">\n",
       "      <th></th>\n",
       "      <th>recipient</th>\n",
       "      <th>career</th>\n",
       "      <th>career</th>\n",
       "      <th>rank</th>\n",
       "    </tr>\n",
       "  </thead>\n",
       "  <tbody>\n",
       "    <tr>\n",
       "      <td>0</td>\n",
       "      <td>Michael Jordan</td>\n",
       "      <td>Sportsperson (Basketball)</td>\n",
       "      <td>Sportsperson (Basketball)</td>\n",
       "      <td>1</td>\n",
       "    </tr>\n",
       "    <tr>\n",
       "      <td>1</td>\n",
       "      <td>Oprah Winfrey</td>\n",
       "      <td>Television Personality</td>\n",
       "      <td>Television Personality</td>\n",
       "      <td>2</td>\n",
       "    </tr>\n",
       "    <tr>\n",
       "      <td>2</td>\n",
       "      <td>Leonardo DiCaprio</td>\n",
       "      <td>Actor</td>\n",
       "      <td>Actor</td>\n",
       "      <td>3</td>\n",
       "    </tr>\n",
       "    <tr>\n",
       "      <td>3</td>\n",
       "      <td>Jerry Seinfeld</td>\n",
       "      <td>Actor</td>\n",
       "      <td>Actor</td>\n",
       "      <td>4</td>\n",
       "    </tr>\n",
       "    <tr>\n",
       "      <td>4</td>\n",
       "      <td>Steven Spielberg</td>\n",
       "      <td>Filmmaker</td>\n",
       "      <td>Filmmaker</td>\n",
       "      <td>5</td>\n",
       "    </tr>\n",
       "  </tbody>\n",
       "</table>\n",
       "</div>"
      ],
      "text/plain": [
       "           recipient                     career                     career  \\\n",
       "0     Michael Jordan  Sportsperson (Basketball)  Sportsperson (Basketball)   \n",
       "1      Oprah Winfrey     Television Personality     Television Personality   \n",
       "2  Leonardo DiCaprio                      Actor                      Actor   \n",
       "3     Jerry Seinfeld                      Actor                      Actor   \n",
       "4   Steven Spielberg                  Filmmaker                  Filmmaker   \n",
       "\n",
       "   rank  \n",
       "0     1  \n",
       "1     2  \n",
       "2     3  \n",
       "3     4  \n",
       "4     5  "
      ]
     },
     "execution_count": 48,
     "metadata": {},
     "output_type": "execute_result"
    }
   ],
   "source": [
    "df[[\"recipient\", \"career\", \"career\", 'rank']].head()"
   ]
  },
  {
   "cell_type": "code",
   "execution_count": 49,
   "metadata": {},
   "outputs": [
    {
     "data": {
      "text/plain": [
       "<pandas.core.indexing._LocIndexer at 0x7f9c63692fb0>"
      ]
     },
     "execution_count": 49,
     "metadata": {},
     "output_type": "execute_result"
    }
   ],
   "source": [
    "df.loc"
   ]
  },
  {
   "cell_type": "code",
   "execution_count": 50,
   "metadata": {},
   "outputs": [
    {
     "data": {
      "text/plain": [
       "year                     1999\n",
       "rank                        5\n",
       "recipient    Steven Spielberg\n",
       "country         United States\n",
       "career              Filmmaker\n",
       "tied                        0\n",
       "title        Steven_Spielberg\n",
       "Name: 4, dtype: object"
      ]
     },
     "execution_count": 50,
     "metadata": {},
     "output_type": "execute_result"
    }
   ],
   "source": [
    "df.loc[4]"
   ]
  },
  {
   "cell_type": "code",
   "execution_count": 51,
   "metadata": {},
   "outputs": [
    {
     "data": {
      "text/plain": [
       "'Steven Spielberg'"
      ]
     },
     "execution_count": 51,
     "metadata": {},
     "output_type": "execute_result"
    }
   ],
   "source": [
    "df.loc[4, \"recipient\"]"
   ]
  },
  {
   "cell_type": "code",
   "execution_count": 52,
   "metadata": {},
   "outputs": [
    {
     "data": {
      "text/plain": [
       "Musician                               52\n",
       "Actor                                  37\n",
       "Musicians                              26\n",
       "Television Personality                 23\n",
       "Filmmaker                              14\n",
       "Sportsperson (Golf)                    12\n",
       "Sportsperson (Basketball)              10\n",
       "Author                                  7\n",
       "Sportsperson (Association Football)     5\n",
       "Radio Personality                       4\n",
       "Sportsperson (Boxing)                   3\n",
       "Personality                             2\n",
       "Musician / Actor                        2\n",
       "Athlete (Association football)          2\n",
       "Sportsperson (Tennis)                   1\n",
       "Actors                                  1\n",
       "Athlete (Boxing)                        1\n",
       "Name: career, dtype: int64"
      ]
     },
     "execution_count": 52,
     "metadata": {},
     "output_type": "execute_result"
    }
   ],
   "source": [
    "df[\"career\"].value_counts() # this is sorted fro highest to lowest count"
   ]
  },
  {
   "cell_type": "code",
   "execution_count": 53,
   "metadata": {},
   "outputs": [
    {
     "data": {
      "text/plain": [
       "United States                         155\n",
       "United Kingdom                         22\n",
       "Canada                                  7\n",
       "Republic of Ireland                     5\n",
       "Portugal                                4\n",
       "Barbados                                2\n",
       "Argentina                               2\n",
       "United Kingdom/Republic of Ireland      2\n",
       "Various                                 1\n",
       "Philippines                             1\n",
       "Switzerland                             1\n",
       "Name: country, dtype: int64"
      ]
     },
     "execution_count": 53,
     "metadata": {},
     "output_type": "execute_result"
    }
   ],
   "source": [
    "df[\"country\"].value_counts()"
   ]
  },
  {
   "cell_type": "code",
   "execution_count": 55,
   "metadata": {},
   "outputs": [
    {
     "data": {
      "text/plain": [
       "United States                         155\n",
       "United Kingdom                         22\n",
       "Canada                                  7\n",
       "Republic of Ireland                     5\n",
       "Portugal                                4\n",
       "Barbados                                2\n",
       "Argentina                               2\n",
       "United Kingdom/Republic of Ireland      2\n",
       "Various                                 1\n",
       "Philippines                             1\n",
       "Switzerland                             1\n",
       "Name: country, dtype: int64"
      ]
     },
     "execution_count": 55,
     "metadata": {},
     "output_type": "execute_result"
    }
   ],
   "source": [
    "df[\"country\"].value_counts()"
   ]
  },
  {
   "cell_type": "code",
   "execution_count": 57,
   "metadata": {},
   "outputs": [
    {
     "data": {
      "text/html": [
       "<div>\n",
       "<style scoped>\n",
       "    .dataframe tbody tr th:only-of-type {\n",
       "        vertical-align: middle;\n",
       "    }\n",
       "\n",
       "    .dataframe tbody tr th {\n",
       "        vertical-align: top;\n",
       "    }\n",
       "\n",
       "    .dataframe thead th {\n",
       "        text-align: right;\n",
       "    }\n",
       "</style>\n",
       "<table border=\"1\" class=\"dataframe\">\n",
       "  <thead>\n",
       "    <tr style=\"text-align: right;\">\n",
       "      <th></th>\n",
       "      <th>year</th>\n",
       "      <th>rank</th>\n",
       "      <th>recipient</th>\n",
       "      <th>country</th>\n",
       "      <th>career</th>\n",
       "      <th>tied</th>\n",
       "      <th>title</th>\n",
       "    </tr>\n",
       "  </thead>\n",
       "  <tbody>\n",
       "    <tr>\n",
       "      <td>163</td>\n",
       "      <td>2015</td>\n",
       "      <td>2</td>\n",
       "      <td>Manny Pacquiao</td>\n",
       "      <td>Philippines</td>\n",
       "      <td>Sportsperson (Boxing)</td>\n",
       "      <td>0</td>\n",
       "      <td>Manny_Pacquiao</td>\n",
       "    </tr>\n",
       "  </tbody>\n",
       "</table>\n",
       "</div>"
      ],
      "text/plain": [
       "     year  rank       recipient      country                 career  tied  \\\n",
       "163  2015     2  Manny Pacquiao  Philippines  Sportsperson (Boxing)     0   \n",
       "\n",
       "              title  \n",
       "163  Manny_Pacquiao  "
      ]
     },
     "execution_count": 57,
     "metadata": {},
     "output_type": "execute_result"
    }
   ],
   "source": [
    "df[df[\"country\"]==\"Philippines\"]"
   ]
  },
  {
   "cell_type": "code",
   "execution_count": 58,
   "metadata": {},
   "outputs": [
    {
     "data": {
      "text/html": [
       "<div>\n",
       "<style scoped>\n",
       "    .dataframe tbody tr th:only-of-type {\n",
       "        vertical-align: middle;\n",
       "    }\n",
       "\n",
       "    .dataframe tbody tr th {\n",
       "        vertical-align: top;\n",
       "    }\n",
       "\n",
       "    .dataframe thead th {\n",
       "        text-align: right;\n",
       "    }\n",
       "</style>\n",
       "<table border=\"1\" class=\"dataframe\">\n",
       "  <thead>\n",
       "    <tr style=\"text-align: right;\">\n",
       "      <th></th>\n",
       "      <th>year</th>\n",
       "      <th>rank</th>\n",
       "      <th>recipient</th>\n",
       "      <th>country</th>\n",
       "      <th>career</th>\n",
       "      <th>tied</th>\n",
       "      <th>title</th>\n",
       "    </tr>\n",
       "  </thead>\n",
       "  <tbody>\n",
       "    <tr>\n",
       "      <td>162</td>\n",
       "      <td>2015</td>\n",
       "      <td>1</td>\n",
       "      <td>Floyd Mayweather, Jr.</td>\n",
       "      <td>United States</td>\n",
       "      <td>Sportsperson (Boxing)</td>\n",
       "      <td>0</td>\n",
       "      <td>Floyd_Mayweather_Jr.</td>\n",
       "    </tr>\n",
       "    <tr>\n",
       "      <td>163</td>\n",
       "      <td>2015</td>\n",
       "      <td>2</td>\n",
       "      <td>Manny Pacquiao</td>\n",
       "      <td>Philippines</td>\n",
       "      <td>Sportsperson (Boxing)</td>\n",
       "      <td>0</td>\n",
       "      <td>Manny_Pacquiao</td>\n",
       "    </tr>\n",
       "    <tr>\n",
       "      <td>164</td>\n",
       "      <td>2015</td>\n",
       "      <td>3</td>\n",
       "      <td>Katy Perry</td>\n",
       "      <td>United States</td>\n",
       "      <td>Musician</td>\n",
       "      <td>0</td>\n",
       "      <td>Katy_Perry</td>\n",
       "    </tr>\n",
       "    <tr>\n",
       "      <td>165</td>\n",
       "      <td>2015</td>\n",
       "      <td>4</td>\n",
       "      <td>One Direction</td>\n",
       "      <td>United Kingdom/Republic of Ireland</td>\n",
       "      <td>Musicians</td>\n",
       "      <td>0</td>\n",
       "      <td>One_Direction</td>\n",
       "    </tr>\n",
       "    <tr>\n",
       "      <td>166</td>\n",
       "      <td>2015</td>\n",
       "      <td>5</td>\n",
       "      <td>Howard Stern</td>\n",
       "      <td>United States</td>\n",
       "      <td>Television Personality</td>\n",
       "      <td>0</td>\n",
       "      <td>Howard_Stern</td>\n",
       "    </tr>\n",
       "  </tbody>\n",
       "</table>\n",
       "</div>"
      ],
      "text/plain": [
       "     year  rank              recipient                             country  \\\n",
       "162  2015     1  Floyd Mayweather, Jr.                       United States   \n",
       "163  2015     2         Manny Pacquiao                         Philippines   \n",
       "164  2015     3             Katy Perry                       United States   \n",
       "165  2015     4          One Direction  United Kingdom/Republic of Ireland   \n",
       "166  2015     5           Howard Stern                       United States   \n",
       "\n",
       "                     career  tied                 title  \n",
       "162   Sportsperson (Boxing)     0  Floyd_Mayweather_Jr.  \n",
       "163   Sportsperson (Boxing)     0        Manny_Pacquiao  \n",
       "164                Musician     0            Katy_Perry  \n",
       "165               Musicians     0         One_Direction  \n",
       "166  Television Personality     0          Howard_Stern  "
      ]
     },
     "execution_count": 58,
     "metadata": {},
     "output_type": "execute_result"
    }
   ],
   "source": [
    "df[(df[\"rank\"]<=5) & (df[\"year\"]==2015)] "
   ]
  },
  {
   "cell_type": "code",
   "execution_count": 59,
   "metadata": {},
   "outputs": [],
   "source": [
    "recipients = pd.unique(df[\"recipient\"])"
   ]
  },
  {
   "cell_type": "code",
   "execution_count": 60,
   "metadata": {},
   "outputs": [
    {
     "data": {
      "text/plain": [
       "82"
      ]
     },
     "execution_count": 60,
     "metadata": {},
     "output_type": "execute_result"
    }
   ],
   "source": [
    "len(recipients)"
   ]
  },
  {
   "cell_type": "code",
   "execution_count": 61,
   "metadata": {},
   "outputs": [
    {
     "data": {
      "text/plain": [
       "array(['Michael Jordan', 'Oprah Winfrey', 'Leonardo DiCaprio',\n",
       "       'Jerry Seinfeld', 'Steven Spielberg', 'Spice Girls',\n",
       "       'Harrison Ford', 'Robin Williams', 'Celine Dion',\n",
       "       'The Rolling Stones', 'Julia Roberts', 'George Lucas', 'Tom Hanks',\n",
       "       'Tiger Woods', 'Backstreet Boys', 'Cher', 'Tom Cruise',\n",
       "       'The Beatles', 'Britney Spears', 'Bruce Willis', 'NSYNC',\n",
       "       'Mel Gibson', 'Madonna', 'U2', 'Mariah Carey', 'Jennifer Aniston',\n",
       "       'Eminem', 'Dr. Dre', 'Jennifer Lopez', 'Paul McCartney',\n",
       "       'Ben Affleck', 'J. K. Rowling', 'Bruce Springsteen', 'Johnny Depp',\n",
       "       \"Shaquille O'Neal\", 'Elton John', 'Howard Stern', '50 Cent',\n",
       "       'Cast of The Sopranos', 'Dan Brown', 'Brad Pitt', 'Jay-Z',\n",
       "       'Angelina Jolie', 'Beyonce', 'David Beckham', 'The Police',\n",
       "       'Paula Deen', 'Kobe Bryant', 'James Cameron', 'Lady Gaga',\n",
       "       'Sandra Bullock', 'Justin Bieber', 'Taylor Swift', 'Bon Jovi',\n",
       "       'Simon Cowell', 'LeBron James', 'Rihanna', 'Kim Kardashian',\n",
       "       'Katy Perry', 'Roger Federer', 'Ellen DeGeneres',\n",
       "       'Floyd Mayweather, Jr.', 'Robert Downey, Jr.', 'Manny Pacquiao',\n",
       "       'One Direction', 'Garth Brooks', 'James Patterson',\n",
       "       'Cristiano Ronaldo', 'Dr. Phil McGraw', 'Kevin Hart',\n",
       "       'Lionel Messi', 'Adele', 'Rush Limbaugh', \"Sean 'Diddy' Combs\",\n",
       "       'Drake', 'The Weeknd', 'Coldplay', 'George Clooney',\n",
       "       'Kylie Jenner', 'Judy Sheindlin', 'Dwayne Johnson', 'Ed Sheeran'],\n",
       "      dtype=object)"
      ]
     },
     "execution_count": 61,
     "metadata": {},
     "output_type": "execute_result"
    }
   ],
   "source": [
    "recipients"
   ]
  },
  {
   "cell_type": "code",
   "execution_count": 62,
   "metadata": {},
   "outputs": [
    {
     "data": {
      "text/plain": [
       "82"
      ]
     },
     "execution_count": 62,
     "metadata": {},
     "output_type": "execute_result"
    }
   ],
   "source": [
    "len(recipients)"
   ]
  },
  {
   "cell_type": "code",
   "execution_count": 63,
   "metadata": {},
   "outputs": [
    {
     "data": {
      "text/plain": [
       "array(['Michael Jordan', 'Oprah Winfrey', 'Leonardo DiCaprio',\n",
       "       'Jerry Seinfeld', 'Steven Spielberg', 'Spice Girls',\n",
       "       'Harrison Ford', 'Robin Williams', 'Celine Dion',\n",
       "       'The Rolling Stones', 'Julia Roberts', 'George Lucas', 'Tom Hanks',\n",
       "       'Tiger Woods', 'Backstreet Boys', 'Cher', 'Tom Cruise',\n",
       "       'The Beatles', 'Britney Spears', 'Bruce Willis', 'NSYNC',\n",
       "       'Mel Gibson', 'Madonna', 'U2', 'Mariah Carey', 'Jennifer Aniston',\n",
       "       'Eminem', 'Dr. Dre', 'Jennifer Lopez', 'Paul McCartney',\n",
       "       'Ben Affleck', 'J. K. Rowling', 'Bruce Springsteen', 'Johnny Depp',\n",
       "       \"Shaquille O'Neal\", 'Elton John', 'Howard Stern', '50 Cent',\n",
       "       'Cast of The Sopranos', 'Dan Brown', 'Brad Pitt', 'Jay-Z',\n",
       "       'Angelina Jolie', 'Beyonce', 'David Beckham', 'The Police',\n",
       "       'Paula Deen', 'Kobe Bryant', 'James Cameron', 'Lady Gaga',\n",
       "       'Sandra Bullock', 'Justin Bieber', 'Taylor Swift', 'Bon Jovi',\n",
       "       'Simon Cowell', 'LeBron James', 'Rihanna', 'Kim Kardashian',\n",
       "       'Katy Perry', 'Roger Federer', 'Ellen DeGeneres',\n",
       "       'Floyd Mayweather, Jr.', 'Robert Downey, Jr.', 'Manny Pacquiao',\n",
       "       'One Direction', 'Garth Brooks', 'James Patterson',\n",
       "       'Cristiano Ronaldo', 'Dr. Phil McGraw', 'Kevin Hart',\n",
       "       'Lionel Messi', 'Adele', 'Rush Limbaugh', \"Sean 'Diddy' Combs\",\n",
       "       'Drake', 'The Weeknd', 'Coldplay', 'George Clooney',\n",
       "       'Kylie Jenner', 'Judy Sheindlin', 'Dwayne Johnson', 'Ed Sheeran'],\n",
       "      dtype=object)"
      ]
     },
     "execution_count": 63,
     "metadata": {},
     "output_type": "execute_result"
    }
   ],
   "source": [
    "recipients"
   ]
  },
  {
   "cell_type": "code",
   "execution_count": 65,
   "metadata": {},
   "outputs": [
    {
     "data": {
      "text/html": [
       "<div>\n",
       "<style scoped>\n",
       "    .dataframe tbody tr th:only-of-type {\n",
       "        vertical-align: middle;\n",
       "    }\n",
       "\n",
       "    .dataframe tbody tr th {\n",
       "        vertical-align: top;\n",
       "    }\n",
       "\n",
       "    .dataframe thead th {\n",
       "        text-align: right;\n",
       "    }\n",
       "</style>\n",
       "<table border=\"1\" class=\"dataframe\">\n",
       "  <thead>\n",
       "    <tr style=\"text-align: right;\">\n",
       "      <th></th>\n",
       "      <th>year</th>\n",
       "      <th>rank</th>\n",
       "      <th>recipient</th>\n",
       "      <th>country</th>\n",
       "      <th>career</th>\n",
       "      <th>tied</th>\n",
       "      <th>title</th>\n",
       "    </tr>\n",
       "  </thead>\n",
       "  <tbody>\n",
       "    <tr>\n",
       "      <td>78</td>\n",
       "      <td>2006</td>\n",
       "      <td>8</td>\n",
       "      <td>50 Cent</td>\n",
       "      <td>United States</td>\n",
       "      <td>Musician</td>\n",
       "      <td>0</td>\n",
       "      <td>50_Cent</td>\n",
       "    </tr>\n",
       "    <tr>\n",
       "      <td>180</td>\n",
       "      <td>2016</td>\n",
       "      <td>9</td>\n",
       "      <td>Adele</td>\n",
       "      <td>United Kingdom</td>\n",
       "      <td>Musician</td>\n",
       "      <td>0</td>\n",
       "      <td>Adele</td>\n",
       "    </tr>\n",
       "    <tr>\n",
       "      <td>93</td>\n",
       "      <td>2008</td>\n",
       "      <td>3</td>\n",
       "      <td>Angelina Jolie</td>\n",
       "      <td>United States</td>\n",
       "      <td>Actor</td>\n",
       "      <td>0</td>\n",
       "      <td>Angelina_Jolie</td>\n",
       "    </tr>\n",
       "    <tr>\n",
       "      <td>102</td>\n",
       "      <td>2009</td>\n",
       "      <td>1</td>\n",
       "      <td>Angelina Jolie</td>\n",
       "      <td>United States</td>\n",
       "      <td>Actor</td>\n",
       "      <td>0</td>\n",
       "      <td>Angelina_Jolie</td>\n",
       "    </tr>\n",
       "    <tr>\n",
       "      <td>26</td>\n",
       "      <td>2001</td>\n",
       "      <td>7</td>\n",
       "      <td>Backstreet Boys</td>\n",
       "      <td>United States</td>\n",
       "      <td>Musicians</td>\n",
       "      <td>0</td>\n",
       "      <td>Backstreet_Boys</td>\n",
       "    </tr>\n",
       "    <tr>\n",
       "      <td>...</td>\n",
       "      <td>...</td>\n",
       "      <td>...</td>\n",
       "      <td>...</td>\n",
       "      <td>...</td>\n",
       "      <td>...</td>\n",
       "      <td>...</td>\n",
       "      <td>...</td>\n",
       "    </tr>\n",
       "    <tr>\n",
       "      <td>74</td>\n",
       "      <td>2006</td>\n",
       "      <td>4</td>\n",
       "      <td>U2</td>\n",
       "      <td>Republic of Ireland</td>\n",
       "      <td>Musicians</td>\n",
       "      <td>0</td>\n",
       "      <td>U2</td>\n",
       "    </tr>\n",
       "    <tr>\n",
       "      <td>125</td>\n",
       "      <td>2011</td>\n",
       "      <td>4</td>\n",
       "      <td>U2</td>\n",
       "      <td>Republic of Ireland</td>\n",
       "      <td>Musicians</td>\n",
       "      <td>0</td>\n",
       "      <td>U2</td>\n",
       "    </tr>\n",
       "    <tr>\n",
       "      <td>118</td>\n",
       "      <td>2010</td>\n",
       "      <td>7</td>\n",
       "      <td>U2</td>\n",
       "      <td>Republic of Ireland</td>\n",
       "      <td>Musicians</td>\n",
       "      <td>0</td>\n",
       "      <td>U2</td>\n",
       "    </tr>\n",
       "    <tr>\n",
       "      <td>197</td>\n",
       "      <td>2018</td>\n",
       "      <td>6</td>\n",
       "      <td>U2</td>\n",
       "      <td>Republic of Ireland</td>\n",
       "      <td>Musicians</td>\n",
       "      <td>0</td>\n",
       "      <td>U2</td>\n",
       "    </tr>\n",
       "    <tr>\n",
       "      <td>34</td>\n",
       "      <td>2002</td>\n",
       "      <td>5</td>\n",
       "      <td>U2</td>\n",
       "      <td>Republic of Ireland</td>\n",
       "      <td>Musicians</td>\n",
       "      <td>0</td>\n",
       "      <td>U2</td>\n",
       "    </tr>\n",
       "  </tbody>\n",
       "</table>\n",
       "<p>202 rows × 7 columns</p>\n",
       "</div>"
      ],
      "text/plain": [
       "     year  rank        recipient              country     career  tied  \\\n",
       "78   2006     8          50 Cent        United States   Musician     0   \n",
       "180  2016     9            Adele       United Kingdom   Musician     0   \n",
       "93   2008     3   Angelina Jolie        United States      Actor     0   \n",
       "102  2009     1   Angelina Jolie        United States      Actor     0   \n",
       "26   2001     7  Backstreet Boys        United States  Musicians     0   \n",
       "..    ...   ...              ...                  ...        ...   ...   \n",
       "74   2006     4               U2  Republic of Ireland  Musicians     0   \n",
       "125  2011     4               U2  Republic of Ireland  Musicians     0   \n",
       "118  2010     7               U2  Republic of Ireland  Musicians     0   \n",
       "197  2018     6               U2  Republic of Ireland  Musicians     0   \n",
       "34   2002     5               U2  Republic of Ireland  Musicians     0   \n",
       "\n",
       "               title  \n",
       "78           50_Cent  \n",
       "180            Adele  \n",
       "93    Angelina_Jolie  \n",
       "102   Angelina_Jolie  \n",
       "26   Backstreet_Boys  \n",
       "..               ...  \n",
       "74                U2  \n",
       "125               U2  \n",
       "118               U2  \n",
       "197               U2  \n",
       "34                U2  \n",
       "\n",
       "[202 rows x 7 columns]"
      ]
     },
     "execution_count": 65,
     "metadata": {},
     "output_type": "execute_result"
    }
   ],
   "source": [
    "df.sort_values(by=\"recipient\") # this is arranged alphabetically"
   ]
  },
  {
   "cell_type": "code",
   "execution_count": 66,
   "metadata": {},
   "outputs": [
    {
     "data": {
      "text/html": [
       "<div>\n",
       "<style scoped>\n",
       "    .dataframe tbody tr th:only-of-type {\n",
       "        vertical-align: middle;\n",
       "    }\n",
       "\n",
       "    .dataframe tbody tr th {\n",
       "        vertical-align: top;\n",
       "    }\n",
       "\n",
       "    .dataframe thead th {\n",
       "        text-align: right;\n",
       "    }\n",
       "</style>\n",
       "<table border=\"1\" class=\"dataframe\">\n",
       "  <thead>\n",
       "    <tr style=\"text-align: right;\">\n",
       "      <th></th>\n",
       "      <th>year</th>\n",
       "      <th>rank</th>\n",
       "      <th>recipient</th>\n",
       "      <th>country</th>\n",
       "      <th>career</th>\n",
       "      <th>tied</th>\n",
       "      <th>title</th>\n",
       "    </tr>\n",
       "  </thead>\n",
       "  <tbody>\n",
       "    <tr>\n",
       "      <td>197</td>\n",
       "      <td>2018</td>\n",
       "      <td>6</td>\n",
       "      <td>U2</td>\n",
       "      <td>Republic of Ireland</td>\n",
       "      <td>Musicians</td>\n",
       "      <td>0</td>\n",
       "      <td>U2</td>\n",
       "    </tr>\n",
       "    <tr>\n",
       "      <td>118</td>\n",
       "      <td>2010</td>\n",
       "      <td>7</td>\n",
       "      <td>U2</td>\n",
       "      <td>Republic of Ireland</td>\n",
       "      <td>Musicians</td>\n",
       "      <td>0</td>\n",
       "      <td>U2</td>\n",
       "    </tr>\n",
       "    <tr>\n",
       "      <td>34</td>\n",
       "      <td>2002</td>\n",
       "      <td>5</td>\n",
       "      <td>U2</td>\n",
       "      <td>Republic of Ireland</td>\n",
       "      <td>Musicians</td>\n",
       "      <td>0</td>\n",
       "      <td>U2</td>\n",
       "    </tr>\n",
       "    <tr>\n",
       "      <td>125</td>\n",
       "      <td>2011</td>\n",
       "      <td>4</td>\n",
       "      <td>U2</td>\n",
       "      <td>Republic of Ireland</td>\n",
       "      <td>Musicians</td>\n",
       "      <td>0</td>\n",
       "      <td>U2</td>\n",
       "    </tr>\n",
       "    <tr>\n",
       "      <td>74</td>\n",
       "      <td>2006</td>\n",
       "      <td>4</td>\n",
       "      <td>U2</td>\n",
       "      <td>Republic of Ireland</td>\n",
       "      <td>Musicians</td>\n",
       "      <td>0</td>\n",
       "      <td>U2</td>\n",
       "    </tr>\n",
       "    <tr>\n",
       "      <td>...</td>\n",
       "      <td>...</td>\n",
       "      <td>...</td>\n",
       "      <td>...</td>\n",
       "      <td>...</td>\n",
       "      <td>...</td>\n",
       "      <td>...</td>\n",
       "      <td>...</td>\n",
       "    </tr>\n",
       "    <tr>\n",
       "      <td>17</td>\n",
       "      <td>2000</td>\n",
       "      <td>8</td>\n",
       "      <td>Backstreet Boys</td>\n",
       "      <td>United States</td>\n",
       "      <td>Musicians</td>\n",
       "      <td>0</td>\n",
       "      <td>Backstreet_Boys</td>\n",
       "    </tr>\n",
       "    <tr>\n",
       "      <td>102</td>\n",
       "      <td>2009</td>\n",
       "      <td>1</td>\n",
       "      <td>Angelina Jolie</td>\n",
       "      <td>United States</td>\n",
       "      <td>Actor</td>\n",
       "      <td>0</td>\n",
       "      <td>Angelina_Jolie</td>\n",
       "    </tr>\n",
       "    <tr>\n",
       "      <td>93</td>\n",
       "      <td>2008</td>\n",
       "      <td>3</td>\n",
       "      <td>Angelina Jolie</td>\n",
       "      <td>United States</td>\n",
       "      <td>Actor</td>\n",
       "      <td>0</td>\n",
       "      <td>Angelina_Jolie</td>\n",
       "    </tr>\n",
       "    <tr>\n",
       "      <td>180</td>\n",
       "      <td>2016</td>\n",
       "      <td>9</td>\n",
       "      <td>Adele</td>\n",
       "      <td>United Kingdom</td>\n",
       "      <td>Musician</td>\n",
       "      <td>0</td>\n",
       "      <td>Adele</td>\n",
       "    </tr>\n",
       "    <tr>\n",
       "      <td>78</td>\n",
       "      <td>2006</td>\n",
       "      <td>8</td>\n",
       "      <td>50 Cent</td>\n",
       "      <td>United States</td>\n",
       "      <td>Musician</td>\n",
       "      <td>0</td>\n",
       "      <td>50_Cent</td>\n",
       "    </tr>\n",
       "  </tbody>\n",
       "</table>\n",
       "<p>202 rows × 7 columns</p>\n",
       "</div>"
      ],
      "text/plain": [
       "     year  rank        recipient              country     career  tied  \\\n",
       "197  2018     6               U2  Republic of Ireland  Musicians     0   \n",
       "118  2010     7               U2  Republic of Ireland  Musicians     0   \n",
       "34   2002     5               U2  Republic of Ireland  Musicians     0   \n",
       "125  2011     4               U2  Republic of Ireland  Musicians     0   \n",
       "74   2006     4               U2  Republic of Ireland  Musicians     0   \n",
       "..    ...   ...              ...                  ...        ...   ...   \n",
       "17   2000     8  Backstreet Boys        United States  Musicians     0   \n",
       "102  2009     1   Angelina Jolie        United States      Actor     0   \n",
       "93   2008     3   Angelina Jolie        United States      Actor     0   \n",
       "180  2016     9            Adele       United Kingdom   Musician     0   \n",
       "78   2006     8          50 Cent        United States   Musician     0   \n",
       "\n",
       "               title  \n",
       "197               U2  \n",
       "118               U2  \n",
       "34                U2  \n",
       "125               U2  \n",
       "74                U2  \n",
       "..               ...  \n",
       "17   Backstreet_Boys  \n",
       "102   Angelina_Jolie  \n",
       "93    Angelina_Jolie  \n",
       "180            Adele  \n",
       "78           50_Cent  \n",
       "\n",
       "[202 rows x 7 columns]"
      ]
     },
     "execution_count": 66,
     "metadata": {},
     "output_type": "execute_result"
    }
   ],
   "source": [
    "df.sort_values(by=\"recipient\", ascending=False)"
   ]
  },
  {
   "cell_type": "code",
   "execution_count": 68,
   "metadata": {},
   "outputs": [
    {
     "data": {
      "text/html": [
       "<div>\n",
       "<style scoped>\n",
       "    .dataframe tbody tr th:only-of-type {\n",
       "        vertical-align: middle;\n",
       "    }\n",
       "\n",
       "    .dataframe tbody tr th {\n",
       "        vertical-align: top;\n",
       "    }\n",
       "\n",
       "    .dataframe thead th {\n",
       "        text-align: right;\n",
       "    }\n",
       "</style>\n",
       "<table border=\"1\" class=\"dataframe\">\n",
       "  <thead>\n",
       "    <tr style=\"text-align: right;\">\n",
       "      <th></th>\n",
       "      <th>year</th>\n",
       "      <th>rank</th>\n",
       "      <th>recipient</th>\n",
       "      <th>country</th>\n",
       "      <th>career</th>\n",
       "      <th>tied</th>\n",
       "      <th>title</th>\n",
       "    </tr>\n",
       "  </thead>\n",
       "  <tbody>\n",
       "    <tr>\n",
       "      <td>192</td>\n",
       "      <td>2018</td>\n",
       "      <td>1</td>\n",
       "      <td>Floyd Mayweather, Jr.</td>\n",
       "      <td>United States</td>\n",
       "      <td>Athlete (Boxing)</td>\n",
       "      <td>0</td>\n",
       "      <td>Floyd_Mayweather_Jr.</td>\n",
       "    </tr>\n",
       "    <tr>\n",
       "      <td>182</td>\n",
       "      <td>2017</td>\n",
       "      <td>1</td>\n",
       "      <td>Sean 'Diddy' Combs</td>\n",
       "      <td>United States</td>\n",
       "      <td>Musician</td>\n",
       "      <td>0</td>\n",
       "      <td>Sean_Combs</td>\n",
       "    </tr>\n",
       "    <tr>\n",
       "      <td>172</td>\n",
       "      <td>2016</td>\n",
       "      <td>1</td>\n",
       "      <td>Taylor Swift</td>\n",
       "      <td>United States</td>\n",
       "      <td>Musician</td>\n",
       "      <td>0</td>\n",
       "      <td>Taylor_Swift</td>\n",
       "    </tr>\n",
       "    <tr>\n",
       "      <td>162</td>\n",
       "      <td>2015</td>\n",
       "      <td>1</td>\n",
       "      <td>Floyd Mayweather, Jr.</td>\n",
       "      <td>United States</td>\n",
       "      <td>Sportsperson (Boxing)</td>\n",
       "      <td>0</td>\n",
       "      <td>Floyd_Mayweather_Jr.</td>\n",
       "    </tr>\n",
       "    <tr>\n",
       "      <td>152</td>\n",
       "      <td>2014</td>\n",
       "      <td>1</td>\n",
       "      <td>Beyonce</td>\n",
       "      <td>United States</td>\n",
       "      <td>Musician</td>\n",
       "      <td>0</td>\n",
       "      <td>Beyoncé</td>\n",
       "    </tr>\n",
       "    <tr>\n",
       "      <td>...</td>\n",
       "      <td>...</td>\n",
       "      <td>...</td>\n",
       "      <td>...</td>\n",
       "      <td>...</td>\n",
       "      <td>...</td>\n",
       "      <td>...</td>\n",
       "      <td>...</td>\n",
       "    </tr>\n",
       "    <tr>\n",
       "      <td>50</td>\n",
       "      <td>2003</td>\n",
       "      <td>10</td>\n",
       "      <td>The Rolling Stones</td>\n",
       "      <td>United Kingdom</td>\n",
       "      <td>Musicians</td>\n",
       "      <td>0</td>\n",
       "      <td>The_Rolling_Stones</td>\n",
       "    </tr>\n",
       "    <tr>\n",
       "      <td>39</td>\n",
       "      <td>2002</td>\n",
       "      <td>10</td>\n",
       "      <td>Tom Hanks</td>\n",
       "      <td>United States</td>\n",
       "      <td>Actor</td>\n",
       "      <td>0</td>\n",
       "      <td>Tom_Hanks</td>\n",
       "    </tr>\n",
       "    <tr>\n",
       "      <td>29</td>\n",
       "      <td>2001</td>\n",
       "      <td>10</td>\n",
       "      <td>Mel Gibson</td>\n",
       "      <td>United States</td>\n",
       "      <td>Actor</td>\n",
       "      <td>0</td>\n",
       "      <td>Mel_Gibson</td>\n",
       "    </tr>\n",
       "    <tr>\n",
       "      <td>19</td>\n",
       "      <td>2000</td>\n",
       "      <td>10</td>\n",
       "      <td>Steven Spielberg</td>\n",
       "      <td>United States</td>\n",
       "      <td>Filmmaker</td>\n",
       "      <td>0</td>\n",
       "      <td>Steven_Spielberg</td>\n",
       "    </tr>\n",
       "    <tr>\n",
       "      <td>9</td>\n",
       "      <td>1999</td>\n",
       "      <td>10</td>\n",
       "      <td>The Rolling Stones</td>\n",
       "      <td>United Kingdom</td>\n",
       "      <td>Musicians</td>\n",
       "      <td>0</td>\n",
       "      <td>The_Rolling_Stones</td>\n",
       "    </tr>\n",
       "  </tbody>\n",
       "</table>\n",
       "<p>202 rows × 7 columns</p>\n",
       "</div>"
      ],
      "text/plain": [
       "     year  rank              recipient         country                 career  \\\n",
       "192  2018     1  Floyd Mayweather, Jr.   United States       Athlete (Boxing)   \n",
       "182  2017     1     Sean 'Diddy' Combs   United States               Musician   \n",
       "172  2016     1           Taylor Swift   United States               Musician   \n",
       "162  2015     1  Floyd Mayweather, Jr.   United States  Sportsperson (Boxing)   \n",
       "152  2014     1                Beyonce   United States               Musician   \n",
       "..    ...   ...                    ...             ...                    ...   \n",
       "50   2003    10     The Rolling Stones  United Kingdom              Musicians   \n",
       "39   2002    10              Tom Hanks   United States                  Actor   \n",
       "29   2001    10             Mel Gibson   United States                  Actor   \n",
       "19   2000    10       Steven Spielberg   United States              Filmmaker   \n",
       "9    1999    10     The Rolling Stones  United Kingdom              Musicians   \n",
       "\n",
       "     tied                 title  \n",
       "192     0  Floyd_Mayweather_Jr.  \n",
       "182     0            Sean_Combs  \n",
       "172     0          Taylor_Swift  \n",
       "162     0  Floyd_Mayweather_Jr.  \n",
       "152     0               Beyoncé  \n",
       "..    ...                   ...  \n",
       "50      0    The_Rolling_Stones  \n",
       "39      0             Tom_Hanks  \n",
       "29      0            Mel_Gibson  \n",
       "19      0      Steven_Spielberg  \n",
       "9       0    The_Rolling_Stones  \n",
       "\n",
       "[202 rows x 7 columns]"
      ]
     },
     "execution_count": 68,
     "metadata": {},
     "output_type": "execute_result"
    }
   ],
   "source": [
    "df.sort_values(by=[\"rank\", \"year\"], ascending=[True, False])"
   ]
  },
  {
   "cell_type": "code",
   "execution_count": 70,
   "metadata": {},
   "outputs": [
    {
     "data": {
      "text/plain": [
       "158    Floyd Mayweather, Jr.\n",
       "162    Floyd Mayweather, Jr.\n",
       "163           Manny Pacquiao\n",
       "Name: recipient, dtype: object"
      ]
     },
     "execution_count": 70,
     "metadata": {},
     "output_type": "execute_result"
    }
   ],
   "source": [
    "df.loc[df[\"career\"]==\"Sportsperson (Boxing)\", \"recipient\"]\n",
    "# this returns a pandas Series"
   ]
  },
  {
   "cell_type": "code",
   "execution_count": 72,
   "metadata": {},
   "outputs": [
    {
     "data": {
      "text/html": [
       "<div>\n",
       "<style scoped>\n",
       "    .dataframe tbody tr th:only-of-type {\n",
       "        vertical-align: middle;\n",
       "    }\n",
       "\n",
       "    .dataframe tbody tr th {\n",
       "        vertical-align: top;\n",
       "    }\n",
       "\n",
       "    .dataframe thead th {\n",
       "        text-align: right;\n",
       "    }\n",
       "</style>\n",
       "<table border=\"1\" class=\"dataframe\">\n",
       "  <thead>\n",
       "    <tr style=\"text-align: right;\">\n",
       "      <th></th>\n",
       "      <th>recipient</th>\n",
       "      <th>year</th>\n",
       "      <th>rank</th>\n",
       "    </tr>\n",
       "  </thead>\n",
       "  <tbody>\n",
       "    <tr>\n",
       "      <td>158</td>\n",
       "      <td>Floyd Mayweather, Jr.</td>\n",
       "      <td>2014</td>\n",
       "      <td>7</td>\n",
       "    </tr>\n",
       "    <tr>\n",
       "      <td>162</td>\n",
       "      <td>Floyd Mayweather, Jr.</td>\n",
       "      <td>2015</td>\n",
       "      <td>1</td>\n",
       "    </tr>\n",
       "    <tr>\n",
       "      <td>163</td>\n",
       "      <td>Manny Pacquiao</td>\n",
       "      <td>2015</td>\n",
       "      <td>2</td>\n",
       "    </tr>\n",
       "  </tbody>\n",
       "</table>\n",
       "</div>"
      ],
      "text/plain": [
       "                 recipient  year  rank\n",
       "158  Floyd Mayweather, Jr.  2014     7\n",
       "162  Floyd Mayweather, Jr.  2015     1\n",
       "163         Manny Pacquiao  2015     2"
      ]
     },
     "execution_count": 72,
     "metadata": {},
     "output_type": "execute_result"
    }
   ],
   "source": [
    "df.loc[df[\"career\"]==\"Sportsperson (Boxing)\", [\"recipient\", \"year\", \"rank\"]]\n",
    "# this returns another pandas DataFrame"
   ]
  },
  {
   "cell_type": "code",
   "execution_count": 77,
   "metadata": {},
   "outputs": [
    {
     "data": {
      "text/html": [
       "<div>\n",
       "<style scoped>\n",
       "    .dataframe tbody tr th:only-of-type {\n",
       "        vertical-align: middle;\n",
       "    }\n",
       "\n",
       "    .dataframe tbody tr th {\n",
       "        vertical-align: top;\n",
       "    }\n",
       "\n",
       "    .dataframe thead th {\n",
       "        text-align: right;\n",
       "    }\n",
       "</style>\n",
       "<table border=\"1\" class=\"dataframe\">\n",
       "  <thead>\n",
       "    <tr style=\"text-align: right;\">\n",
       "      <th></th>\n",
       "      <th>year</th>\n",
       "      <th>rank</th>\n",
       "      <th>recipient</th>\n",
       "      <th>country</th>\n",
       "      <th>career</th>\n",
       "      <th>tied</th>\n",
       "      <th>title</th>\n",
       "    </tr>\n",
       "  </thead>\n",
       "  <tbody>\n",
       "    <tr>\n",
       "      <td>196</td>\n",
       "      <td>2018</td>\n",
       "      <td>5</td>\n",
       "      <td>Dwayne Johnson</td>\n",
       "      <td>United States</td>\n",
       "      <td>Actor</td>\n",
       "      <td>0</td>\n",
       "      <td>Dwayne_Johnson</td>\n",
       "    </tr>\n",
       "    <tr>\n",
       "      <td>195</td>\n",
       "      <td>2018</td>\n",
       "      <td>4</td>\n",
       "      <td>Judy Sheindlin</td>\n",
       "      <td>United States</td>\n",
       "      <td>Personality</td>\n",
       "      <td>0</td>\n",
       "      <td>Judy_Sheindlin</td>\n",
       "    </tr>\n",
       "    <tr>\n",
       "      <td>194</td>\n",
       "      <td>2018</td>\n",
       "      <td>3</td>\n",
       "      <td>Kylie Jenner</td>\n",
       "      <td>United States</td>\n",
       "      <td>Personality</td>\n",
       "      <td>0</td>\n",
       "      <td>Kylie_Jenner</td>\n",
       "    </tr>\n",
       "    <tr>\n",
       "      <td>193</td>\n",
       "      <td>2018</td>\n",
       "      <td>2</td>\n",
       "      <td>George Clooney</td>\n",
       "      <td>United States</td>\n",
       "      <td>Actor</td>\n",
       "      <td>0</td>\n",
       "      <td>George_Clooney</td>\n",
       "    </tr>\n",
       "    <tr>\n",
       "      <td>192</td>\n",
       "      <td>2018</td>\n",
       "      <td>1</td>\n",
       "      <td>Floyd Mayweather, Jr.</td>\n",
       "      <td>United States</td>\n",
       "      <td>Athlete (Boxing)</td>\n",
       "      <td>0</td>\n",
       "      <td>Floyd_Mayweather_Jr.</td>\n",
       "    </tr>\n",
       "    <tr>\n",
       "      <td>...</td>\n",
       "      <td>...</td>\n",
       "      <td>...</td>\n",
       "      <td>...</td>\n",
       "      <td>...</td>\n",
       "      <td>...</td>\n",
       "      <td>...</td>\n",
       "      <td>...</td>\n",
       "    </tr>\n",
       "    <tr>\n",
       "      <td>3</td>\n",
       "      <td>1999</td>\n",
       "      <td>4</td>\n",
       "      <td>Jerry Seinfeld</td>\n",
       "      <td>United States</td>\n",
       "      <td>Actor</td>\n",
       "      <td>0</td>\n",
       "      <td>Jerry_Seinfeld</td>\n",
       "    </tr>\n",
       "    <tr>\n",
       "      <td>2</td>\n",
       "      <td>1999</td>\n",
       "      <td>3</td>\n",
       "      <td>Leonardo DiCaprio</td>\n",
       "      <td>United States</td>\n",
       "      <td>Actor</td>\n",
       "      <td>0</td>\n",
       "      <td>Leonardo_DiCaprio</td>\n",
       "    </tr>\n",
       "    <tr>\n",
       "      <td>1</td>\n",
       "      <td>1999</td>\n",
       "      <td>2</td>\n",
       "      <td>Oprah Winfrey</td>\n",
       "      <td>United States</td>\n",
       "      <td>Television Personality</td>\n",
       "      <td>0</td>\n",
       "      <td>Oprah_Winfrey</td>\n",
       "    </tr>\n",
       "    <tr>\n",
       "      <td>4</td>\n",
       "      <td>1999</td>\n",
       "      <td>5</td>\n",
       "      <td>Steven Spielberg</td>\n",
       "      <td>United States</td>\n",
       "      <td>Filmmaker</td>\n",
       "      <td>0</td>\n",
       "      <td>Steven_Spielberg</td>\n",
       "    </tr>\n",
       "    <tr>\n",
       "      <td>0</td>\n",
       "      <td>1999</td>\n",
       "      <td>1</td>\n",
       "      <td>Michael Jordan</td>\n",
       "      <td>United States</td>\n",
       "      <td>Sportsperson (Basketball)</td>\n",
       "      <td>0</td>\n",
       "      <td>Michael_Jordan</td>\n",
       "    </tr>\n",
       "  </tbody>\n",
       "</table>\n",
       "<p>101 rows × 7 columns</p>\n",
       "</div>"
      ],
      "text/plain": [
       "     year  rank              recipient        country  \\\n",
       "196  2018     5         Dwayne Johnson  United States   \n",
       "195  2018     4         Judy Sheindlin  United States   \n",
       "194  2018     3           Kylie Jenner  United States   \n",
       "193  2018     2         George Clooney  United States   \n",
       "192  2018     1  Floyd Mayweather, Jr.  United States   \n",
       "..    ...   ...                    ...            ...   \n",
       "3    1999     4         Jerry Seinfeld  United States   \n",
       "2    1999     3      Leonardo DiCaprio  United States   \n",
       "1    1999     2          Oprah Winfrey  United States   \n",
       "4    1999     5       Steven Spielberg  United States   \n",
       "0    1999     1         Michael Jordan  United States   \n",
       "\n",
       "                        career  tied                 title  \n",
       "196                      Actor     0        Dwayne_Johnson  \n",
       "195                Personality     0        Judy_Sheindlin  \n",
       "194                Personality     0          Kylie_Jenner  \n",
       "193                      Actor     0        George_Clooney  \n",
       "192           Athlete (Boxing)     0  Floyd_Mayweather_Jr.  \n",
       "..                         ...   ...                   ...  \n",
       "3                        Actor     0        Jerry_Seinfeld  \n",
       "2                        Actor     0     Leonardo_DiCaprio  \n",
       "1       Television Personality     0         Oprah_Winfrey  \n",
       "4                    Filmmaker     0      Steven_Spielberg  \n",
       "0    Sportsperson (Basketball)     0        Michael_Jordan  \n",
       "\n",
       "[101 rows x 7 columns]"
      ]
     },
     "execution_count": 77,
     "metadata": {},
     "output_type": "execute_result"
    }
   ],
   "source": [
    "# Excercise 1\n",
    "# Get only top 5 celebrities per year and arrange them cronologically\n",
    "# wrong answer\n",
    "df[df[\"rank\"]<=5].sort_values(by=\"year\", ascending=False)"
   ]
  },
  {
   "cell_type": "code",
   "execution_count": 76,
   "metadata": {},
   "outputs": [
    {
     "data": {
      "text/html": [
       "<div>\n",
       "<style scoped>\n",
       "    .dataframe tbody tr th:only-of-type {\n",
       "        vertical-align: middle;\n",
       "    }\n",
       "\n",
       "    .dataframe tbody tr th {\n",
       "        vertical-align: top;\n",
       "    }\n",
       "\n",
       "    .dataframe thead th {\n",
       "        text-align: right;\n",
       "    }\n",
       "</style>\n",
       "<table border=\"1\" class=\"dataframe\">\n",
       "  <thead>\n",
       "    <tr style=\"text-align: right;\">\n",
       "      <th></th>\n",
       "      <th>year</th>\n",
       "      <th>rank</th>\n",
       "      <th>recipient</th>\n",
       "      <th>country</th>\n",
       "      <th>career</th>\n",
       "      <th>tied</th>\n",
       "      <th>title</th>\n",
       "    </tr>\n",
       "  </thead>\n",
       "  <tbody>\n",
       "    <tr>\n",
       "      <td>192</td>\n",
       "      <td>2018</td>\n",
       "      <td>1</td>\n",
       "      <td>Floyd Mayweather, Jr.</td>\n",
       "      <td>United States</td>\n",
       "      <td>Athlete (Boxing)</td>\n",
       "      <td>0</td>\n",
       "      <td>Floyd_Mayweather_Jr.</td>\n",
       "    </tr>\n",
       "    <tr>\n",
       "      <td>193</td>\n",
       "      <td>2018</td>\n",
       "      <td>2</td>\n",
       "      <td>George Clooney</td>\n",
       "      <td>United States</td>\n",
       "      <td>Actor</td>\n",
       "      <td>0</td>\n",
       "      <td>George_Clooney</td>\n",
       "    </tr>\n",
       "    <tr>\n",
       "      <td>194</td>\n",
       "      <td>2018</td>\n",
       "      <td>3</td>\n",
       "      <td>Kylie Jenner</td>\n",
       "      <td>United States</td>\n",
       "      <td>Personality</td>\n",
       "      <td>0</td>\n",
       "      <td>Kylie_Jenner</td>\n",
       "    </tr>\n",
       "    <tr>\n",
       "      <td>195</td>\n",
       "      <td>2018</td>\n",
       "      <td>4</td>\n",
       "      <td>Judy Sheindlin</td>\n",
       "      <td>United States</td>\n",
       "      <td>Personality</td>\n",
       "      <td>0</td>\n",
       "      <td>Judy_Sheindlin</td>\n",
       "    </tr>\n",
       "    <tr>\n",
       "      <td>196</td>\n",
       "      <td>2018</td>\n",
       "      <td>5</td>\n",
       "      <td>Dwayne Johnson</td>\n",
       "      <td>United States</td>\n",
       "      <td>Actor</td>\n",
       "      <td>0</td>\n",
       "      <td>Dwayne_Johnson</td>\n",
       "    </tr>\n",
       "    <tr>\n",
       "      <td>...</td>\n",
       "      <td>...</td>\n",
       "      <td>...</td>\n",
       "      <td>...</td>\n",
       "      <td>...</td>\n",
       "      <td>...</td>\n",
       "      <td>...</td>\n",
       "      <td>...</td>\n",
       "    </tr>\n",
       "    <tr>\n",
       "      <td>0</td>\n",
       "      <td>1999</td>\n",
       "      <td>1</td>\n",
       "      <td>Michael Jordan</td>\n",
       "      <td>United States</td>\n",
       "      <td>Sportsperson (Basketball)</td>\n",
       "      <td>0</td>\n",
       "      <td>Michael_Jordan</td>\n",
       "    </tr>\n",
       "    <tr>\n",
       "      <td>1</td>\n",
       "      <td>1999</td>\n",
       "      <td>2</td>\n",
       "      <td>Oprah Winfrey</td>\n",
       "      <td>United States</td>\n",
       "      <td>Television Personality</td>\n",
       "      <td>0</td>\n",
       "      <td>Oprah_Winfrey</td>\n",
       "    </tr>\n",
       "    <tr>\n",
       "      <td>2</td>\n",
       "      <td>1999</td>\n",
       "      <td>3</td>\n",
       "      <td>Leonardo DiCaprio</td>\n",
       "      <td>United States</td>\n",
       "      <td>Actor</td>\n",
       "      <td>0</td>\n",
       "      <td>Leonardo_DiCaprio</td>\n",
       "    </tr>\n",
       "    <tr>\n",
       "      <td>3</td>\n",
       "      <td>1999</td>\n",
       "      <td>4</td>\n",
       "      <td>Jerry Seinfeld</td>\n",
       "      <td>United States</td>\n",
       "      <td>Actor</td>\n",
       "      <td>0</td>\n",
       "      <td>Jerry_Seinfeld</td>\n",
       "    </tr>\n",
       "    <tr>\n",
       "      <td>4</td>\n",
       "      <td>1999</td>\n",
       "      <td>5</td>\n",
       "      <td>Steven Spielberg</td>\n",
       "      <td>United States</td>\n",
       "      <td>Filmmaker</td>\n",
       "      <td>0</td>\n",
       "      <td>Steven_Spielberg</td>\n",
       "    </tr>\n",
       "  </tbody>\n",
       "</table>\n",
       "<p>101 rows × 7 columns</p>\n",
       "</div>"
      ],
      "text/plain": [
       "     year  rank              recipient        country  \\\n",
       "192  2018     1  Floyd Mayweather, Jr.  United States   \n",
       "193  2018     2         George Clooney  United States   \n",
       "194  2018     3           Kylie Jenner  United States   \n",
       "195  2018     4         Judy Sheindlin  United States   \n",
       "196  2018     5         Dwayne Johnson  United States   \n",
       "..    ...   ...                    ...            ...   \n",
       "0    1999     1         Michael Jordan  United States   \n",
       "1    1999     2          Oprah Winfrey  United States   \n",
       "2    1999     3      Leonardo DiCaprio  United States   \n",
       "3    1999     4         Jerry Seinfeld  United States   \n",
       "4    1999     5       Steven Spielberg  United States   \n",
       "\n",
       "                        career  tied                 title  \n",
       "192           Athlete (Boxing)     0  Floyd_Mayweather_Jr.  \n",
       "193                      Actor     0        George_Clooney  \n",
       "194                Personality     0          Kylie_Jenner  \n",
       "195                Personality     0        Judy_Sheindlin  \n",
       "196                      Actor     0        Dwayne_Johnson  \n",
       "..                         ...   ...                   ...  \n",
       "0    Sportsperson (Basketball)     0        Michael_Jordan  \n",
       "1       Television Personality     0         Oprah_Winfrey  \n",
       "2                        Actor     0     Leonardo_DiCaprio  \n",
       "3                        Actor     0        Jerry_Seinfeld  \n",
       "4                    Filmmaker     0      Steven_Spielberg  \n",
       "\n",
       "[101 rows x 7 columns]"
      ]
     },
     "execution_count": 76,
     "metadata": {},
     "output_type": "execute_result"
    }
   ],
   "source": [
    "# correct answer\n",
    "df[df[\"rank\"]<=5].sort_values(by=[\"year\", \"rank\"], ascending=[False, True])"
   ]
  },
  {
   "cell_type": "code",
   "execution_count": 78,
   "metadata": {},
   "outputs": [
    {
     "data": {
      "text/plain": [
       "Oprah Winfrey       16\n",
       "Tiger Woods         12\n",
       "Steven Spielberg    11\n",
       "Madonna              6\n",
       "Beyonce              6\n",
       "                    ..\n",
       "Ben Affleck          1\n",
       "Kim Kardashian       1\n",
       "Julia Roberts        1\n",
       "Harrison Ford        1\n",
       "Dr. Phil McGraw      1\n",
       "Name: recipient, Length: 82, dtype: int64"
      ]
     },
     "execution_count": 78,
     "metadata": {},
     "output_type": "execute_result"
    }
   ],
   "source": [
    "df[\"recipient\"].value_counts()"
   ]
  },
  {
   "cell_type": "code",
   "execution_count": 79,
   "metadata": {},
   "outputs": [
    {
     "data": {
      "text/html": [
       "<div>\n",
       "<style scoped>\n",
       "    .dataframe tbody tr th:only-of-type {\n",
       "        vertical-align: middle;\n",
       "    }\n",
       "\n",
       "    .dataframe tbody tr th {\n",
       "        vertical-align: top;\n",
       "    }\n",
       "\n",
       "    .dataframe thead th {\n",
       "        text-align: right;\n",
       "    }\n",
       "</style>\n",
       "<table border=\"1\" class=\"dataframe\">\n",
       "  <thead>\n",
       "    <tr style=\"text-align: right;\">\n",
       "      <th></th>\n",
       "      <th>year</th>\n",
       "      <th>rank</th>\n",
       "      <th>recipient</th>\n",
       "      <th>country</th>\n",
       "      <th>career</th>\n",
       "      <th>tied</th>\n",
       "      <th>title</th>\n",
       "    </tr>\n",
       "  </thead>\n",
       "  <tbody>\n",
       "    <tr>\n",
       "      <td>1</td>\n",
       "      <td>1999</td>\n",
       "      <td>2</td>\n",
       "      <td>Oprah Winfrey</td>\n",
       "      <td>United States</td>\n",
       "      <td>Television Personality</td>\n",
       "      <td>0</td>\n",
       "      <td>Oprah_Winfrey</td>\n",
       "    </tr>\n",
       "    <tr>\n",
       "      <td>12</td>\n",
       "      <td>2000</td>\n",
       "      <td>3</td>\n",
       "      <td>Oprah Winfrey</td>\n",
       "      <td>United States</td>\n",
       "      <td>Television Personality</td>\n",
       "      <td>0</td>\n",
       "      <td>Oprah_Winfrey</td>\n",
       "    </tr>\n",
       "    <tr>\n",
       "      <td>28</td>\n",
       "      <td>2001</td>\n",
       "      <td>9</td>\n",
       "      <td>Oprah Winfrey</td>\n",
       "      <td>United States</td>\n",
       "      <td>Television Personality</td>\n",
       "      <td>0</td>\n",
       "      <td>Oprah_Winfrey</td>\n",
       "    </tr>\n",
       "    <tr>\n",
       "      <td>37</td>\n",
       "      <td>2002</td>\n",
       "      <td>8</td>\n",
       "      <td>Oprah Winfrey</td>\n",
       "      <td>United States</td>\n",
       "      <td>Television Personality</td>\n",
       "      <td>0</td>\n",
       "      <td>Oprah_Winfrey</td>\n",
       "    </tr>\n",
       "    <tr>\n",
       "      <td>48</td>\n",
       "      <td>2003</td>\n",
       "      <td>8</td>\n",
       "      <td>Oprah Winfrey</td>\n",
       "      <td>United States</td>\n",
       "      <td>Television Personality</td>\n",
       "      <td>0</td>\n",
       "      <td>Oprah_Winfrey</td>\n",
       "    </tr>\n",
       "    <tr>\n",
       "      <td>53</td>\n",
       "      <td>2004</td>\n",
       "      <td>3</td>\n",
       "      <td>Oprah Winfrey</td>\n",
       "      <td>United States</td>\n",
       "      <td>Television Personality</td>\n",
       "      <td>0</td>\n",
       "      <td>Oprah_Winfrey</td>\n",
       "    </tr>\n",
       "    <tr>\n",
       "      <td>61</td>\n",
       "      <td>2005</td>\n",
       "      <td>1</td>\n",
       "      <td>Oprah Winfrey</td>\n",
       "      <td>United States</td>\n",
       "      <td>Television Personality</td>\n",
       "      <td>0</td>\n",
       "      <td>Oprah_Winfrey</td>\n",
       "    </tr>\n",
       "    <tr>\n",
       "      <td>73</td>\n",
       "      <td>2006</td>\n",
       "      <td>3</td>\n",
       "      <td>Oprah Winfrey</td>\n",
       "      <td>United States</td>\n",
       "      <td>Television Personality</td>\n",
       "      <td>0</td>\n",
       "      <td>Oprah_Winfrey</td>\n",
       "    </tr>\n",
       "    <tr>\n",
       "      <td>81</td>\n",
       "      <td>2007</td>\n",
       "      <td>1</td>\n",
       "      <td>Oprah Winfrey</td>\n",
       "      <td>United States</td>\n",
       "      <td>Television Personality</td>\n",
       "      <td>0</td>\n",
       "      <td>Oprah_Winfrey</td>\n",
       "    </tr>\n",
       "    <tr>\n",
       "      <td>91</td>\n",
       "      <td>2008</td>\n",
       "      <td>1</td>\n",
       "      <td>Oprah Winfrey</td>\n",
       "      <td>United States</td>\n",
       "      <td>Television Personality</td>\n",
       "      <td>0</td>\n",
       "      <td>Oprah_Winfrey</td>\n",
       "    </tr>\n",
       "    <tr>\n",
       "      <td>103</td>\n",
       "      <td>2009</td>\n",
       "      <td>2</td>\n",
       "      <td>Oprah Winfrey</td>\n",
       "      <td>United States</td>\n",
       "      <td>Television Personality</td>\n",
       "      <td>0</td>\n",
       "      <td>Oprah_Winfrey</td>\n",
       "    </tr>\n",
       "    <tr>\n",
       "      <td>112</td>\n",
       "      <td>2010</td>\n",
       "      <td>1</td>\n",
       "      <td>Oprah Winfrey</td>\n",
       "      <td>United States</td>\n",
       "      <td>Television Personality</td>\n",
       "      <td>0</td>\n",
       "      <td>Oprah_Winfrey</td>\n",
       "    </tr>\n",
       "    <tr>\n",
       "      <td>123</td>\n",
       "      <td>2011</td>\n",
       "      <td>2</td>\n",
       "      <td>Oprah Winfrey</td>\n",
       "      <td>United States</td>\n",
       "      <td>Television Personality</td>\n",
       "      <td>0</td>\n",
       "      <td>Oprah_Winfrey</td>\n",
       "    </tr>\n",
       "    <tr>\n",
       "      <td>133</td>\n",
       "      <td>2012</td>\n",
       "      <td>2</td>\n",
       "      <td>Oprah Winfrey</td>\n",
       "      <td>United States</td>\n",
       "      <td>Television Personality</td>\n",
       "      <td>0</td>\n",
       "      <td>Oprah_Winfrey</td>\n",
       "    </tr>\n",
       "    <tr>\n",
       "      <td>142</td>\n",
       "      <td>2013</td>\n",
       "      <td>1</td>\n",
       "      <td>Oprah Winfrey</td>\n",
       "      <td>United States</td>\n",
       "      <td>Television Personality</td>\n",
       "      <td>0</td>\n",
       "      <td>Oprah_Winfrey</td>\n",
       "    </tr>\n",
       "    <tr>\n",
       "      <td>155</td>\n",
       "      <td>2014</td>\n",
       "      <td>4</td>\n",
       "      <td>Oprah Winfrey</td>\n",
       "      <td>United States</td>\n",
       "      <td>Television Personality</td>\n",
       "      <td>0</td>\n",
       "      <td>Oprah_Winfrey</td>\n",
       "    </tr>\n",
       "  </tbody>\n",
       "</table>\n",
       "</div>"
      ],
      "text/plain": [
       "     year  rank      recipient        country                  career  tied  \\\n",
       "1    1999     2  Oprah Winfrey  United States  Television Personality     0   \n",
       "12   2000     3  Oprah Winfrey  United States  Television Personality     0   \n",
       "28   2001     9  Oprah Winfrey  United States  Television Personality     0   \n",
       "37   2002     8  Oprah Winfrey  United States  Television Personality     0   \n",
       "48   2003     8  Oprah Winfrey  United States  Television Personality     0   \n",
       "53   2004     3  Oprah Winfrey  United States  Television Personality     0   \n",
       "61   2005     1  Oprah Winfrey  United States  Television Personality     0   \n",
       "73   2006     3  Oprah Winfrey  United States  Television Personality     0   \n",
       "81   2007     1  Oprah Winfrey  United States  Television Personality     0   \n",
       "91   2008     1  Oprah Winfrey  United States  Television Personality     0   \n",
       "103  2009     2  Oprah Winfrey  United States  Television Personality     0   \n",
       "112  2010     1  Oprah Winfrey  United States  Television Personality     0   \n",
       "123  2011     2  Oprah Winfrey  United States  Television Personality     0   \n",
       "133  2012     2  Oprah Winfrey  United States  Television Personality     0   \n",
       "142  2013     1  Oprah Winfrey  United States  Television Personality     0   \n",
       "155  2014     4  Oprah Winfrey  United States  Television Personality     0   \n",
       "\n",
       "             title  \n",
       "1    Oprah_Winfrey  \n",
       "12   Oprah_Winfrey  \n",
       "28   Oprah_Winfrey  \n",
       "37   Oprah_Winfrey  \n",
       "48   Oprah_Winfrey  \n",
       "53   Oprah_Winfrey  \n",
       "61   Oprah_Winfrey  \n",
       "73   Oprah_Winfrey  \n",
       "81   Oprah_Winfrey  \n",
       "91   Oprah_Winfrey  \n",
       "103  Oprah_Winfrey  \n",
       "112  Oprah_Winfrey  \n",
       "123  Oprah_Winfrey  \n",
       "133  Oprah_Winfrey  \n",
       "142  Oprah_Winfrey  \n",
       "155  Oprah_Winfrey  "
      ]
     },
     "execution_count": 79,
     "metadata": {},
     "output_type": "execute_result"
    }
   ],
   "source": [
    "df[df[\"recipient\"]==\"Oprah Winfrey\"]"
   ]
  },
  {
   "cell_type": "code",
   "execution_count": 82,
   "metadata": {},
   "outputs": [],
   "source": [
    "df_top = df.loc[(df[\"recipient\"]==\"Oprah Winfrey\") & (df[\"rank\"]==1)]"
   ]
  },
  {
   "cell_type": "code",
   "execution_count": 83,
   "metadata": {},
   "outputs": [
    {
     "data": {
      "text/plain": [
       "5"
      ]
     },
     "execution_count": 83,
     "metadata": {},
     "output_type": "execute_result"
    }
   ],
   "source": [
    "len(df_top)"
   ]
  },
  {
   "cell_type": "code",
   "execution_count": 93,
   "metadata": {},
   "outputs": [
    {
     "data": {
      "text/html": [
       "<div>\n",
       "<style scoped>\n",
       "    .dataframe tbody tr th:only-of-type {\n",
       "        vertical-align: middle;\n",
       "    }\n",
       "\n",
       "    .dataframe tbody tr th {\n",
       "        vertical-align: top;\n",
       "    }\n",
       "\n",
       "    .dataframe thead th {\n",
       "        text-align: right;\n",
       "    }\n",
       "</style>\n",
       "<table border=\"1\" class=\"dataframe\">\n",
       "  <thead>\n",
       "    <tr style=\"text-align: right;\">\n",
       "      <th></th>\n",
       "      <th>year</th>\n",
       "      <th>rank</th>\n",
       "      <th>recipient</th>\n",
       "      <th>country</th>\n",
       "      <th>career</th>\n",
       "      <th>tied</th>\n",
       "      <th>title</th>\n",
       "    </tr>\n",
       "  </thead>\n",
       "  <tbody>\n",
       "    <tr>\n",
       "      <td>0</td>\n",
       "      <td>1999</td>\n",
       "      <td>1</td>\n",
       "      <td>Michael Jordan</td>\n",
       "      <td>United States</td>\n",
       "      <td>Sportsperson (Basketball)</td>\n",
       "      <td>0</td>\n",
       "      <td>Michael_Jordan</td>\n",
       "    </tr>\n",
       "    <tr>\n",
       "      <td>1</td>\n",
       "      <td>1999</td>\n",
       "      <td>2</td>\n",
       "      <td>Oprah Winfrey</td>\n",
       "      <td>United States</td>\n",
       "      <td>Television Personality</td>\n",
       "      <td>0</td>\n",
       "      <td>Oprah_Winfrey</td>\n",
       "    </tr>\n",
       "    <tr>\n",
       "      <td>2</td>\n",
       "      <td>1999</td>\n",
       "      <td>3</td>\n",
       "      <td>Leonardo DiCaprio</td>\n",
       "      <td>United States</td>\n",
       "      <td>Actor</td>\n",
       "      <td>0</td>\n",
       "      <td>Leonardo_DiCaprio</td>\n",
       "    </tr>\n",
       "    <tr>\n",
       "      <td>3</td>\n",
       "      <td>1999</td>\n",
       "      <td>4</td>\n",
       "      <td>Jerry Seinfeld</td>\n",
       "      <td>United States</td>\n",
       "      <td>Actor</td>\n",
       "      <td>0</td>\n",
       "      <td>Jerry_Seinfeld</td>\n",
       "    </tr>\n",
       "    <tr>\n",
       "      <td>4</td>\n",
       "      <td>1999</td>\n",
       "      <td>5</td>\n",
       "      <td>Steven Spielberg</td>\n",
       "      <td>United States</td>\n",
       "      <td>Filmmaker</td>\n",
       "      <td>0</td>\n",
       "      <td>Steven_Spielberg</td>\n",
       "    </tr>\n",
       "    <tr>\n",
       "      <td>...</td>\n",
       "      <td>...</td>\n",
       "      <td>...</td>\n",
       "      <td>...</td>\n",
       "      <td>...</td>\n",
       "      <td>...</td>\n",
       "      <td>...</td>\n",
       "      <td>...</td>\n",
       "    </tr>\n",
       "    <tr>\n",
       "      <td>194</td>\n",
       "      <td>2018</td>\n",
       "      <td>3</td>\n",
       "      <td>Kylie Jenner</td>\n",
       "      <td>United States</td>\n",
       "      <td>Personality</td>\n",
       "      <td>0</td>\n",
       "      <td>Kylie_Jenner</td>\n",
       "    </tr>\n",
       "    <tr>\n",
       "      <td>195</td>\n",
       "      <td>2018</td>\n",
       "      <td>4</td>\n",
       "      <td>Judy Sheindlin</td>\n",
       "      <td>United States</td>\n",
       "      <td>Personality</td>\n",
       "      <td>0</td>\n",
       "      <td>Judy_Sheindlin</td>\n",
       "    </tr>\n",
       "    <tr>\n",
       "      <td>196</td>\n",
       "      <td>2018</td>\n",
       "      <td>5</td>\n",
       "      <td>Dwayne Johnson</td>\n",
       "      <td>United States</td>\n",
       "      <td>Actor</td>\n",
       "      <td>0</td>\n",
       "      <td>Dwayne_Johnson</td>\n",
       "    </tr>\n",
       "    <tr>\n",
       "      <td>198</td>\n",
       "      <td>2018</td>\n",
       "      <td>7</td>\n",
       "      <td>Coldplay</td>\n",
       "      <td>United Kingdom</td>\n",
       "      <td>Musicians</td>\n",
       "      <td>0</td>\n",
       "      <td>Coldplay</td>\n",
       "    </tr>\n",
       "    <tr>\n",
       "      <td>200</td>\n",
       "      <td>2018</td>\n",
       "      <td>9</td>\n",
       "      <td>Ed Sheeran</td>\n",
       "      <td>United Kingdom</td>\n",
       "      <td>Musician</td>\n",
       "      <td>0</td>\n",
       "      <td>Ed_Sheeran</td>\n",
       "    </tr>\n",
       "  </tbody>\n",
       "</table>\n",
       "<p>179 rows × 7 columns</p>\n",
       "</div>"
      ],
      "text/plain": [
       "     year  rank          recipient         country                     career  \\\n",
       "0    1999     1     Michael Jordan   United States  Sportsperson (Basketball)   \n",
       "1    1999     2      Oprah Winfrey   United States     Television Personality   \n",
       "2    1999     3  Leonardo DiCaprio   United States                      Actor   \n",
       "3    1999     4     Jerry Seinfeld   United States                      Actor   \n",
       "4    1999     5   Steven Spielberg   United States                  Filmmaker   \n",
       "..    ...   ...                ...             ...                        ...   \n",
       "194  2018     3       Kylie Jenner   United States                Personality   \n",
       "195  2018     4     Judy Sheindlin   United States                Personality   \n",
       "196  2018     5     Dwayne Johnson   United States                      Actor   \n",
       "198  2018     7           Coldplay  United Kingdom                  Musicians   \n",
       "200  2018     9         Ed Sheeran  United Kingdom                   Musician   \n",
       "\n",
       "     tied              title  \n",
       "0       0     Michael_Jordan  \n",
       "1       0      Oprah_Winfrey  \n",
       "2       0  Leonardo_DiCaprio  \n",
       "3       0     Jerry_Seinfeld  \n",
       "4       0   Steven_Spielberg  \n",
       "..    ...                ...  \n",
       "194     0       Kylie_Jenner  \n",
       "195     0     Judy_Sheindlin  \n",
       "196     0     Dwayne_Johnson  \n",
       "198     0           Coldplay  \n",
       "200     0         Ed_Sheeran  \n",
       "\n",
       "[179 rows x 7 columns]"
      ]
     },
     "execution_count": 93,
     "metadata": {},
     "output_type": "execute_result"
    }
   ],
   "source": [
    "# Exercise 2: Labas lahat ng countries na may united sa name\n",
    "df[df[\"country\"].str.lower().str.contains(\"united\")]"
   ]
  },
  {
   "cell_type": "code",
   "execution_count": 94,
   "metadata": {},
   "outputs": [
    {
     "data": {
      "text/html": [
       "<div>\n",
       "<style scoped>\n",
       "    .dataframe tbody tr th:only-of-type {\n",
       "        vertical-align: middle;\n",
       "    }\n",
       "\n",
       "    .dataframe tbody tr th {\n",
       "        vertical-align: top;\n",
       "    }\n",
       "\n",
       "    .dataframe thead th {\n",
       "        text-align: right;\n",
       "    }\n",
       "</style>\n",
       "<table border=\"1\" class=\"dataframe\">\n",
       "  <thead>\n",
       "    <tr style=\"text-align: right;\">\n",
       "      <th></th>\n",
       "      <th>year</th>\n",
       "      <th>rank</th>\n",
       "      <th>recipient</th>\n",
       "      <th>country</th>\n",
       "      <th>career</th>\n",
       "      <th>tied</th>\n",
       "      <th>title</th>\n",
       "    </tr>\n",
       "  </thead>\n",
       "  <tbody>\n",
       "    <tr>\n",
       "      <td>0</td>\n",
       "      <td>1999</td>\n",
       "      <td>1</td>\n",
       "      <td>Michael Jordan</td>\n",
       "      <td>United States</td>\n",
       "      <td>Sportsperson (Basketball)</td>\n",
       "      <td>0</td>\n",
       "      <td>Michael_Jordan</td>\n",
       "    </tr>\n",
       "    <tr>\n",
       "      <td>1</td>\n",
       "      <td>1999</td>\n",
       "      <td>2</td>\n",
       "      <td>Oprah Winfrey</td>\n",
       "      <td>United States</td>\n",
       "      <td>Television Personality</td>\n",
       "      <td>0</td>\n",
       "      <td>Oprah_Winfrey</td>\n",
       "    </tr>\n",
       "    <tr>\n",
       "      <td>2</td>\n",
       "      <td>1999</td>\n",
       "      <td>3</td>\n",
       "      <td>Leonardo DiCaprio</td>\n",
       "      <td>United States</td>\n",
       "      <td>Actor</td>\n",
       "      <td>0</td>\n",
       "      <td>Leonardo_DiCaprio</td>\n",
       "    </tr>\n",
       "    <tr>\n",
       "      <td>3</td>\n",
       "      <td>1999</td>\n",
       "      <td>4</td>\n",
       "      <td>Jerry Seinfeld</td>\n",
       "      <td>United States</td>\n",
       "      <td>Actor</td>\n",
       "      <td>0</td>\n",
       "      <td>Jerry_Seinfeld</td>\n",
       "    </tr>\n",
       "    <tr>\n",
       "      <td>4</td>\n",
       "      <td>1999</td>\n",
       "      <td>5</td>\n",
       "      <td>Steven Spielberg</td>\n",
       "      <td>United States</td>\n",
       "      <td>Filmmaker</td>\n",
       "      <td>0</td>\n",
       "      <td>Steven_Spielberg</td>\n",
       "    </tr>\n",
       "    <tr>\n",
       "      <td>...</td>\n",
       "      <td>...</td>\n",
       "      <td>...</td>\n",
       "      <td>...</td>\n",
       "      <td>...</td>\n",
       "      <td>...</td>\n",
       "      <td>...</td>\n",
       "      <td>...</td>\n",
       "    </tr>\n",
       "    <tr>\n",
       "      <td>194</td>\n",
       "      <td>2018</td>\n",
       "      <td>3</td>\n",
       "      <td>Kylie Jenner</td>\n",
       "      <td>United States</td>\n",
       "      <td>Personality</td>\n",
       "      <td>0</td>\n",
       "      <td>Kylie_Jenner</td>\n",
       "    </tr>\n",
       "    <tr>\n",
       "      <td>195</td>\n",
       "      <td>2018</td>\n",
       "      <td>4</td>\n",
       "      <td>Judy Sheindlin</td>\n",
       "      <td>United States</td>\n",
       "      <td>Personality</td>\n",
       "      <td>0</td>\n",
       "      <td>Judy_Sheindlin</td>\n",
       "    </tr>\n",
       "    <tr>\n",
       "      <td>196</td>\n",
       "      <td>2018</td>\n",
       "      <td>5</td>\n",
       "      <td>Dwayne Johnson</td>\n",
       "      <td>United States</td>\n",
       "      <td>Actor</td>\n",
       "      <td>0</td>\n",
       "      <td>Dwayne_Johnson</td>\n",
       "    </tr>\n",
       "    <tr>\n",
       "      <td>198</td>\n",
       "      <td>2018</td>\n",
       "      <td>7</td>\n",
       "      <td>Coldplay</td>\n",
       "      <td>United Kingdom</td>\n",
       "      <td>Musicians</td>\n",
       "      <td>0</td>\n",
       "      <td>Coldplay</td>\n",
       "    </tr>\n",
       "    <tr>\n",
       "      <td>200</td>\n",
       "      <td>2018</td>\n",
       "      <td>9</td>\n",
       "      <td>Ed Sheeran</td>\n",
       "      <td>United Kingdom</td>\n",
       "      <td>Musician</td>\n",
       "      <td>0</td>\n",
       "      <td>Ed_Sheeran</td>\n",
       "    </tr>\n",
       "  </tbody>\n",
       "</table>\n",
       "<p>179 rows × 7 columns</p>\n",
       "</div>"
      ],
      "text/plain": [
       "     year  rank          recipient         country                     career  \\\n",
       "0    1999     1     Michael Jordan   United States  Sportsperson (Basketball)   \n",
       "1    1999     2      Oprah Winfrey   United States     Television Personality   \n",
       "2    1999     3  Leonardo DiCaprio   United States                      Actor   \n",
       "3    1999     4     Jerry Seinfeld   United States                      Actor   \n",
       "4    1999     5   Steven Spielberg   United States                  Filmmaker   \n",
       "..    ...   ...                ...             ...                        ...   \n",
       "194  2018     3       Kylie Jenner   United States                Personality   \n",
       "195  2018     4     Judy Sheindlin   United States                Personality   \n",
       "196  2018     5     Dwayne Johnson   United States                      Actor   \n",
       "198  2018     7           Coldplay  United Kingdom                  Musicians   \n",
       "200  2018     9         Ed Sheeran  United Kingdom                   Musician   \n",
       "\n",
       "     tied              title  \n",
       "0       0     Michael_Jordan  \n",
       "1       0      Oprah_Winfrey  \n",
       "2       0  Leonardo_DiCaprio  \n",
       "3       0     Jerry_Seinfeld  \n",
       "4       0   Steven_Spielberg  \n",
       "..    ...                ...  \n",
       "194     0       Kylie_Jenner  \n",
       "195     0     Judy_Sheindlin  \n",
       "196     0     Dwayne_Johnson  \n",
       "198     0           Coldplay  \n",
       "200     0         Ed_Sheeran  \n",
       "\n",
       "[179 rows x 7 columns]"
      ]
     },
     "execution_count": 94,
     "metadata": {},
     "output_type": "execute_result"
    }
   ],
   "source": [
    "# Exercise 2: Labas lahat ng countries na may united sa name\n",
    "df[df[\"country\"].str.contains(\"united\", case=False)]"
   ]
  },
  {
   "cell_type": "code",
   "execution_count": 91,
   "metadata": {},
   "outputs": [
    {
     "data": {
      "text/html": [
       "<div>\n",
       "<style scoped>\n",
       "    .dataframe tbody tr th:only-of-type {\n",
       "        vertical-align: middle;\n",
       "    }\n",
       "\n",
       "    .dataframe tbody tr th {\n",
       "        vertical-align: top;\n",
       "    }\n",
       "\n",
       "    .dataframe thead th {\n",
       "        text-align: right;\n",
       "    }\n",
       "</style>\n",
       "<table border=\"1\" class=\"dataframe\">\n",
       "  <thead>\n",
       "    <tr style=\"text-align: right;\">\n",
       "      <th></th>\n",
       "      <th>year</th>\n",
       "      <th>rank</th>\n",
       "      <th>recipient</th>\n",
       "      <th>country</th>\n",
       "      <th>career</th>\n",
       "      <th>tied</th>\n",
       "      <th>title</th>\n",
       "    </tr>\n",
       "  </thead>\n",
       "  <tbody>\n",
       "    <tr>\n",
       "      <td>0</td>\n",
       "      <td>1999</td>\n",
       "      <td>1</td>\n",
       "      <td>Michael Jordan</td>\n",
       "      <td>United States</td>\n",
       "      <td>Sportsperson (Basketball)</td>\n",
       "      <td>0</td>\n",
       "      <td>Michael_Jordan</td>\n",
       "    </tr>\n",
       "    <tr>\n",
       "      <td>1</td>\n",
       "      <td>1999</td>\n",
       "      <td>2</td>\n",
       "      <td>Oprah Winfrey</td>\n",
       "      <td>United States</td>\n",
       "      <td>Television Personality</td>\n",
       "      <td>0</td>\n",
       "      <td>Oprah_Winfrey</td>\n",
       "    </tr>\n",
       "    <tr>\n",
       "      <td>2</td>\n",
       "      <td>1999</td>\n",
       "      <td>3</td>\n",
       "      <td>Leonardo DiCaprio</td>\n",
       "      <td>United States</td>\n",
       "      <td>Actor</td>\n",
       "      <td>0</td>\n",
       "      <td>Leonardo_DiCaprio</td>\n",
       "    </tr>\n",
       "    <tr>\n",
       "      <td>3</td>\n",
       "      <td>1999</td>\n",
       "      <td>4</td>\n",
       "      <td>Jerry Seinfeld</td>\n",
       "      <td>United States</td>\n",
       "      <td>Actor</td>\n",
       "      <td>0</td>\n",
       "      <td>Jerry_Seinfeld</td>\n",
       "    </tr>\n",
       "    <tr>\n",
       "      <td>4</td>\n",
       "      <td>1999</td>\n",
       "      <td>5</td>\n",
       "      <td>Steven Spielberg</td>\n",
       "      <td>United States</td>\n",
       "      <td>Filmmaker</td>\n",
       "      <td>0</td>\n",
       "      <td>Steven_Spielberg</td>\n",
       "    </tr>\n",
       "    <tr>\n",
       "      <td>...</td>\n",
       "      <td>...</td>\n",
       "      <td>...</td>\n",
       "      <td>...</td>\n",
       "      <td>...</td>\n",
       "      <td>...</td>\n",
       "      <td>...</td>\n",
       "      <td>...</td>\n",
       "    </tr>\n",
       "    <tr>\n",
       "      <td>197</td>\n",
       "      <td>2018</td>\n",
       "      <td>6</td>\n",
       "      <td>U2</td>\n",
       "      <td>Republic of Ireland</td>\n",
       "      <td>Musicians</td>\n",
       "      <td>0</td>\n",
       "      <td>U2</td>\n",
       "    </tr>\n",
       "    <tr>\n",
       "      <td>198</td>\n",
       "      <td>2018</td>\n",
       "      <td>7</td>\n",
       "      <td>Coldplay</td>\n",
       "      <td>United Kingdom</td>\n",
       "      <td>Musicians</td>\n",
       "      <td>0</td>\n",
       "      <td>Coldplay</td>\n",
       "    </tr>\n",
       "    <tr>\n",
       "      <td>199</td>\n",
       "      <td>2018</td>\n",
       "      <td>8</td>\n",
       "      <td>Lionel Messi</td>\n",
       "      <td>Argentina</td>\n",
       "      <td>Athlete (Association football)</td>\n",
       "      <td>0</td>\n",
       "      <td>Lionel_Messi</td>\n",
       "    </tr>\n",
       "    <tr>\n",
       "      <td>200</td>\n",
       "      <td>2018</td>\n",
       "      <td>9</td>\n",
       "      <td>Ed Sheeran</td>\n",
       "      <td>United Kingdom</td>\n",
       "      <td>Musician</td>\n",
       "      <td>0</td>\n",
       "      <td>Ed_Sheeran</td>\n",
       "    </tr>\n",
       "    <tr>\n",
       "      <td>201</td>\n",
       "      <td>2018</td>\n",
       "      <td>10</td>\n",
       "      <td>Cristiano Ronaldo</td>\n",
       "      <td>Portugal</td>\n",
       "      <td>Athlete (Association football)</td>\n",
       "      <td>0</td>\n",
       "      <td>Cristiano_Ronaldo</td>\n",
       "    </tr>\n",
       "  </tbody>\n",
       "</table>\n",
       "<p>202 rows × 7 columns</p>\n",
       "</div>"
      ],
      "text/plain": [
       "     year  rank          recipient              country  \\\n",
       "0    1999     1     Michael Jordan        United States   \n",
       "1    1999     2      Oprah Winfrey        United States   \n",
       "2    1999     3  Leonardo DiCaprio        United States   \n",
       "3    1999     4     Jerry Seinfeld        United States   \n",
       "4    1999     5   Steven Spielberg        United States   \n",
       "..    ...   ...                ...                  ...   \n",
       "197  2018     6                 U2  Republic of Ireland   \n",
       "198  2018     7           Coldplay       United Kingdom   \n",
       "199  2018     8       Lionel Messi            Argentina   \n",
       "200  2018     9         Ed Sheeran       United Kingdom   \n",
       "201  2018    10  Cristiano Ronaldo             Portugal   \n",
       "\n",
       "                             career  tied              title  \n",
       "0         Sportsperson (Basketball)     0     Michael_Jordan  \n",
       "1            Television Personality     0      Oprah_Winfrey  \n",
       "2                             Actor     0  Leonardo_DiCaprio  \n",
       "3                             Actor     0     Jerry_Seinfeld  \n",
       "4                         Filmmaker     0   Steven_Spielberg  \n",
       "..                              ...   ...                ...  \n",
       "197                       Musicians     0                 U2  \n",
       "198                       Musicians     0           Coldplay  \n",
       "199  Athlete (Association football)     0       Lionel_Messi  \n",
       "200                        Musician     0         Ed_Sheeran  \n",
       "201  Athlete (Association football)     0  Cristiano_Ronaldo  \n",
       "\n",
       "[202 rows x 7 columns]"
      ]
     },
     "execution_count": 91,
     "metadata": {},
     "output_type": "execute_result"
    }
   ],
   "source": [
    "# Exercise 3: Get rank 6 to 10 on odd years\n",
    "df[(df[\"rank\"]>=6 & (df[\"year\"] % 2 != 0))]"
   ]
  },
  {
   "cell_type": "code",
   "execution_count": 95,
   "metadata": {},
   "outputs": [],
   "source": [
    "import pandas as pd"
   ]
  },
  {
   "cell_type": "code",
   "execution_count": 96,
   "metadata": {},
   "outputs": [],
   "source": [
    "import numpy as np"
   ]
  },
  {
   "cell_type": "code",
   "execution_count": 97,
   "metadata": {},
   "outputs": [],
   "source": [
    "fn = \"../input/wikipedia_edits.csv.zip\"\n",
    "df = pd.read_csv(fn)"
   ]
  },
  {
   "cell_type": "code",
   "execution_count": 98,
   "metadata": {},
   "outputs": [
    {
     "data": {
      "text/plain": [
       "789343"
      ]
     },
     "execution_count": 98,
     "metadata": {},
     "output_type": "execute_result"
    }
   ],
   "source": [
    "len(df)"
   ]
  },
  {
   "cell_type": "code",
   "execution_count": 99,
   "metadata": {},
   "outputs": [
    {
     "data": {
      "text/html": [
       "<div>\n",
       "<style scoped>\n",
       "    .dataframe tbody tr th:only-of-type {\n",
       "        vertical-align: middle;\n",
       "    }\n",
       "\n",
       "    .dataframe tbody tr th {\n",
       "        vertical-align: top;\n",
       "    }\n",
       "\n",
       "    .dataframe thead th {\n",
       "        text-align: right;\n",
       "    }\n",
       "</style>\n",
       "<table border=\"1\" class=\"dataframe\">\n",
       "  <thead>\n",
       "    <tr style=\"text-align: right;\">\n",
       "      <th></th>\n",
       "      <th>title</th>\n",
       "      <th>parentid</th>\n",
       "      <th>revid</th>\n",
       "      <th>timestamp</th>\n",
       "      <th>user</th>\n",
       "      <th>userid</th>\n",
       "      <th>size</th>\n",
       "      <th>recipient</th>\n",
       "      <th>year</th>\n",
       "      <th>rank</th>\n",
       "      <th>country</th>\n",
       "      <th>career</th>\n",
       "      <th>tied</th>\n",
       "    </tr>\n",
       "  </thead>\n",
       "  <tbody>\n",
       "    <tr>\n",
       "      <td>0</td>\n",
       "      <td>50_Cent</td>\n",
       "      <td>858765697</td>\n",
       "      <td>858858564</td>\n",
       "      <td>2018-09-10T02:52:25Z</td>\n",
       "      <td>ProspectIV</td>\n",
       "      <td>33893830.0</td>\n",
       "      <td>132452</td>\n",
       "      <td>50 Cent</td>\n",
       "      <td>2006</td>\n",
       "      <td>8</td>\n",
       "      <td>United States</td>\n",
       "      <td>Musician</td>\n",
       "      <td>0</td>\n",
       "    </tr>\n",
       "    <tr>\n",
       "      <td>1</td>\n",
       "      <td>50_Cent</td>\n",
       "      <td>858673799</td>\n",
       "      <td>858765697</td>\n",
       "      <td>2018-09-09T13:11:00Z</td>\n",
       "      <td>ProspectIV</td>\n",
       "      <td>33893830.0</td>\n",
       "      <td>132476</td>\n",
       "      <td>50 Cent</td>\n",
       "      <td>2006</td>\n",
       "      <td>8</td>\n",
       "      <td>United States</td>\n",
       "      <td>Musician</td>\n",
       "      <td>0</td>\n",
       "    </tr>\n",
       "    <tr>\n",
       "      <td>2</td>\n",
       "      <td>50_Cent</td>\n",
       "      <td>858673121</td>\n",
       "      <td>858673799</td>\n",
       "      <td>2018-09-08T21:46:42Z</td>\n",
       "      <td>ProspectIV</td>\n",
       "      <td>33893830.0</td>\n",
       "      <td>132444</td>\n",
       "      <td>50 Cent</td>\n",
       "      <td>2006</td>\n",
       "      <td>8</td>\n",
       "      <td>United States</td>\n",
       "      <td>Musician</td>\n",
       "      <td>0</td>\n",
       "    </tr>\n",
       "    <tr>\n",
       "      <td>3</td>\n",
       "      <td>50_Cent</td>\n",
       "      <td>858673016</td>\n",
       "      <td>858673121</td>\n",
       "      <td>2018-09-08T21:39:37Z</td>\n",
       "      <td>ProspectIV</td>\n",
       "      <td>33893830.0</td>\n",
       "      <td>132345</td>\n",
       "      <td>50 Cent</td>\n",
       "      <td>2006</td>\n",
       "      <td>8</td>\n",
       "      <td>United States</td>\n",
       "      <td>Musician</td>\n",
       "      <td>0</td>\n",
       "    </tr>\n",
       "    <tr>\n",
       "      <td>4</td>\n",
       "      <td>50_Cent</td>\n",
       "      <td>858469414</td>\n",
       "      <td>858673016</td>\n",
       "      <td>2018-09-08T21:38:24Z</td>\n",
       "      <td>ProspectIV</td>\n",
       "      <td>33893830.0</td>\n",
       "      <td>132345</td>\n",
       "      <td>50 Cent</td>\n",
       "      <td>2006</td>\n",
       "      <td>8</td>\n",
       "      <td>United States</td>\n",
       "      <td>Musician</td>\n",
       "      <td>0</td>\n",
       "    </tr>\n",
       "  </tbody>\n",
       "</table>\n",
       "</div>"
      ],
      "text/plain": [
       "     title   parentid      revid             timestamp        user  \\\n",
       "0  50_Cent  858765697  858858564  2018-09-10T02:52:25Z  ProspectIV   \n",
       "1  50_Cent  858673799  858765697  2018-09-09T13:11:00Z  ProspectIV   \n",
       "2  50_Cent  858673121  858673799  2018-09-08T21:46:42Z  ProspectIV   \n",
       "3  50_Cent  858673016  858673121  2018-09-08T21:39:37Z  ProspectIV   \n",
       "4  50_Cent  858469414  858673016  2018-09-08T21:38:24Z  ProspectIV   \n",
       "\n",
       "       userid    size recipient  year  rank        country    career  tied  \n",
       "0  33893830.0  132452   50 Cent  2006     8  United States  Musician     0  \n",
       "1  33893830.0  132476   50 Cent  2006     8  United States  Musician     0  \n",
       "2  33893830.0  132444   50 Cent  2006     8  United States  Musician     0  \n",
       "3  33893830.0  132345   50 Cent  2006     8  United States  Musician     0  \n",
       "4  33893830.0  132345   50 Cent  2006     8  United States  Musician     0  "
      ]
     },
     "execution_count": 99,
     "metadata": {},
     "output_type": "execute_result"
    }
   ],
   "source": [
    "df.head()"
   ]
  },
  {
   "cell_type": "code",
   "execution_count": 100,
   "metadata": {},
   "outputs": [
    {
     "data": {
      "text/html": [
       "<div>\n",
       "<style scoped>\n",
       "    .dataframe tbody tr th:only-of-type {\n",
       "        vertical-align: middle;\n",
       "    }\n",
       "\n",
       "    .dataframe tbody tr th {\n",
       "        vertical-align: top;\n",
       "    }\n",
       "\n",
       "    .dataframe thead th {\n",
       "        text-align: right;\n",
       "    }\n",
       "</style>\n",
       "<table border=\"1\" class=\"dataframe\">\n",
       "  <thead>\n",
       "    <tr style=\"text-align: right;\">\n",
       "      <th></th>\n",
       "      <th>title</th>\n",
       "      <th>parentid</th>\n",
       "      <th>revid</th>\n",
       "      <th>timestamp</th>\n",
       "      <th>user</th>\n",
       "      <th>userid</th>\n",
       "      <th>size</th>\n",
       "      <th>recipient</th>\n",
       "      <th>year</th>\n",
       "      <th>rank</th>\n",
       "      <th>country</th>\n",
       "      <th>career</th>\n",
       "      <th>tied</th>\n",
       "    </tr>\n",
       "  </thead>\n",
       "  <tbody>\n",
       "    <tr>\n",
       "      <td>789338</td>\n",
       "      <td>U2</td>\n",
       "      <td>383222001</td>\n",
       "      <td>74600</td>\n",
       "      <td>2002-02-25T15:43:11Z</td>\n",
       "      <td>Conversion script</td>\n",
       "      <td>0.0</td>\n",
       "      <td>406</td>\n",
       "      <td>U2</td>\n",
       "      <td>2011</td>\n",
       "      <td>4</td>\n",
       "      <td>Republic of Ireland</td>\n",
       "      <td>Musicians</td>\n",
       "      <td>0</td>\n",
       "    </tr>\n",
       "    <tr>\n",
       "      <td>789339</td>\n",
       "      <td>U2</td>\n",
       "      <td>383221849</td>\n",
       "      <td>383222001</td>\n",
       "      <td>2001-12-19T22:47:40Z</td>\n",
       "      <td>144.132.75.xxx</td>\n",
       "      <td>0.0</td>\n",
       "      <td>402</td>\n",
       "      <td>U2</td>\n",
       "      <td>2011</td>\n",
       "      <td>4</td>\n",
       "      <td>Republic of Ireland</td>\n",
       "      <td>Musicians</td>\n",
       "      <td>0</td>\n",
       "    </tr>\n",
       "    <tr>\n",
       "      <td>789340</td>\n",
       "      <td>U2</td>\n",
       "      <td>292008</td>\n",
       "      <td>292009</td>\n",
       "      <td>2001-12-12T08:28:48Z</td>\n",
       "      <td>202.161.127.xxx</td>\n",
       "      <td>0.0</td>\n",
       "      <td>654</td>\n",
       "      <td>U2</td>\n",
       "      <td>2011</td>\n",
       "      <td>4</td>\n",
       "      <td>Republic of Ireland</td>\n",
       "      <td>Musicians</td>\n",
       "      <td>0</td>\n",
       "    </tr>\n",
       "    <tr>\n",
       "      <td>789341</td>\n",
       "      <td>U2</td>\n",
       "      <td>292007</td>\n",
       "      <td>292008</td>\n",
       "      <td>2001-12-03T17:45:09Z</td>\n",
       "      <td>193.133.134.xxx</td>\n",
       "      <td>0.0</td>\n",
       "      <td>409</td>\n",
       "      <td>U2</td>\n",
       "      <td>2011</td>\n",
       "      <td>4</td>\n",
       "      <td>Republic of Ireland</td>\n",
       "      <td>Musicians</td>\n",
       "      <td>0</td>\n",
       "    </tr>\n",
       "    <tr>\n",
       "      <td>789342</td>\n",
       "      <td>U2</td>\n",
       "      <td>0</td>\n",
       "      <td>292007</td>\n",
       "      <td>2001-08-08T12:04:31Z</td>\n",
       "      <td>Rrees</td>\n",
       "      <td>32609845.0</td>\n",
       "      <td>395</td>\n",
       "      <td>U2</td>\n",
       "      <td>2011</td>\n",
       "      <td>4</td>\n",
       "      <td>Republic of Ireland</td>\n",
       "      <td>Musicians</td>\n",
       "      <td>0</td>\n",
       "    </tr>\n",
       "  </tbody>\n",
       "</table>\n",
       "</div>"
      ],
      "text/plain": [
       "       title   parentid      revid             timestamp               user  \\\n",
       "789338    U2  383222001      74600  2002-02-25T15:43:11Z  Conversion script   \n",
       "789339    U2  383221849  383222001  2001-12-19T22:47:40Z     144.132.75.xxx   \n",
       "789340    U2     292008     292009  2001-12-12T08:28:48Z    202.161.127.xxx   \n",
       "789341    U2     292007     292008  2001-12-03T17:45:09Z    193.133.134.xxx   \n",
       "789342    U2          0     292007  2001-08-08T12:04:31Z              Rrees   \n",
       "\n",
       "            userid  size recipient  year  rank              country  \\\n",
       "789338         0.0   406        U2  2011     4  Republic of Ireland   \n",
       "789339         0.0   402        U2  2011     4  Republic of Ireland   \n",
       "789340         0.0   654        U2  2011     4  Republic of Ireland   \n",
       "789341         0.0   409        U2  2011     4  Republic of Ireland   \n",
       "789342  32609845.0   395        U2  2011     4  Republic of Ireland   \n",
       "\n",
       "           career  tied  \n",
       "789338  Musicians     0  \n",
       "789339  Musicians     0  \n",
       "789340  Musicians     0  \n",
       "789341  Musicians     0  \n",
       "789342  Musicians     0  "
      ]
     },
     "execution_count": 100,
     "metadata": {},
     "output_type": "execute_result"
    }
   ],
   "source": [
    "df.tail()"
   ]
  },
  {
   "cell_type": "code",
   "execution_count": 101,
   "metadata": {},
   "outputs": [
    {
     "data": {
      "text/plain": [
       "789343"
      ]
     },
     "execution_count": 101,
     "metadata": {},
     "output_type": "execute_result"
    }
   ],
   "source": [
    "len(pd.unique(df[\"revid\"])) # equal to the no. of rows in dataframe, as expected"
   ]
  },
  {
   "cell_type": "code",
   "execution_count": 103,
   "metadata": {},
   "outputs": [
    {
     "data": {
      "text/plain": [
       "82"
      ]
     },
     "execution_count": 103,
     "metadata": {},
     "output_type": "execute_result"
    }
   ],
   "source": [
    "len(pd.unique(df[\"title\"]))\n",
    "# equal to the no. of Forbes Celebrity List recipients, as expected"
   ]
  },
  {
   "cell_type": "code",
   "execution_count": 105,
   "metadata": {},
   "outputs": [
    {
     "data": {
      "text/plain": [
       "204528"
      ]
     },
     "execution_count": 105,
     "metadata": {},
     "output_type": "execute_result"
    }
   ],
   "source": [
    "len(pd.unique(df[\"user\"]))"
   ]
  },
  {
   "cell_type": "code",
   "execution_count": 106,
   "metadata": {},
   "outputs": [
    {
     "data": {
      "text/plain": [
       "69829"
      ]
     },
     "execution_count": 106,
     "metadata": {},
     "output_type": "execute_result"
    }
   ],
   "source": [
    "len(pd.unique(df[\"userid\"])) # this is a smaller number"
   ]
  },
  {
   "cell_type": "code",
   "execution_count": 107,
   "metadata": {},
   "outputs": [
    {
     "data": {
      "text/plain": [
       "GabeMc         4584\n",
       "Popeye191      4560\n",
       "SNUGGUMS       4493\n",
       "Andreasegde    4250\n",
       "ClueBot NG     2940\n",
       "Name: user, dtype: int64"
      ]
     },
     "execution_count": 107,
     "metadata": {},
     "output_type": "execute_result"
    }
   ],
   "source": [
    "df[\"user\"].value_counts().head()"
   ]
  },
  {
   "cell_type": "code",
   "execution_count": 108,
   "metadata": {},
   "outputs": [
    {
     "data": {
      "text/plain": [
       "0.0           243105\n",
       "11243047.0      4584\n",
       "6138283.0       4560\n",
       "19269270.0      4493\n",
       "1228034.0       4250\n",
       "Name: userid, dtype: int64"
      ]
     },
     "execution_count": 108,
     "metadata": {},
     "output_type": "execute_result"
    }
   ],
   "source": [
    "df[\"userid\"].value_counts().head() # for anonymous users, userid = 0"
   ]
  },
  {
   "cell_type": "code",
   "execution_count": 109,
   "metadata": {},
   "outputs": [
    {
     "data": {
      "text/html": [
       "<div>\n",
       "<style scoped>\n",
       "    .dataframe tbody tr th:only-of-type {\n",
       "        vertical-align: middle;\n",
       "    }\n",
       "\n",
       "    .dataframe tbody tr th {\n",
       "        vertical-align: top;\n",
       "    }\n",
       "\n",
       "    .dataframe thead th {\n",
       "        text-align: right;\n",
       "    }\n",
       "</style>\n",
       "<table border=\"1\" class=\"dataframe\">\n",
       "  <thead>\n",
       "    <tr style=\"text-align: right;\">\n",
       "      <th></th>\n",
       "      <th>title</th>\n",
       "      <th>parentid</th>\n",
       "      <th>revid</th>\n",
       "      <th>timestamp</th>\n",
       "      <th>user</th>\n",
       "      <th>userid</th>\n",
       "      <th>size</th>\n",
       "      <th>recipient</th>\n",
       "      <th>year</th>\n",
       "      <th>rank</th>\n",
       "      <th>country</th>\n",
       "      <th>career</th>\n",
       "      <th>tied</th>\n",
       "    </tr>\n",
       "  </thead>\n",
       "  <tbody>\n",
       "    <tr>\n",
       "      <td>2643</td>\n",
       "      <td>50_Cent</td>\n",
       "      <td>219167675</td>\n",
       "      <td>219176128</td>\n",
       "      <td>2008-06-13T22:43:27Z</td>\n",
       "      <td>209.161.4.106</td>\n",
       "      <td>0.0</td>\n",
       "      <td>48386</td>\n",
       "      <td>50 Cent</td>\n",
       "      <td>2006</td>\n",
       "      <td>8</td>\n",
       "      <td>United States</td>\n",
       "      <td>Musician</td>\n",
       "      <td>0</td>\n",
       "    </tr>\n",
       "    <tr>\n",
       "      <td>2645</td>\n",
       "      <td>50_Cent</td>\n",
       "      <td>219161723</td>\n",
       "      <td>219167119</td>\n",
       "      <td>2008-06-13T21:46:42Z</td>\n",
       "      <td>65.78.203.162</td>\n",
       "      <td>0.0</td>\n",
       "      <td>49406</td>\n",
       "      <td>50 Cent</td>\n",
       "      <td>2006</td>\n",
       "      <td>8</td>\n",
       "      <td>United States</td>\n",
       "      <td>Musician</td>\n",
       "      <td>0</td>\n",
       "    </tr>\n",
       "    <tr>\n",
       "      <td>2649</td>\n",
       "      <td>50_Cent</td>\n",
       "      <td>219119959</td>\n",
       "      <td>219120271</td>\n",
       "      <td>2008-06-13T17:44:54Z</td>\n",
       "      <td>70.109.117.173</td>\n",
       "      <td>0.0</td>\n",
       "      <td>613</td>\n",
       "      <td>50 Cent</td>\n",
       "      <td>2006</td>\n",
       "      <td>8</td>\n",
       "      <td>United States</td>\n",
       "      <td>Musician</td>\n",
       "      <td>0</td>\n",
       "    </tr>\n",
       "    <tr>\n",
       "      <td>2650</td>\n",
       "      <td>50_Cent</td>\n",
       "      <td>219112543</td>\n",
       "      <td>219119959</td>\n",
       "      <td>2008-06-13T17:43:22Z</td>\n",
       "      <td>70.109.117.173</td>\n",
       "      <td>0.0</td>\n",
       "      <td>49436</td>\n",
       "      <td>50 Cent</td>\n",
       "      <td>2006</td>\n",
       "      <td>8</td>\n",
       "      <td>United States</td>\n",
       "      <td>Musician</td>\n",
       "      <td>0</td>\n",
       "    </tr>\n",
       "    <tr>\n",
       "      <td>2652</td>\n",
       "      <td>50_Cent</td>\n",
       "      <td>219111996</td>\n",
       "      <td>219112512</td>\n",
       "      <td>2008-06-13T17:00:52Z</td>\n",
       "      <td>75.3.141.196</td>\n",
       "      <td>0.0</td>\n",
       "      <td>49427</td>\n",
       "      <td>50 Cent</td>\n",
       "      <td>2006</td>\n",
       "      <td>8</td>\n",
       "      <td>United States</td>\n",
       "      <td>Musician</td>\n",
       "      <td>0</td>\n",
       "    </tr>\n",
       "  </tbody>\n",
       "</table>\n",
       "</div>"
      ],
      "text/plain": [
       "        title   parentid      revid             timestamp            user  \\\n",
       "2643  50_Cent  219167675  219176128  2008-06-13T22:43:27Z   209.161.4.106   \n",
       "2645  50_Cent  219161723  219167119  2008-06-13T21:46:42Z   65.78.203.162   \n",
       "2649  50_Cent  219119959  219120271  2008-06-13T17:44:54Z  70.109.117.173   \n",
       "2650  50_Cent  219112543  219119959  2008-06-13T17:43:22Z  70.109.117.173   \n",
       "2652  50_Cent  219111996  219112512  2008-06-13T17:00:52Z    75.3.141.196   \n",
       "\n",
       "      userid   size recipient  year  rank        country    career  tied  \n",
       "2643     0.0  48386   50 Cent  2006     8  United States  Musician     0  \n",
       "2645     0.0  49406   50 Cent  2006     8  United States  Musician     0  \n",
       "2649     0.0    613   50 Cent  2006     8  United States  Musician     0  \n",
       "2650     0.0  49436   50 Cent  2006     8  United States  Musician     0  \n",
       "2652     0.0  49427   50 Cent  2006     8  United States  Musician     0  "
      ]
     },
     "execution_count": 109,
     "metadata": {},
     "output_type": "execute_result"
    }
   ],
   "source": [
    "df[df[\"userid\"]==0].head() # for anonymous users, user = IP address"
   ]
  },
  {
   "cell_type": "code",
   "execution_count": 110,
   "metadata": {},
   "outputs": [
    {
     "data": {
      "text/plain": [
       "Roger_Federer     24641\n",
       "Britney_Spears    24640\n",
       "The_Beatles       23342\n",
       "Beyonce           20811\n",
       "Eminem            19899\n",
       "Name: title, dtype: int64"
      ]
     },
     "execution_count": 110,
     "metadata": {},
     "output_type": "execute_result"
    }
   ],
   "source": [
    "df[\"title\"].value_counts().head(5)"
   ]
  },
  {
   "cell_type": "code",
   "execution_count": 111,
   "metadata": {},
   "outputs": [
    {
     "data": {
      "text/plain": [
       "Kylie_Jenner       3056\n",
       "Judy_Sheindlin     2762\n",
       "Phil_McGraw        2638\n",
       "Paula_Deen         2563\n",
       "James_Patterson    2543\n",
       "Name: title, dtype: int64"
      ]
     },
     "execution_count": 111,
     "metadata": {},
     "output_type": "execute_result"
    }
   ],
   "source": [
    "df[\"title\"].value_counts().tail(5)"
   ]
  },
  {
   "cell_type": "code",
   "execution_count": 112,
   "metadata": {},
   "outputs": [],
   "source": [
    "fn_out = \"../output/wikipedia_metrics.csv\""
   ]
  },
  {
   "cell_type": "code",
   "execution_count": 113,
   "metadata": {},
   "outputs": [],
   "source": [
    "fn = \"../input/wikipedia_edits.csv.zip\"\n",
    "df = pd.read_csv(fn)"
   ]
  },
  {
   "cell_type": "code",
   "execution_count": 114,
   "metadata": {},
   "outputs": [
    {
     "data": {
      "text/plain": [
       "789343"
      ]
     },
     "execution_count": 114,
     "metadata": {},
     "output_type": "execute_result"
    }
   ],
   "source": [
    "len(df)"
   ]
  },
  {
   "cell_type": "code",
   "execution_count": 115,
   "metadata": {},
   "outputs": [
    {
     "data": {
      "text/html": [
       "<div>\n",
       "<style scoped>\n",
       "    .dataframe tbody tr th:only-of-type {\n",
       "        vertical-align: middle;\n",
       "    }\n",
       "\n",
       "    .dataframe tbody tr th {\n",
       "        vertical-align: top;\n",
       "    }\n",
       "\n",
       "    .dataframe thead th {\n",
       "        text-align: right;\n",
       "    }\n",
       "</style>\n",
       "<table border=\"1\" class=\"dataframe\">\n",
       "  <thead>\n",
       "    <tr style=\"text-align: right;\">\n",
       "      <th></th>\n",
       "      <th>title</th>\n",
       "      <th>parentid</th>\n",
       "      <th>revid</th>\n",
       "      <th>timestamp</th>\n",
       "      <th>user</th>\n",
       "      <th>userid</th>\n",
       "      <th>size</th>\n",
       "      <th>recipient</th>\n",
       "      <th>year</th>\n",
       "      <th>rank</th>\n",
       "      <th>country</th>\n",
       "      <th>career</th>\n",
       "      <th>tied</th>\n",
       "    </tr>\n",
       "  </thead>\n",
       "  <tbody>\n",
       "    <tr>\n",
       "      <td>0</td>\n",
       "      <td>50_Cent</td>\n",
       "      <td>858765697</td>\n",
       "      <td>858858564</td>\n",
       "      <td>2018-09-10T02:52:25Z</td>\n",
       "      <td>ProspectIV</td>\n",
       "      <td>33893830.0</td>\n",
       "      <td>132452</td>\n",
       "      <td>50 Cent</td>\n",
       "      <td>2006</td>\n",
       "      <td>8</td>\n",
       "      <td>United States</td>\n",
       "      <td>Musician</td>\n",
       "      <td>0</td>\n",
       "    </tr>\n",
       "    <tr>\n",
       "      <td>1</td>\n",
       "      <td>50_Cent</td>\n",
       "      <td>858673799</td>\n",
       "      <td>858765697</td>\n",
       "      <td>2018-09-09T13:11:00Z</td>\n",
       "      <td>ProspectIV</td>\n",
       "      <td>33893830.0</td>\n",
       "      <td>132476</td>\n",
       "      <td>50 Cent</td>\n",
       "      <td>2006</td>\n",
       "      <td>8</td>\n",
       "      <td>United States</td>\n",
       "      <td>Musician</td>\n",
       "      <td>0</td>\n",
       "    </tr>\n",
       "    <tr>\n",
       "      <td>2</td>\n",
       "      <td>50_Cent</td>\n",
       "      <td>858673121</td>\n",
       "      <td>858673799</td>\n",
       "      <td>2018-09-08T21:46:42Z</td>\n",
       "      <td>ProspectIV</td>\n",
       "      <td>33893830.0</td>\n",
       "      <td>132444</td>\n",
       "      <td>50 Cent</td>\n",
       "      <td>2006</td>\n",
       "      <td>8</td>\n",
       "      <td>United States</td>\n",
       "      <td>Musician</td>\n",
       "      <td>0</td>\n",
       "    </tr>\n",
       "    <tr>\n",
       "      <td>3</td>\n",
       "      <td>50_Cent</td>\n",
       "      <td>858673016</td>\n",
       "      <td>858673121</td>\n",
       "      <td>2018-09-08T21:39:37Z</td>\n",
       "      <td>ProspectIV</td>\n",
       "      <td>33893830.0</td>\n",
       "      <td>132345</td>\n",
       "      <td>50 Cent</td>\n",
       "      <td>2006</td>\n",
       "      <td>8</td>\n",
       "      <td>United States</td>\n",
       "      <td>Musician</td>\n",
       "      <td>0</td>\n",
       "    </tr>\n",
       "    <tr>\n",
       "      <td>4</td>\n",
       "      <td>50_Cent</td>\n",
       "      <td>858469414</td>\n",
       "      <td>858673016</td>\n",
       "      <td>2018-09-08T21:38:24Z</td>\n",
       "      <td>ProspectIV</td>\n",
       "      <td>33893830.0</td>\n",
       "      <td>132345</td>\n",
       "      <td>50 Cent</td>\n",
       "      <td>2006</td>\n",
       "      <td>8</td>\n",
       "      <td>United States</td>\n",
       "      <td>Musician</td>\n",
       "      <td>0</td>\n",
       "    </tr>\n",
       "  </tbody>\n",
       "</table>\n",
       "</div>"
      ],
      "text/plain": [
       "     title   parentid      revid             timestamp        user  \\\n",
       "0  50_Cent  858765697  858858564  2018-09-10T02:52:25Z  ProspectIV   \n",
       "1  50_Cent  858673799  858765697  2018-09-09T13:11:00Z  ProspectIV   \n",
       "2  50_Cent  858673121  858673799  2018-09-08T21:46:42Z  ProspectIV   \n",
       "3  50_Cent  858673016  858673121  2018-09-08T21:39:37Z  ProspectIV   \n",
       "4  50_Cent  858469414  858673016  2018-09-08T21:38:24Z  ProspectIV   \n",
       "\n",
       "       userid    size recipient  year  rank        country    career  tied  \n",
       "0  33893830.0  132452   50 Cent  2006     8  United States  Musician     0  \n",
       "1  33893830.0  132476   50 Cent  2006     8  United States  Musician     0  \n",
       "2  33893830.0  132444   50 Cent  2006     8  United States  Musician     0  \n",
       "3  33893830.0  132345   50 Cent  2006     8  United States  Musician     0  \n",
       "4  33893830.0  132345   50 Cent  2006     8  United States  Musician     0  "
      ]
     },
     "execution_count": 115,
     "metadata": {},
     "output_type": "execute_result"
    }
   ],
   "source": [
    "df.head()"
   ]
  },
  {
   "cell_type": "code",
   "execution_count": 117,
   "metadata": {},
   "outputs": [],
   "source": [
    "df_edits = df.groupby(\"title\")[\"revid\"].agg([len])"
   ]
  },
  {
   "cell_type": "code",
   "execution_count": 118,
   "metadata": {},
   "outputs": [
    {
     "data": {
      "text/html": [
       "<div>\n",
       "<style scoped>\n",
       "    .dataframe tbody tr th:only-of-type {\n",
       "        vertical-align: middle;\n",
       "    }\n",
       "\n",
       "    .dataframe tbody tr th {\n",
       "        vertical-align: top;\n",
       "    }\n",
       "\n",
       "    .dataframe thead th {\n",
       "        text-align: right;\n",
       "    }\n",
       "</style>\n",
       "<table border=\"1\" class=\"dataframe\">\n",
       "  <thead>\n",
       "    <tr style=\"text-align: right;\">\n",
       "      <th></th>\n",
       "      <th>len</th>\n",
       "    </tr>\n",
       "    <tr>\n",
       "      <th>title</th>\n",
       "      <th></th>\n",
       "    </tr>\n",
       "  </thead>\n",
       "  <tbody>\n",
       "    <tr>\n",
       "      <td>50_Cent</td>\n",
       "      <td>13066</td>\n",
       "    </tr>\n",
       "    <tr>\n",
       "      <td>Adele</td>\n",
       "      <td>6725</td>\n",
       "    </tr>\n",
       "    <tr>\n",
       "      <td>Angelina_Jolie</td>\n",
       "      <td>7336</td>\n",
       "    </tr>\n",
       "    <tr>\n",
       "      <td>Backstreet_Boys</td>\n",
       "      <td>10270</td>\n",
       "    </tr>\n",
       "    <tr>\n",
       "      <td>Ben_Affleck</td>\n",
       "      <td>9263</td>\n",
       "    </tr>\n",
       "  </tbody>\n",
       "</table>\n",
       "</div>"
      ],
      "text/plain": [
       "                   len\n",
       "title                 \n",
       "50_Cent          13066\n",
       "Adele             6725\n",
       "Angelina_Jolie    7336\n",
       "Backstreet_Boys  10270\n",
       "Ben_Affleck       9263"
      ]
     },
     "execution_count": 118,
     "metadata": {},
     "output_type": "execute_result"
    }
   ],
   "source": [
    "df_edits.head()"
   ]
  },
  {
   "cell_type": "code",
   "execution_count": 119,
   "metadata": {},
   "outputs": [],
   "source": [
    "df_edits.columns = [\"edits\"]"
   ]
  },
  {
   "cell_type": "code",
   "execution_count": 120,
   "metadata": {},
   "outputs": [
    {
     "data": {
      "text/html": [
       "<div>\n",
       "<style scoped>\n",
       "    .dataframe tbody tr th:only-of-type {\n",
       "        vertical-align: middle;\n",
       "    }\n",
       "\n",
       "    .dataframe tbody tr th {\n",
       "        vertical-align: top;\n",
       "    }\n",
       "\n",
       "    .dataframe thead th {\n",
       "        text-align: right;\n",
       "    }\n",
       "</style>\n",
       "<table border=\"1\" class=\"dataframe\">\n",
       "  <thead>\n",
       "    <tr style=\"text-align: right;\">\n",
       "      <th></th>\n",
       "      <th>edits</th>\n",
       "    </tr>\n",
       "    <tr>\n",
       "      <th>title</th>\n",
       "      <th></th>\n",
       "    </tr>\n",
       "  </thead>\n",
       "  <tbody>\n",
       "    <tr>\n",
       "      <td>50_Cent</td>\n",
       "      <td>13066</td>\n",
       "    </tr>\n",
       "    <tr>\n",
       "      <td>Adele</td>\n",
       "      <td>6725</td>\n",
       "    </tr>\n",
       "    <tr>\n",
       "      <td>Angelina_Jolie</td>\n",
       "      <td>7336</td>\n",
       "    </tr>\n",
       "    <tr>\n",
       "      <td>Backstreet_Boys</td>\n",
       "      <td>10270</td>\n",
       "    </tr>\n",
       "    <tr>\n",
       "      <td>Ben_Affleck</td>\n",
       "      <td>9263</td>\n",
       "    </tr>\n",
       "  </tbody>\n",
       "</table>\n",
       "</div>"
      ],
      "text/plain": [
       "                 edits\n",
       "title                 \n",
       "50_Cent          13066\n",
       "Adele             6725\n",
       "Angelina_Jolie    7336\n",
       "Backstreet_Boys  10270\n",
       "Ben_Affleck       9263"
      ]
     },
     "execution_count": 120,
     "metadata": {},
     "output_type": "execute_result"
    }
   ],
   "source": [
    "df_edits.head()"
   ]
  },
  {
   "cell_type": "code",
   "execution_count": 121,
   "metadata": {},
   "outputs": [],
   "source": [
    "df_edits.columns = [\"edits\"]"
   ]
  },
  {
   "cell_type": "code",
   "execution_count": 122,
   "metadata": {},
   "outputs": [
    {
     "data": {
      "text/html": [
       "<div>\n",
       "<style scoped>\n",
       "    .dataframe tbody tr th:only-of-type {\n",
       "        vertical-align: middle;\n",
       "    }\n",
       "\n",
       "    .dataframe tbody tr th {\n",
       "        vertical-align: top;\n",
       "    }\n",
       "\n",
       "    .dataframe thead th {\n",
       "        text-align: right;\n",
       "    }\n",
       "</style>\n",
       "<table border=\"1\" class=\"dataframe\">\n",
       "  <thead>\n",
       "    <tr style=\"text-align: right;\">\n",
       "      <th></th>\n",
       "      <th>edits</th>\n",
       "    </tr>\n",
       "    <tr>\n",
       "      <th>title</th>\n",
       "      <th></th>\n",
       "    </tr>\n",
       "  </thead>\n",
       "  <tbody>\n",
       "    <tr>\n",
       "      <td>50_Cent</td>\n",
       "      <td>13066</td>\n",
       "    </tr>\n",
       "    <tr>\n",
       "      <td>Adele</td>\n",
       "      <td>6725</td>\n",
       "    </tr>\n",
       "    <tr>\n",
       "      <td>Angelina_Jolie</td>\n",
       "      <td>7336</td>\n",
       "    </tr>\n",
       "    <tr>\n",
       "      <td>Backstreet_Boys</td>\n",
       "      <td>10270</td>\n",
       "    </tr>\n",
       "    <tr>\n",
       "      <td>Ben_Affleck</td>\n",
       "      <td>9263</td>\n",
       "    </tr>\n",
       "  </tbody>\n",
       "</table>\n",
       "</div>"
      ],
      "text/plain": [
       "                 edits\n",
       "title                 \n",
       "50_Cent          13066\n",
       "Adele             6725\n",
       "Angelina_Jolie    7336\n",
       "Backstreet_Boys  10270\n",
       "Ben_Affleck       9263"
      ]
     },
     "execution_count": 122,
     "metadata": {},
     "output_type": "execute_result"
    }
   ],
   "source": [
    "df_edits.head()"
   ]
  },
  {
   "cell_type": "code",
   "execution_count": 123,
   "metadata": {},
   "outputs": [
    {
     "data": {
      "text/html": [
       "<div>\n",
       "<style scoped>\n",
       "    .dataframe tbody tr th:only-of-type {\n",
       "        vertical-align: middle;\n",
       "    }\n",
       "\n",
       "    .dataframe tbody tr th {\n",
       "        vertical-align: top;\n",
       "    }\n",
       "\n",
       "    .dataframe thead th {\n",
       "        text-align: right;\n",
       "    }\n",
       "</style>\n",
       "<table border=\"1\" class=\"dataframe\">\n",
       "  <thead>\n",
       "    <tr style=\"text-align: right;\">\n",
       "      <th></th>\n",
       "      <th>edits</th>\n",
       "    </tr>\n",
       "    <tr>\n",
       "      <th>title</th>\n",
       "      <th></th>\n",
       "    </tr>\n",
       "  </thead>\n",
       "  <tbody>\n",
       "    <tr>\n",
       "      <td>Roger_Federer</td>\n",
       "      <td>24641</td>\n",
       "    </tr>\n",
       "    <tr>\n",
       "      <td>Britney_Spears</td>\n",
       "      <td>24640</td>\n",
       "    </tr>\n",
       "    <tr>\n",
       "      <td>The_Beatles</td>\n",
       "      <td>23342</td>\n",
       "    </tr>\n",
       "    <tr>\n",
       "      <td>Beyonce</td>\n",
       "      <td>20811</td>\n",
       "    </tr>\n",
       "    <tr>\n",
       "      <td>Eminem</td>\n",
       "      <td>19899</td>\n",
       "    </tr>\n",
       "  </tbody>\n",
       "</table>\n",
       "</div>"
      ],
      "text/plain": [
       "                edits\n",
       "title                \n",
       "Roger_Federer   24641\n",
       "Britney_Spears  24640\n",
       "The_Beatles     23342\n",
       "Beyonce         20811\n",
       "Eminem          19899"
      ]
     },
     "execution_count": 123,
     "metadata": {},
     "output_type": "execute_result"
    }
   ],
   "source": [
    "df_edits.sort_values(by=\"edits\", ascending=False).head(5)"
   ]
  },
  {
   "cell_type": "code",
   "execution_count": 125,
   "metadata": {},
   "outputs": [],
   "source": [
    "df_size = df.groupby(\"title\")[\"size\"].agg([np.sum])"
   ]
  },
  {
   "cell_type": "code",
   "execution_count": 126,
   "metadata": {},
   "outputs": [],
   "source": [
    "df_size.columns = [\"size\"]"
   ]
  },
  {
   "cell_type": "code",
   "execution_count": 127,
   "metadata": {},
   "outputs": [
    {
     "data": {
      "text/html": [
       "<div>\n",
       "<style scoped>\n",
       "    .dataframe tbody tr th:only-of-type {\n",
       "        vertical-align: middle;\n",
       "    }\n",
       "\n",
       "    .dataframe tbody tr th {\n",
       "        vertical-align: top;\n",
       "    }\n",
       "\n",
       "    .dataframe thead th {\n",
       "        text-align: right;\n",
       "    }\n",
       "</style>\n",
       "<table border=\"1\" class=\"dataframe\">\n",
       "  <thead>\n",
       "    <tr style=\"text-align: right;\">\n",
       "      <th></th>\n",
       "      <th>size</th>\n",
       "    </tr>\n",
       "    <tr>\n",
       "      <th>title</th>\n",
       "      <th></th>\n",
       "    </tr>\n",
       "  </thead>\n",
       "  <tbody>\n",
       "    <tr>\n",
       "      <td>50_Cent</td>\n",
       "      <td>518204129</td>\n",
       "    </tr>\n",
       "    <tr>\n",
       "      <td>Adele</td>\n",
       "      <td>456912673</td>\n",
       "    </tr>\n",
       "    <tr>\n",
       "      <td>Angelina_Jolie</td>\n",
       "      <td>531496219</td>\n",
       "    </tr>\n",
       "    <tr>\n",
       "      <td>Backstreet_Boys</td>\n",
       "      <td>412497115</td>\n",
       "    </tr>\n",
       "    <tr>\n",
       "      <td>Ben_Affleck</td>\n",
       "      <td>906521569</td>\n",
       "    </tr>\n",
       "  </tbody>\n",
       "</table>\n",
       "</div>"
      ],
      "text/plain": [
       "                      size\n",
       "title                     \n",
       "50_Cent          518204129\n",
       "Adele            456912673\n",
       "Angelina_Jolie   531496219\n",
       "Backstreet_Boys  412497115\n",
       "Ben_Affleck      906521569"
      ]
     },
     "execution_count": 127,
     "metadata": {},
     "output_type": "execute_result"
    }
   ],
   "source": [
    "df_size.head()"
   ]
  },
  {
   "cell_type": "code",
   "execution_count": 128,
   "metadata": {},
   "outputs": [
    {
     "data": {
      "text/html": [
       "<div>\n",
       "<style scoped>\n",
       "    .dataframe tbody tr th:only-of-type {\n",
       "        vertical-align: middle;\n",
       "    }\n",
       "\n",
       "    .dataframe tbody tr th {\n",
       "        vertical-align: top;\n",
       "    }\n",
       "\n",
       "    .dataframe thead th {\n",
       "        text-align: right;\n",
       "    }\n",
       "</style>\n",
       "<table border=\"1\" class=\"dataframe\">\n",
       "  <thead>\n",
       "    <tr style=\"text-align: right;\">\n",
       "      <th></th>\n",
       "      <th>size</th>\n",
       "    </tr>\n",
       "    <tr>\n",
       "      <th>title</th>\n",
       "      <th></th>\n",
       "    </tr>\n",
       "  </thead>\n",
       "  <tbody>\n",
       "    <tr>\n",
       "      <td>Roger_Federer</td>\n",
       "      <td>2545161596</td>\n",
       "    </tr>\n",
       "    <tr>\n",
       "      <td>Cristiano_Ronaldo</td>\n",
       "      <td>2351953387</td>\n",
       "    </tr>\n",
       "    <tr>\n",
       "      <td>Paul_McCartney</td>\n",
       "      <td>2059061790</td>\n",
       "    </tr>\n",
       "    <tr>\n",
       "      <td>The_Beatles</td>\n",
       "      <td>2055056731</td>\n",
       "    </tr>\n",
       "    <tr>\n",
       "      <td>Lionel_Messi</td>\n",
       "      <td>1977764924</td>\n",
       "    </tr>\n",
       "  </tbody>\n",
       "</table>\n",
       "</div>"
      ],
      "text/plain": [
       "                         size\n",
       "title                        \n",
       "Roger_Federer      2545161596\n",
       "Cristiano_Ronaldo  2351953387\n",
       "Paul_McCartney     2059061790\n",
       "The_Beatles        2055056731\n",
       "Lionel_Messi       1977764924"
      ]
     },
     "execution_count": 128,
     "metadata": {},
     "output_type": "execute_result"
    }
   ],
   "source": [
    "df_size.sort_values(by=\"size\", ascending=False).head(5)"
   ]
  },
  {
   "cell_type": "code",
   "execution_count": 130,
   "metadata": {},
   "outputs": [
    {
     "data": {
      "text/html": [
       "<div>\n",
       "<style scoped>\n",
       "    .dataframe tbody tr th:only-of-type {\n",
       "        vertical-align: middle;\n",
       "    }\n",
       "\n",
       "    .dataframe tbody tr th {\n",
       "        vertical-align: top;\n",
       "    }\n",
       "\n",
       "    .dataframe thead th {\n",
       "        text-align: right;\n",
       "    }\n",
       "</style>\n",
       "<table border=\"1\" class=\"dataframe\">\n",
       "  <thead>\n",
       "    <tr style=\"text-align: right;\">\n",
       "      <th></th>\n",
       "      <th>size</th>\n",
       "    </tr>\n",
       "    <tr>\n",
       "      <th>title</th>\n",
       "      <th></th>\n",
       "    </tr>\n",
       "  </thead>\n",
       "  <tbody>\n",
       "    <tr>\n",
       "      <td>50_Cent</td>\n",
       "      <td>518204129</td>\n",
       "    </tr>\n",
       "    <tr>\n",
       "      <td>Adele</td>\n",
       "      <td>456912673</td>\n",
       "    </tr>\n",
       "    <tr>\n",
       "      <td>Angelina_Jolie</td>\n",
       "      <td>531496219</td>\n",
       "    </tr>\n",
       "    <tr>\n",
       "      <td>Backstreet_Boys</td>\n",
       "      <td>412497115</td>\n",
       "    </tr>\n",
       "    <tr>\n",
       "      <td>Ben_Affleck</td>\n",
       "      <td>906521569</td>\n",
       "    </tr>\n",
       "  </tbody>\n",
       "</table>\n",
       "</div>"
      ],
      "text/plain": [
       "                      size\n",
       "title                     \n",
       "50_Cent          518204129\n",
       "Adele            456912673\n",
       "Angelina_Jolie   531496219\n",
       "Backstreet_Boys  412497115\n",
       "Ben_Affleck      906521569"
      ]
     },
     "execution_count": 130,
     "metadata": {},
     "output_type": "execute_result"
    }
   ],
   "source": [
    "df_size = df.groupby(\"title\")[\"size\"].agg([np.sum])\n",
    "df_size.columns = [\"size\"]\n",
    "df_size.head()"
   ]
  },
  {
   "cell_type": "code",
   "execution_count": 132,
   "metadata": {},
   "outputs": [
    {
     "data": {
      "text/html": [
       "<div>\n",
       "<style scoped>\n",
       "    .dataframe tbody tr th:only-of-type {\n",
       "        vertical-align: middle;\n",
       "    }\n",
       "\n",
       "    .dataframe tbody tr th {\n",
       "        vertical-align: top;\n",
       "    }\n",
       "\n",
       "    .dataframe thead th {\n",
       "        text-align: right;\n",
       "    }\n",
       "</style>\n",
       "<table border=\"1\" class=\"dataframe\">\n",
       "  <thead>\n",
       "    <tr style=\"text-align: right;\">\n",
       "      <th></th>\n",
       "      <th>size</th>\n",
       "    </tr>\n",
       "    <tr>\n",
       "      <th>title</th>\n",
       "      <th></th>\n",
       "    </tr>\n",
       "  </thead>\n",
       "  <tbody>\n",
       "    <tr>\n",
       "      <td>Roger_Federer</td>\n",
       "      <td>2545161596</td>\n",
       "    </tr>\n",
       "    <tr>\n",
       "      <td>Cristiano_Ronaldo</td>\n",
       "      <td>2351953387</td>\n",
       "    </tr>\n",
       "    <tr>\n",
       "      <td>Paul_McCartney</td>\n",
       "      <td>2059061790</td>\n",
       "    </tr>\n",
       "    <tr>\n",
       "      <td>The_Beatles</td>\n",
       "      <td>2055056731</td>\n",
       "    </tr>\n",
       "    <tr>\n",
       "      <td>Lionel_Messi</td>\n",
       "      <td>1977764924</td>\n",
       "    </tr>\n",
       "  </tbody>\n",
       "</table>\n",
       "</div>"
      ],
      "text/plain": [
       "                         size\n",
       "title                        \n",
       "Roger_Federer      2545161596\n",
       "Cristiano_Ronaldo  2351953387\n",
       "Paul_McCartney     2059061790\n",
       "The_Beatles        2055056731\n",
       "Lionel_Messi       1977764924"
      ]
     },
     "execution_count": 132,
     "metadata": {},
     "output_type": "execute_result"
    }
   ],
   "source": [
    "df_size.sort_values(by=\"size\", ascending=False).head(5)"
   ]
  },
  {
   "cell_type": "code",
   "execution_count": 133,
   "metadata": {},
   "outputs": [],
   "source": [
    "df_size = df.groupby(\"title\")[\"size\"].agg([np.sum])"
   ]
  },
  {
   "cell_type": "code",
   "execution_count": 134,
   "metadata": {},
   "outputs": [],
   "source": [
    "df_size.columns = [\"size\"]"
   ]
  },
  {
   "cell_type": "code",
   "execution_count": 135,
   "metadata": {},
   "outputs": [
    {
     "data": {
      "text/html": [
       "<div>\n",
       "<style scoped>\n",
       "    .dataframe tbody tr th:only-of-type {\n",
       "        vertical-align: middle;\n",
       "    }\n",
       "\n",
       "    .dataframe tbody tr th {\n",
       "        vertical-align: top;\n",
       "    }\n",
       "\n",
       "    .dataframe thead th {\n",
       "        text-align: right;\n",
       "    }\n",
       "</style>\n",
       "<table border=\"1\" class=\"dataframe\">\n",
       "  <thead>\n",
       "    <tr style=\"text-align: right;\">\n",
       "      <th></th>\n",
       "      <th>size</th>\n",
       "    </tr>\n",
       "    <tr>\n",
       "      <th>title</th>\n",
       "      <th></th>\n",
       "    </tr>\n",
       "  </thead>\n",
       "  <tbody>\n",
       "    <tr>\n",
       "      <td>50_Cent</td>\n",
       "      <td>518204129</td>\n",
       "    </tr>\n",
       "    <tr>\n",
       "      <td>Adele</td>\n",
       "      <td>456912673</td>\n",
       "    </tr>\n",
       "    <tr>\n",
       "      <td>Angelina_Jolie</td>\n",
       "      <td>531496219</td>\n",
       "    </tr>\n",
       "    <tr>\n",
       "      <td>Backstreet_Boys</td>\n",
       "      <td>412497115</td>\n",
       "    </tr>\n",
       "    <tr>\n",
       "      <td>Ben_Affleck</td>\n",
       "      <td>906521569</td>\n",
       "    </tr>\n",
       "  </tbody>\n",
       "</table>\n",
       "</div>"
      ],
      "text/plain": [
       "                      size\n",
       "title                     \n",
       "50_Cent          518204129\n",
       "Adele            456912673\n",
       "Angelina_Jolie   531496219\n",
       "Backstreet_Boys  412497115\n",
       "Ben_Affleck      906521569"
      ]
     },
     "execution_count": 135,
     "metadata": {},
     "output_type": "execute_result"
    }
   ],
   "source": [
    "df_size.head()"
   ]
  },
  {
   "cell_type": "code",
   "execution_count": 136,
   "metadata": {},
   "outputs": [
    {
     "data": {
      "text/html": [
       "<div>\n",
       "<style scoped>\n",
       "    .dataframe tbody tr th:only-of-type {\n",
       "        vertical-align: middle;\n",
       "    }\n",
       "\n",
       "    .dataframe tbody tr th {\n",
       "        vertical-align: top;\n",
       "    }\n",
       "\n",
       "    .dataframe thead th {\n",
       "        text-align: right;\n",
       "    }\n",
       "</style>\n",
       "<table border=\"1\" class=\"dataframe\">\n",
       "  <thead>\n",
       "    <tr style=\"text-align: right;\">\n",
       "      <th></th>\n",
       "      <th>edits</th>\n",
       "    </tr>\n",
       "    <tr>\n",
       "      <th>title</th>\n",
       "      <th></th>\n",
       "    </tr>\n",
       "  </thead>\n",
       "  <tbody>\n",
       "    <tr>\n",
       "      <td>Roger_Federer</td>\n",
       "      <td>24641</td>\n",
       "    </tr>\n",
       "    <tr>\n",
       "      <td>Britney_Spears</td>\n",
       "      <td>24640</td>\n",
       "    </tr>\n",
       "    <tr>\n",
       "      <td>The_Beatles</td>\n",
       "      <td>23342</td>\n",
       "    </tr>\n",
       "    <tr>\n",
       "      <td>Beyonce</td>\n",
       "      <td>20811</td>\n",
       "    </tr>\n",
       "    <tr>\n",
       "      <td>Eminem</td>\n",
       "      <td>19899</td>\n",
       "    </tr>\n",
       "  </tbody>\n",
       "</table>\n",
       "</div>"
      ],
      "text/plain": [
       "                edits\n",
       "title                \n",
       "Roger_Federer   24641\n",
       "Britney_Spears  24640\n",
       "The_Beatles     23342\n",
       "Beyonce         20811\n",
       "Eminem          19899"
      ]
     },
     "execution_count": 136,
     "metadata": {},
     "output_type": "execute_result"
    }
   ],
   "source": [
    "df_edits.sort_values(by=\"edits\", ascending=False).head(5)"
   ]
  },
  {
   "cell_type": "code",
   "execution_count": 142,
   "metadata": {},
   "outputs": [
    {
     "data": {
      "text/html": [
       "<div>\n",
       "<style scoped>\n",
       "    .dataframe tbody tr th:only-of-type {\n",
       "        vertical-align: middle;\n",
       "    }\n",
       "\n",
       "    .dataframe tbody tr th {\n",
       "        vertical-align: top;\n",
       "    }\n",
       "\n",
       "    .dataframe thead th {\n",
       "        text-align: right;\n",
       "    }\n",
       "</style>\n",
       "<table border=\"1\" class=\"dataframe\">\n",
       "  <thead>\n",
       "    <tr style=\"text-align: right;\">\n",
       "      <th></th>\n",
       "      <th>size</th>\n",
       "    </tr>\n",
       "    <tr>\n",
       "      <th>title</th>\n",
       "      <th></th>\n",
       "    </tr>\n",
       "  </thead>\n",
       "  <tbody>\n",
       "    <tr>\n",
       "      <td>50_Cent</td>\n",
       "      <td>518204129</td>\n",
       "    </tr>\n",
       "    <tr>\n",
       "      <td>Adele</td>\n",
       "      <td>456912673</td>\n",
       "    </tr>\n",
       "    <tr>\n",
       "      <td>Angelina_Jolie</td>\n",
       "      <td>531496219</td>\n",
       "    </tr>\n",
       "    <tr>\n",
       "      <td>Backstreet_Boys</td>\n",
       "      <td>412497115</td>\n",
       "    </tr>\n",
       "    <tr>\n",
       "      <td>Ben_Affleck</td>\n",
       "      <td>906521569</td>\n",
       "    </tr>\n",
       "  </tbody>\n",
       "</table>\n",
       "</div>"
      ],
      "text/plain": [
       "                      size\n",
       "title                     \n",
       "50_Cent          518204129\n",
       "Adele            456912673\n",
       "Angelina_Jolie   531496219\n",
       "Backstreet_Boys  412497115\n",
       "Ben_Affleck      906521569"
      ]
     },
     "execution_count": 142,
     "metadata": {},
     "output_type": "execute_result"
    }
   ],
   "source": [
    "df_size = df.groupby(\"title\")[\"size\"].agg([np.sum])\n",
    "df_size.columns = [\"size\"]\n",
    "df_size.head()"
   ]
  },
  {
   "cell_type": "code",
   "execution_count": 143,
   "metadata": {},
   "outputs": [
    {
     "data": {
      "text/html": [
       "<div>\n",
       "<style scoped>\n",
       "    .dataframe tbody tr th:only-of-type {\n",
       "        vertical-align: middle;\n",
       "    }\n",
       "\n",
       "    .dataframe tbody tr th {\n",
       "        vertical-align: top;\n",
       "    }\n",
       "\n",
       "    .dataframe thead th {\n",
       "        text-align: right;\n",
       "    }\n",
       "</style>\n",
       "<table border=\"1\" class=\"dataframe\">\n",
       "  <thead>\n",
       "    <tr style=\"text-align: right;\">\n",
       "      <th></th>\n",
       "      <th>size</th>\n",
       "    </tr>\n",
       "    <tr>\n",
       "      <th>title</th>\n",
       "      <th></th>\n",
       "    </tr>\n",
       "  </thead>\n",
       "  <tbody>\n",
       "    <tr>\n",
       "      <td>Roger_Federer</td>\n",
       "      <td>2545161596</td>\n",
       "    </tr>\n",
       "    <tr>\n",
       "      <td>Cristiano_Ronaldo</td>\n",
       "      <td>2351953387</td>\n",
       "    </tr>\n",
       "    <tr>\n",
       "      <td>Paul_McCartney</td>\n",
       "      <td>2059061790</td>\n",
       "    </tr>\n",
       "    <tr>\n",
       "      <td>The_Beatles</td>\n",
       "      <td>2055056731</td>\n",
       "    </tr>\n",
       "    <tr>\n",
       "      <td>Lionel_Messi</td>\n",
       "      <td>1977764924</td>\n",
       "    </tr>\n",
       "  </tbody>\n",
       "</table>\n",
       "</div>"
      ],
      "text/plain": [
       "                         size\n",
       "title                        \n",
       "Roger_Federer      2545161596\n",
       "Cristiano_Ronaldo  2351953387\n",
       "Paul_McCartney     2059061790\n",
       "The_Beatles        2055056731\n",
       "Lionel_Messi       1977764924"
      ]
     },
     "execution_count": 143,
     "metadata": {},
     "output_type": "execute_result"
    }
   ],
   "source": [
    "df_size.sort_values(by=\"size\", ascending=False).head(5)"
   ]
  },
  {
   "cell_type": "code",
   "execution_count": 144,
   "metadata": {},
   "outputs": [],
   "source": [
    "df_users = df.groupby([\"title\"])[\"user\"].nunique()\n",
    "df_users = pd.DataFrame(df_users)\n",
    "df_users.columns = [\"users\"]"
   ]
  },
  {
   "cell_type": "code",
   "execution_count": 145,
   "metadata": {},
   "outputs": [
    {
     "data": {
      "text/html": [
       "<div>\n",
       "<style scoped>\n",
       "    .dataframe tbody tr th:only-of-type {\n",
       "        vertical-align: middle;\n",
       "    }\n",
       "\n",
       "    .dataframe tbody tr th {\n",
       "        vertical-align: top;\n",
       "    }\n",
       "\n",
       "    .dataframe thead th {\n",
       "        text-align: right;\n",
       "    }\n",
       "</style>\n",
       "<table border=\"1\" class=\"dataframe\">\n",
       "  <thead>\n",
       "    <tr style=\"text-align: right;\">\n",
       "      <th></th>\n",
       "      <th>users</th>\n",
       "    </tr>\n",
       "    <tr>\n",
       "      <th>title</th>\n",
       "      <th></th>\n",
       "    </tr>\n",
       "  </thead>\n",
       "  <tbody>\n",
       "    <tr>\n",
       "      <td>50_Cent</td>\n",
       "      <td>4557</td>\n",
       "    </tr>\n",
       "    <tr>\n",
       "      <td>Adele</td>\n",
       "      <td>2672</td>\n",
       "    </tr>\n",
       "    <tr>\n",
       "      <td>Angelina_Jolie</td>\n",
       "      <td>2902</td>\n",
       "    </tr>\n",
       "    <tr>\n",
       "      <td>Backstreet_Boys</td>\n",
       "      <td>4050</td>\n",
       "    </tr>\n",
       "    <tr>\n",
       "      <td>Ben_Affleck</td>\n",
       "      <td>3655</td>\n",
       "    </tr>\n",
       "  </tbody>\n",
       "</table>\n",
       "</div>"
      ],
      "text/plain": [
       "                 users\n",
       "title                 \n",
       "50_Cent           4557\n",
       "Adele             2672\n",
       "Angelina_Jolie    2902\n",
       "Backstreet_Boys   4050\n",
       "Ben_Affleck       3655"
      ]
     },
     "execution_count": 145,
     "metadata": {},
     "output_type": "execute_result"
    }
   ],
   "source": [
    "df_users.head()"
   ]
  },
  {
   "cell_type": "code",
   "execution_count": 146,
   "metadata": {},
   "outputs": [
    {
     "data": {
      "text/html": [
       "<div>\n",
       "<style scoped>\n",
       "    .dataframe tbody tr th:only-of-type {\n",
       "        vertical-align: middle;\n",
       "    }\n",
       "\n",
       "    .dataframe tbody tr th {\n",
       "        vertical-align: top;\n",
       "    }\n",
       "\n",
       "    .dataframe thead th {\n",
       "        text-align: right;\n",
       "    }\n",
       "</style>\n",
       "<table border=\"1\" class=\"dataframe\">\n",
       "  <thead>\n",
       "    <tr style=\"text-align: right;\">\n",
       "      <th></th>\n",
       "      <th>users</th>\n",
       "    </tr>\n",
       "    <tr>\n",
       "      <th>title</th>\n",
       "      <th></th>\n",
       "    </tr>\n",
       "  </thead>\n",
       "  <tbody>\n",
       "    <tr>\n",
       "      <td>Roger_Federer</td>\n",
       "      <td>8019</td>\n",
       "    </tr>\n",
       "    <tr>\n",
       "      <td>Eminem</td>\n",
       "      <td>7247</td>\n",
       "    </tr>\n",
       "    <tr>\n",
       "      <td>The_Beatles</td>\n",
       "      <td>6971</td>\n",
       "    </tr>\n",
       "    <tr>\n",
       "      <td>Britney_Spears</td>\n",
       "      <td>6896</td>\n",
       "    </tr>\n",
       "    <tr>\n",
       "      <td>Dwayne_Johnson</td>\n",
       "      <td>6727</td>\n",
       "    </tr>\n",
       "  </tbody>\n",
       "</table>\n",
       "</div>"
      ],
      "text/plain": [
       "                users\n",
       "title                \n",
       "Roger_Federer    8019\n",
       "Eminem           7247\n",
       "The_Beatles      6971\n",
       "Britney_Spears   6896\n",
       "Dwayne_Johnson   6727"
      ]
     },
     "execution_count": 146,
     "metadata": {},
     "output_type": "execute_result"
    }
   ],
   "source": [
    "df_users.sort_values(by=\"users\", ascending=False).head(5)"
   ]
  },
  {
   "cell_type": "code",
   "execution_count": 149,
   "metadata": {},
   "outputs": [],
   "source": [
    "df_edits.reset_index(inplace=True)\n",
    "df_size.reset_index(inplace=True)\n",
    "df_users.reset_index(inplace=True)"
   ]
  },
  {
   "cell_type": "code",
   "execution_count": 150,
   "metadata": {},
   "outputs": [
    {
     "data": {
      "text/html": [
       "<div>\n",
       "<style scoped>\n",
       "    .dataframe tbody tr th:only-of-type {\n",
       "        vertical-align: middle;\n",
       "    }\n",
       "\n",
       "    .dataframe tbody tr th {\n",
       "        vertical-align: top;\n",
       "    }\n",
       "\n",
       "    .dataframe thead th {\n",
       "        text-align: right;\n",
       "    }\n",
       "</style>\n",
       "<table border=\"1\" class=\"dataframe\">\n",
       "  <thead>\n",
       "    <tr style=\"text-align: right;\">\n",
       "      <th></th>\n",
       "      <th>level_0</th>\n",
       "      <th>index</th>\n",
       "      <th>title</th>\n",
       "      <th>edits</th>\n",
       "    </tr>\n",
       "  </thead>\n",
       "  <tbody>\n",
       "    <tr>\n",
       "      <td>0</td>\n",
       "      <td>0</td>\n",
       "      <td>0</td>\n",
       "      <td>50_Cent</td>\n",
       "      <td>13066</td>\n",
       "    </tr>\n",
       "    <tr>\n",
       "      <td>1</td>\n",
       "      <td>1</td>\n",
       "      <td>1</td>\n",
       "      <td>Adele</td>\n",
       "      <td>6725</td>\n",
       "    </tr>\n",
       "    <tr>\n",
       "      <td>2</td>\n",
       "      <td>2</td>\n",
       "      <td>2</td>\n",
       "      <td>Angelina_Jolie</td>\n",
       "      <td>7336</td>\n",
       "    </tr>\n",
       "    <tr>\n",
       "      <td>3</td>\n",
       "      <td>3</td>\n",
       "      <td>3</td>\n",
       "      <td>Backstreet_Boys</td>\n",
       "      <td>10270</td>\n",
       "    </tr>\n",
       "    <tr>\n",
       "      <td>4</td>\n",
       "      <td>4</td>\n",
       "      <td>4</td>\n",
       "      <td>Ben_Affleck</td>\n",
       "      <td>9263</td>\n",
       "    </tr>\n",
       "  </tbody>\n",
       "</table>\n",
       "</div>"
      ],
      "text/plain": [
       "   level_0  index            title  edits\n",
       "0        0      0          50_Cent  13066\n",
       "1        1      1            Adele   6725\n",
       "2        2      2   Angelina_Jolie   7336\n",
       "3        3      3  Backstreet_Boys  10270\n",
       "4        4      4      Ben_Affleck   9263"
      ]
     },
     "execution_count": 150,
     "metadata": {},
     "output_type": "execute_result"
    }
   ],
   "source": [
    "df_edits.head()"
   ]
  },
  {
   "cell_type": "code",
   "execution_count": 152,
   "metadata": {},
   "outputs": [
    {
     "data": {
      "text/html": [
       "<div>\n",
       "<style scoped>\n",
       "    .dataframe tbody tr th:only-of-type {\n",
       "        vertical-align: middle;\n",
       "    }\n",
       "\n",
       "    .dataframe tbody tr th {\n",
       "        vertical-align: top;\n",
       "    }\n",
       "\n",
       "    .dataframe thead th {\n",
       "        text-align: right;\n",
       "    }\n",
       "</style>\n",
       "<table border=\"1\" class=\"dataframe\">\n",
       "  <thead>\n",
       "    <tr style=\"text-align: right;\">\n",
       "      <th></th>\n",
       "      <th>level_0</th>\n",
       "      <th>index</th>\n",
       "      <th>title</th>\n",
       "      <th>edits</th>\n",
       "      <th>size</th>\n",
       "      <th>users</th>\n",
       "    </tr>\n",
       "  </thead>\n",
       "  <tbody>\n",
       "    <tr>\n",
       "      <td>0</td>\n",
       "      <td>0</td>\n",
       "      <td>0</td>\n",
       "      <td>50_Cent</td>\n",
       "      <td>13066</td>\n",
       "      <td>518204129</td>\n",
       "      <td>4557</td>\n",
       "    </tr>\n",
       "    <tr>\n",
       "      <td>1</td>\n",
       "      <td>1</td>\n",
       "      <td>1</td>\n",
       "      <td>Adele</td>\n",
       "      <td>6725</td>\n",
       "      <td>456912673</td>\n",
       "      <td>2672</td>\n",
       "    </tr>\n",
       "    <tr>\n",
       "      <td>2</td>\n",
       "      <td>2</td>\n",
       "      <td>2</td>\n",
       "      <td>Angelina_Jolie</td>\n",
       "      <td>7336</td>\n",
       "      <td>531496219</td>\n",
       "      <td>2902</td>\n",
       "    </tr>\n",
       "    <tr>\n",
       "      <td>3</td>\n",
       "      <td>3</td>\n",
       "      <td>3</td>\n",
       "      <td>Backstreet_Boys</td>\n",
       "      <td>10270</td>\n",
       "      <td>412497115</td>\n",
       "      <td>4050</td>\n",
       "    </tr>\n",
       "    <tr>\n",
       "      <td>4</td>\n",
       "      <td>4</td>\n",
       "      <td>4</td>\n",
       "      <td>Ben_Affleck</td>\n",
       "      <td>9263</td>\n",
       "      <td>906521569</td>\n",
       "      <td>3655</td>\n",
       "    </tr>\n",
       "  </tbody>\n",
       "</table>\n",
       "</div>"
      ],
      "text/plain": [
       "   level_0  index            title  edits       size  users\n",
       "0        0      0          50_Cent  13066  518204129   4557\n",
       "1        1      1            Adele   6725  456912673   2672\n",
       "2        2      2   Angelina_Jolie   7336  531496219   2902\n",
       "3        3      3  Backstreet_Boys  10270  412497115   4050\n",
       "4        4      4      Ben_Affleck   9263  906521569   3655"
      ]
     },
     "execution_count": 152,
     "metadata": {},
     "output_type": "execute_result"
    }
   ],
   "source": [
    "df_out = pd.merge(df_edits, df_size)\n",
    "df_out = pd.merge(df_out, df_users)\n",
    "df_out.head()"
   ]
  },
  {
   "cell_type": "code",
   "execution_count": 153,
   "metadata": {},
   "outputs": [],
   "source": [
    "df_out.to_csv(fn_out, index=False)"
   ]
  },
  {
   "cell_type": "code",
   "execution_count": 154,
   "metadata": {},
   "outputs": [],
   "source": [
    "import pandas as pd\n",
    "import numpy as np\n",
    "import matplotlib.pyplot as plt\n",
    "%matplotlib inline\n",
    "import scipy.stats as stats"
   ]
  },
  {
   "cell_type": "code",
   "execution_count": 155,
   "metadata": {},
   "outputs": [],
   "source": [
    "fn = \"../output/wikipedia_metrics.csv\"\n",
    "df = pd.read_csv(fn)"
   ]
  },
  {
   "cell_type": "code",
   "execution_count": 156,
   "metadata": {},
   "outputs": [
    {
     "data": {
      "text/html": [
       "<div>\n",
       "<style scoped>\n",
       "    .dataframe tbody tr th:only-of-type {\n",
       "        vertical-align: middle;\n",
       "    }\n",
       "\n",
       "    .dataframe tbody tr th {\n",
       "        vertical-align: top;\n",
       "    }\n",
       "\n",
       "    .dataframe thead th {\n",
       "        text-align: right;\n",
       "    }\n",
       "</style>\n",
       "<table border=\"1\" class=\"dataframe\">\n",
       "  <thead>\n",
       "    <tr style=\"text-align: right;\">\n",
       "      <th></th>\n",
       "      <th>level_0</th>\n",
       "      <th>index</th>\n",
       "      <th>title</th>\n",
       "      <th>edits</th>\n",
       "      <th>size</th>\n",
       "      <th>users</th>\n",
       "    </tr>\n",
       "  </thead>\n",
       "  <tbody>\n",
       "    <tr>\n",
       "      <td>0</td>\n",
       "      <td>0</td>\n",
       "      <td>0</td>\n",
       "      <td>50_Cent</td>\n",
       "      <td>13066</td>\n",
       "      <td>518204129</td>\n",
       "      <td>4557</td>\n",
       "    </tr>\n",
       "    <tr>\n",
       "      <td>1</td>\n",
       "      <td>1</td>\n",
       "      <td>1</td>\n",
       "      <td>Adele</td>\n",
       "      <td>6725</td>\n",
       "      <td>456912673</td>\n",
       "      <td>2672</td>\n",
       "    </tr>\n",
       "    <tr>\n",
       "      <td>2</td>\n",
       "      <td>2</td>\n",
       "      <td>2</td>\n",
       "      <td>Angelina_Jolie</td>\n",
       "      <td>7336</td>\n",
       "      <td>531496219</td>\n",
       "      <td>2902</td>\n",
       "    </tr>\n",
       "    <tr>\n",
       "      <td>3</td>\n",
       "      <td>3</td>\n",
       "      <td>3</td>\n",
       "      <td>Backstreet_Boys</td>\n",
       "      <td>10270</td>\n",
       "      <td>412497115</td>\n",
       "      <td>4050</td>\n",
       "    </tr>\n",
       "    <tr>\n",
       "      <td>4</td>\n",
       "      <td>4</td>\n",
       "      <td>4</td>\n",
       "      <td>Ben_Affleck</td>\n",
       "      <td>9263</td>\n",
       "      <td>906521569</td>\n",
       "      <td>3655</td>\n",
       "    </tr>\n",
       "  </tbody>\n",
       "</table>\n",
       "</div>"
      ],
      "text/plain": [
       "   level_0  index            title  edits       size  users\n",
       "0        0      0          50_Cent  13066  518204129   4557\n",
       "1        1      1            Adele   6725  456912673   2672\n",
       "2        2      2   Angelina_Jolie   7336  531496219   2902\n",
       "3        3      3  Backstreet_Boys  10270  412497115   4050\n",
       "4        4      4      Ben_Affleck   9263  906521569   3655"
      ]
     },
     "execution_count": 156,
     "metadata": {},
     "output_type": "execute_result"
    }
   ],
   "source": [
    "df.head()"
   ]
  },
  {
   "cell_type": "code",
   "execution_count": 157,
   "metadata": {},
   "outputs": [],
   "source": [
    "x = df[\"users\"]\n",
    "y = df[\"edits\"]"
   ]
  },
  {
   "cell_type": "code",
   "execution_count": 159,
   "metadata": {},
   "outputs": [
    {
     "data": {
      "text/plain": [
       "[<matplotlib.lines.Line2D at 0x7f9c5896d210>]"
      ]
     },
     "execution_count": 159,
     "metadata": {},
     "output_type": "execute_result"
    },
    {
     "data": {
      "image/png": "[encoded data removed]",
      "text/plain": [
       "<Figure size 432x288 with 1 Axes>"
      ]
     },
     "metadata": {
      "needs_background": "light"
     },
     "output_type": "display_data"
    }
   ],
   "source": [
    "plt.plot(x, y, color='black', marker='.', linestyle='')"
   ]
  },
  {
   "cell_type": "code",
   "execution_count": 160,
   "metadata": {},
   "outputs": [
    {
     "data": {
      "text/plain": [
       "[<matplotlib.lines.Line2D at 0x7f9c588e2310>]"
      ]
     },
     "execution_count": 160,
     "metadata": {},
     "output_type": "execute_result"
    },
    {
     "data": {
      "image/png": "[encoded data removed]",
      "text/plain": [
       "<Figure size 432x288 with 1 Axes>"
      ]
     },
     "metadata": {
      "needs_background": "light"
     },
     "output_type": "display_data"
    }
   ],
   "source": [
    "plt.plot(x, y, c='k', marker='.', ls='')"
   ]
  },
  {
   "cell_type": "code",
   "execution_count": 162,
   "metadata": {},
   "outputs": [
    {
     "data": {
      "text/plain": [
       "Text(0.5, 1.0, \"Forbes 100 Celeberities' Wikipedia Pages\")"
      ]
     },
     "execution_count": 162,
     "metadata": {},
     "output_type": "execute_result"
    },
    {
     "data": {
      "image/png": "[encoded data removed]",
      "text/plain": [
       "<Figure size 432x288 with 1 Axes>"
      ]
     },
     "metadata": {
      "needs_background": "light"
     },
     "output_type": "display_data"
    }
   ],
   "source": [
    "plt.plot(x, y, 'k.')\n",
    "\n",
    "# add axis labels\n",
    "plt.xlabel(\"No. of Contributing Users\")\n",
    "plt.ylabel(\"No. of Edits\")\n",
    "plt.minorticks_on()\n",
    "plt.title(\"Forbes 100 Celeberities' Wikipedia Pages\")"
   ]
  },
  {
   "cell_type": "code",
   "execution_count": 164,
   "metadata": {},
   "outputs": [
    {
     "data": {
      "text/plain": [
       "2.609397656944558"
      ]
     },
     "execution_count": 164,
     "metadata": {},
     "output_type": "execute_result"
    }
   ],
   "source": [
    "mean_ratio = np.mean(y/x)\n",
    "mean_ratio"
   ]
  },
  {
   "cell_type": "code",
   "execution_count": 166,
   "metadata": {},
   "outputs": [],
   "source": [
    "xx = np.linspace(800, 8400, 1000)\n",
    "yy = mean_ratio * xx"
   ]
  },
  {
   "cell_type": "code",
   "execution_count": 169,
   "metadata": {},
   "outputs": [
    {
     "data": {
      "text/plain": [
       "<matplotlib.legend.Legend at 0x7f9c542a45d0>"
      ]
     },
     "execution_count": 169,
     "metadata": {},
     "output_type": "execute_result"
    },
    {
     "data": {
      "image/png": "[encoded data removed]",
      "text/plain": [
       "<Figure size 432x288 with 1 Axes>"
      ]
     },
     "metadata": {
      "needs_background": "light"
     },
     "output_type": "display_data"
    }
   ],
   "source": [
    "plt.plot( x, y, 'k.')\n",
    "plt.plot(xx, yy, 'b--', label=\"mean ratio = %.2f\" % mean_ratio)\n",
    "\n",
    "# add axis labels\n",
    "plt.xlabel(\"No. of Contributing Users\")\n",
    "plt.ylabel(\"No. of Edits\")\n",
    "plt.minorticks_on()\n",
    "plt.title(\"Forbes 100 Celebrities' Wikipedia Pages\")\n",
    "plt.legend(loc=\"upper left\", numpoints=1)"
   ]
  },
  {
   "cell_type": "code",
   "execution_count": 170,
   "metadata": {},
   "outputs": [
    {
     "data": {
      "text/plain": [
       "3604.2073170731705"
      ]
     },
     "execution_count": 170,
     "metadata": {},
     "output_type": "execute_result"
    }
   ],
   "source": [
    "x_mean = np.mean(x)\n",
    "x_mean"
   ]
  },
  {
   "cell_type": "code",
   "execution_count": 171,
   "metadata": {},
   "outputs": [],
   "source": [
    "slope, intercept, r_value, p_value, std_err = stats.linregress(x-x_mean, y)"
   ]
  },
  {
   "cell_type": "code",
   "execution_count": 172,
   "metadata": {},
   "outputs": [
    {
     "data": {
      "text/plain": [
       "(3.17979447002623, 9626.134146341463)"
      ]
     },
     "execution_count": 172,
     "metadata": {},
     "output_type": "execute_result"
    }
   ],
   "source": [
    "slope, intercept"
   ]
  },
  {
   "cell_type": "code",
   "execution_count": 173,
   "metadata": {},
   "outputs": [
    {
     "data": {
      "text/plain": [
       "(0.8905379922596317, 4.2851570848775055e-29, 0.18160425239314262)"
      ]
     },
     "execution_count": 173,
     "metadata": {},
     "output_type": "execute_result"
    }
   ],
   "source": [
    "r_value, p_value, std_err"
   ]
  },
  {
   "cell_type": "code",
   "execution_count": 176,
   "metadata": {},
   "outputs": [],
   "source": [
    "# y = slope * (x = x_mean) + intercept"
   ]
  },
  {
   "cell_type": "code",
   "execution_count": 178,
   "metadata": {},
   "outputs": [
    {
     "name": "stderr",
     "output_type": "stream",
     "text": [
      "/home/micaela/.pyenv/versions/anaconda3-2019.10/lib/python3.7/site-packages/ipykernel_launcher.py:2: RuntimeWarning: overflow encountered in power\n",
      "  \n"
     ]
    }
   ],
   "source": [
    "xx_fit = xx - x_mean\n",
    "yy_fit = slope**xx_fit + intercept"
   ]
  },
  {
   "cell_type": "code",
   "execution_count": 180,
   "metadata": {},
   "outputs": [
    {
     "data": {
      "image/png": "[encoded data removed]",
      "text/plain": [
       "<Figure size 432x288 with 1 Axes>"
      ]
     },
     "metadata": {
      "needs_background": "light"
     },
     "output_type": "display_data"
    }
   ],
   "source": [
    "plt.plot(x, y, 'k.')\n",
    "plt.plot(xx, yy, 'b--', label=\"mean ratio = %.2f\" % mean_ratio)\n",
    "plt.plot(xx, yy_fit, 'r-', label = \"linreg slope = %.2f\" % slope)\n",
    "\n",
    "# add axis labels\n",
    "plt.xlabel(\"No. of contributing Users\")\n",
    "plt.ylabel(\"No. of Edits\")\n",
    "plt.minorticks_on()\n",
    "plt.title(\"Forbes 100 Celebrities' Wikipedia Pages\")\n",
    "plt.legend(loc=\"upper left\", numpoints=1)\n",
    "plt.ylim((0, 27000))\n",
    "\n",
    "# save to PNG file\n",
    "plt.savefig(\"../fig/fig_wikipedia_users_vs_no_of_edits.png\")"
   ]
  },
  {
   "cell_type": "code",
   "execution_count": 181,
   "metadata": {},
   "outputs": [],
   "source": [
    "import pandas as pd\n",
    "import numpy as np\n",
    "import matplotlib.pyplot as plt\n",
    "import matplotlib\n",
    "%matplotlib inline"
   ]
  },
  {
   "cell_type": "code",
   "execution_count": 182,
   "metadata": {},
   "outputs": [],
   "source": [
    "fn = \"../input/wikipedia_edits.csv.zip\"\n",
    "df = pd.read_csv(fn)"
   ]
  },
  {
   "cell_type": "code",
   "execution_count": 183,
   "metadata": {},
   "outputs": [
    {
     "data": {
      "text/plain": [
       "789343"
      ]
     },
     "execution_count": 183,
     "metadata": {},
     "output_type": "execute_result"
    }
   ],
   "source": [
    "len(df)"
   ]
  },
  {
   "cell_type": "code",
   "execution_count": 184,
   "metadata": {},
   "outputs": [
    {
     "data": {
      "text/html": [
       "<div>\n",
       "<style scoped>\n",
       "    .dataframe tbody tr th:only-of-type {\n",
       "        vertical-align: middle;\n",
       "    }\n",
       "\n",
       "    .dataframe tbody tr th {\n",
       "        vertical-align: top;\n",
       "    }\n",
       "\n",
       "    .dataframe thead th {\n",
       "        text-align: right;\n",
       "    }\n",
       "</style>\n",
       "<table border=\"1\" class=\"dataframe\">\n",
       "  <thead>\n",
       "    <tr style=\"text-align: right;\">\n",
       "      <th></th>\n",
       "      <th>title</th>\n",
       "      <th>parentid</th>\n",
       "      <th>revid</th>\n",
       "      <th>timestamp</th>\n",
       "      <th>user</th>\n",
       "      <th>userid</th>\n",
       "      <th>size</th>\n",
       "      <th>recipient</th>\n",
       "      <th>year</th>\n",
       "      <th>rank</th>\n",
       "      <th>country</th>\n",
       "      <th>career</th>\n",
       "      <th>tied</th>\n",
       "    </tr>\n",
       "  </thead>\n",
       "  <tbody>\n",
       "    <tr>\n",
       "      <td>0</td>\n",
       "      <td>50_Cent</td>\n",
       "      <td>858765697</td>\n",
       "      <td>858858564</td>\n",
       "      <td>2018-09-10T02:52:25Z</td>\n",
       "      <td>ProspectIV</td>\n",
       "      <td>33893830.0</td>\n",
       "      <td>132452</td>\n",
       "      <td>50 Cent</td>\n",
       "      <td>2006</td>\n",
       "      <td>8</td>\n",
       "      <td>United States</td>\n",
       "      <td>Musician</td>\n",
       "      <td>0</td>\n",
       "    </tr>\n",
       "    <tr>\n",
       "      <td>1</td>\n",
       "      <td>50_Cent</td>\n",
       "      <td>858673799</td>\n",
       "      <td>858765697</td>\n",
       "      <td>2018-09-09T13:11:00Z</td>\n",
       "      <td>ProspectIV</td>\n",
       "      <td>33893830.0</td>\n",
       "      <td>132476</td>\n",
       "      <td>50 Cent</td>\n",
       "      <td>2006</td>\n",
       "      <td>8</td>\n",
       "      <td>United States</td>\n",
       "      <td>Musician</td>\n",
       "      <td>0</td>\n",
       "    </tr>\n",
       "    <tr>\n",
       "      <td>2</td>\n",
       "      <td>50_Cent</td>\n",
       "      <td>858673121</td>\n",
       "      <td>858673799</td>\n",
       "      <td>2018-09-08T21:46:42Z</td>\n",
       "      <td>ProspectIV</td>\n",
       "      <td>33893830.0</td>\n",
       "      <td>132444</td>\n",
       "      <td>50 Cent</td>\n",
       "      <td>2006</td>\n",
       "      <td>8</td>\n",
       "      <td>United States</td>\n",
       "      <td>Musician</td>\n",
       "      <td>0</td>\n",
       "    </tr>\n",
       "    <tr>\n",
       "      <td>3</td>\n",
       "      <td>50_Cent</td>\n",
       "      <td>858673016</td>\n",
       "      <td>858673121</td>\n",
       "      <td>2018-09-08T21:39:37Z</td>\n",
       "      <td>ProspectIV</td>\n",
       "      <td>33893830.0</td>\n",
       "      <td>132345</td>\n",
       "      <td>50 Cent</td>\n",
       "      <td>2006</td>\n",
       "      <td>8</td>\n",
       "      <td>United States</td>\n",
       "      <td>Musician</td>\n",
       "      <td>0</td>\n",
       "    </tr>\n",
       "    <tr>\n",
       "      <td>4</td>\n",
       "      <td>50_Cent</td>\n",
       "      <td>858469414</td>\n",
       "      <td>858673016</td>\n",
       "      <td>2018-09-08T21:38:24Z</td>\n",
       "      <td>ProspectIV</td>\n",
       "      <td>33893830.0</td>\n",
       "      <td>132345</td>\n",
       "      <td>50 Cent</td>\n",
       "      <td>2006</td>\n",
       "      <td>8</td>\n",
       "      <td>United States</td>\n",
       "      <td>Musician</td>\n",
       "      <td>0</td>\n",
       "    </tr>\n",
       "  </tbody>\n",
       "</table>\n",
       "</div>"
      ],
      "text/plain": [
       "     title   parentid      revid             timestamp        user  \\\n",
       "0  50_Cent  858765697  858858564  2018-09-10T02:52:25Z  ProspectIV   \n",
       "1  50_Cent  858673799  858765697  2018-09-09T13:11:00Z  ProspectIV   \n",
       "2  50_Cent  858673121  858673799  2018-09-08T21:46:42Z  ProspectIV   \n",
       "3  50_Cent  858673016  858673121  2018-09-08T21:39:37Z  ProspectIV   \n",
       "4  50_Cent  858469414  858673016  2018-09-08T21:38:24Z  ProspectIV   \n",
       "\n",
       "       userid    size recipient  year  rank        country    career  tied  \n",
       "0  33893830.0  132452   50 Cent  2006     8  United States  Musician     0  \n",
       "1  33893830.0  132476   50 Cent  2006     8  United States  Musician     0  \n",
       "2  33893830.0  132444   50 Cent  2006     8  United States  Musician     0  \n",
       "3  33893830.0  132345   50 Cent  2006     8  United States  Musician     0  \n",
       "4  33893830.0  132345   50 Cent  2006     8  United States  Musician     0  "
      ]
     },
     "execution_count": 184,
     "metadata": {},
     "output_type": "execute_result"
    }
   ],
   "source": [
    "df.head()"
   ]
  },
  {
   "cell_type": "code",
   "execution_count": 185,
   "metadata": {},
   "outputs": [],
   "source": [
    "df[\"timestamp\"] = pd.to_datetime(df[\"timestamp\"])"
   ]
  },
  {
   "cell_type": "code",
   "execution_count": 186,
   "metadata": {},
   "outputs": [
    {
     "data": {
      "text/html": [
       "<div>\n",
       "<style scoped>\n",
       "    .dataframe tbody tr th:only-of-type {\n",
       "        vertical-align: middle;\n",
       "    }\n",
       "\n",
       "    .dataframe tbody tr th {\n",
       "        vertical-align: top;\n",
       "    }\n",
       "\n",
       "    .dataframe thead th {\n",
       "        text-align: right;\n",
       "    }\n",
       "</style>\n",
       "<table border=\"1\" class=\"dataframe\">\n",
       "  <thead>\n",
       "    <tr style=\"text-align: right;\">\n",
       "      <th></th>\n",
       "      <th>title</th>\n",
       "      <th>parentid</th>\n",
       "      <th>revid</th>\n",
       "      <th>timestamp</th>\n",
       "      <th>user</th>\n",
       "      <th>userid</th>\n",
       "      <th>size</th>\n",
       "      <th>recipient</th>\n",
       "      <th>year</th>\n",
       "      <th>rank</th>\n",
       "      <th>country</th>\n",
       "      <th>career</th>\n",
       "      <th>tied</th>\n",
       "    </tr>\n",
       "  </thead>\n",
       "  <tbody>\n",
       "    <tr>\n",
       "      <td>0</td>\n",
       "      <td>50_Cent</td>\n",
       "      <td>858765697</td>\n",
       "      <td>858858564</td>\n",
       "      <td>2018-09-10 02:52:25+00:00</td>\n",
       "      <td>ProspectIV</td>\n",
       "      <td>33893830.0</td>\n",
       "      <td>132452</td>\n",
       "      <td>50 Cent</td>\n",
       "      <td>2006</td>\n",
       "      <td>8</td>\n",
       "      <td>United States</td>\n",
       "      <td>Musician</td>\n",
       "      <td>0</td>\n",
       "    </tr>\n",
       "    <tr>\n",
       "      <td>1</td>\n",
       "      <td>50_Cent</td>\n",
       "      <td>858673799</td>\n",
       "      <td>858765697</td>\n",
       "      <td>2018-09-09 13:11:00+00:00</td>\n",
       "      <td>ProspectIV</td>\n",
       "      <td>33893830.0</td>\n",
       "      <td>132476</td>\n",
       "      <td>50 Cent</td>\n",
       "      <td>2006</td>\n",
       "      <td>8</td>\n",
       "      <td>United States</td>\n",
       "      <td>Musician</td>\n",
       "      <td>0</td>\n",
       "    </tr>\n",
       "    <tr>\n",
       "      <td>2</td>\n",
       "      <td>50_Cent</td>\n",
       "      <td>858673121</td>\n",
       "      <td>858673799</td>\n",
       "      <td>2018-09-08 21:46:42+00:00</td>\n",
       "      <td>ProspectIV</td>\n",
       "      <td>33893830.0</td>\n",
       "      <td>132444</td>\n",
       "      <td>50 Cent</td>\n",
       "      <td>2006</td>\n",
       "      <td>8</td>\n",
       "      <td>United States</td>\n",
       "      <td>Musician</td>\n",
       "      <td>0</td>\n",
       "    </tr>\n",
       "    <tr>\n",
       "      <td>3</td>\n",
       "      <td>50_Cent</td>\n",
       "      <td>858673016</td>\n",
       "      <td>858673121</td>\n",
       "      <td>2018-09-08 21:39:37+00:00</td>\n",
       "      <td>ProspectIV</td>\n",
       "      <td>33893830.0</td>\n",
       "      <td>132345</td>\n",
       "      <td>50 Cent</td>\n",
       "      <td>2006</td>\n",
       "      <td>8</td>\n",
       "      <td>United States</td>\n",
       "      <td>Musician</td>\n",
       "      <td>0</td>\n",
       "    </tr>\n",
       "    <tr>\n",
       "      <td>4</td>\n",
       "      <td>50_Cent</td>\n",
       "      <td>858469414</td>\n",
       "      <td>858673016</td>\n",
       "      <td>2018-09-08 21:38:24+00:00</td>\n",
       "      <td>ProspectIV</td>\n",
       "      <td>33893830.0</td>\n",
       "      <td>132345</td>\n",
       "      <td>50 Cent</td>\n",
       "      <td>2006</td>\n",
       "      <td>8</td>\n",
       "      <td>United States</td>\n",
       "      <td>Musician</td>\n",
       "      <td>0</td>\n",
       "    </tr>\n",
       "  </tbody>\n",
       "</table>\n",
       "</div>"
      ],
      "text/plain": [
       "     title   parentid      revid                 timestamp        user  \\\n",
       "0  50_Cent  858765697  858858564 2018-09-10 02:52:25+00:00  ProspectIV   \n",
       "1  50_Cent  858673799  858765697 2018-09-09 13:11:00+00:00  ProspectIV   \n",
       "2  50_Cent  858673121  858673799 2018-09-08 21:46:42+00:00  ProspectIV   \n",
       "3  50_Cent  858673016  858673121 2018-09-08 21:39:37+00:00  ProspectIV   \n",
       "4  50_Cent  858469414  858673016 2018-09-08 21:38:24+00:00  ProspectIV   \n",
       "\n",
       "       userid    size recipient  year  rank        country    career  tied  \n",
       "0  33893830.0  132452   50 Cent  2006     8  United States  Musician     0  \n",
       "1  33893830.0  132476   50 Cent  2006     8  United States  Musician     0  \n",
       "2  33893830.0  132444   50 Cent  2006     8  United States  Musician     0  \n",
       "3  33893830.0  132345   50 Cent  2006     8  United States  Musician     0  \n",
       "4  33893830.0  132345   50 Cent  2006     8  United States  Musician     0  "
      ]
     },
     "execution_count": 186,
     "metadata": {},
     "output_type": "execute_result"
    }
   ],
   "source": [
    "df.head()"
   ]
  },
  {
   "cell_type": "code",
   "execution_count": 187,
   "metadata": {},
   "outputs": [],
   "source": [
    "df[\"date\"] = df[\"timestamp\"].dt.date"
   ]
  },
  {
   "cell_type": "code",
   "execution_count": 188,
   "metadata": {},
   "outputs": [
    {
     "data": {
      "text/html": [
       "<div>\n",
       "<style scoped>\n",
       "    .dataframe tbody tr th:only-of-type {\n",
       "        vertical-align: middle;\n",
       "    }\n",
       "\n",
       "    .dataframe tbody tr th {\n",
       "        vertical-align: top;\n",
       "    }\n",
       "\n",
       "    .dataframe thead th {\n",
       "        text-align: right;\n",
       "    }\n",
       "</style>\n",
       "<table border=\"1\" class=\"dataframe\">\n",
       "  <thead>\n",
       "    <tr style=\"text-align: right;\">\n",
       "      <th></th>\n",
       "      <th>title</th>\n",
       "      <th>parentid</th>\n",
       "      <th>revid</th>\n",
       "      <th>timestamp</th>\n",
       "      <th>user</th>\n",
       "      <th>userid</th>\n",
       "      <th>size</th>\n",
       "      <th>recipient</th>\n",
       "      <th>year</th>\n",
       "      <th>rank</th>\n",
       "      <th>country</th>\n",
       "      <th>career</th>\n",
       "      <th>tied</th>\n",
       "      <th>date</th>\n",
       "    </tr>\n",
       "  </thead>\n",
       "  <tbody>\n",
       "    <tr>\n",
       "      <td>0</td>\n",
       "      <td>50_Cent</td>\n",
       "      <td>858765697</td>\n",
       "      <td>858858564</td>\n",
       "      <td>2018-09-10 02:52:25+00:00</td>\n",
       "      <td>ProspectIV</td>\n",
       "      <td>33893830.0</td>\n",
       "      <td>132452</td>\n",
       "      <td>50 Cent</td>\n",
       "      <td>2006</td>\n",
       "      <td>8</td>\n",
       "      <td>United States</td>\n",
       "      <td>Musician</td>\n",
       "      <td>0</td>\n",
       "      <td>2018-09-10</td>\n",
       "    </tr>\n",
       "    <tr>\n",
       "      <td>1</td>\n",
       "      <td>50_Cent</td>\n",
       "      <td>858673799</td>\n",
       "      <td>858765697</td>\n",
       "      <td>2018-09-09 13:11:00+00:00</td>\n",
       "      <td>ProspectIV</td>\n",
       "      <td>33893830.0</td>\n",
       "      <td>132476</td>\n",
       "      <td>50 Cent</td>\n",
       "      <td>2006</td>\n",
       "      <td>8</td>\n",
       "      <td>United States</td>\n",
       "      <td>Musician</td>\n",
       "      <td>0</td>\n",
       "      <td>2018-09-09</td>\n",
       "    </tr>\n",
       "    <tr>\n",
       "      <td>2</td>\n",
       "      <td>50_Cent</td>\n",
       "      <td>858673121</td>\n",
       "      <td>858673799</td>\n",
       "      <td>2018-09-08 21:46:42+00:00</td>\n",
       "      <td>ProspectIV</td>\n",
       "      <td>33893830.0</td>\n",
       "      <td>132444</td>\n",
       "      <td>50 Cent</td>\n",
       "      <td>2006</td>\n",
       "      <td>8</td>\n",
       "      <td>United States</td>\n",
       "      <td>Musician</td>\n",
       "      <td>0</td>\n",
       "      <td>2018-09-08</td>\n",
       "    </tr>\n",
       "    <tr>\n",
       "      <td>3</td>\n",
       "      <td>50_Cent</td>\n",
       "      <td>858673016</td>\n",
       "      <td>858673121</td>\n",
       "      <td>2018-09-08 21:39:37+00:00</td>\n",
       "      <td>ProspectIV</td>\n",
       "      <td>33893830.0</td>\n",
       "      <td>132345</td>\n",
       "      <td>50 Cent</td>\n",
       "      <td>2006</td>\n",
       "      <td>8</td>\n",
       "      <td>United States</td>\n",
       "      <td>Musician</td>\n",
       "      <td>0</td>\n",
       "      <td>2018-09-08</td>\n",
       "    </tr>\n",
       "    <tr>\n",
       "      <td>4</td>\n",
       "      <td>50_Cent</td>\n",
       "      <td>858469414</td>\n",
       "      <td>858673016</td>\n",
       "      <td>2018-09-08 21:38:24+00:00</td>\n",
       "      <td>ProspectIV</td>\n",
       "      <td>33893830.0</td>\n",
       "      <td>132345</td>\n",
       "      <td>50 Cent</td>\n",
       "      <td>2006</td>\n",
       "      <td>8</td>\n",
       "      <td>United States</td>\n",
       "      <td>Musician</td>\n",
       "      <td>0</td>\n",
       "      <td>2018-09-08</td>\n",
       "    </tr>\n",
       "  </tbody>\n",
       "</table>\n",
       "</div>"
      ],
      "text/plain": [
       "     title   parentid      revid                 timestamp        user  \\\n",
       "0  50_Cent  858765697  858858564 2018-09-10 02:52:25+00:00  ProspectIV   \n",
       "1  50_Cent  858673799  858765697 2018-09-09 13:11:00+00:00  ProspectIV   \n",
       "2  50_Cent  858673121  858673799 2018-09-08 21:46:42+00:00  ProspectIV   \n",
       "3  50_Cent  858673016  858673121 2018-09-08 21:39:37+00:00  ProspectIV   \n",
       "4  50_Cent  858469414  858673016 2018-09-08 21:38:24+00:00  ProspectIV   \n",
       "\n",
       "       userid    size recipient  year  rank        country    career  tied  \\\n",
       "0  33893830.0  132452   50 Cent  2006     8  United States  Musician     0   \n",
       "1  33893830.0  132476   50 Cent  2006     8  United States  Musician     0   \n",
       "2  33893830.0  132444   50 Cent  2006     8  United States  Musician     0   \n",
       "3  33893830.0  132345   50 Cent  2006     8  United States  Musician     0   \n",
       "4  33893830.0  132345   50 Cent  2006     8  United States  Musician     0   \n",
       "\n",
       "         date  \n",
       "0  2018-09-10  \n",
       "1  2018-09-09  \n",
       "2  2018-09-08  \n",
       "3  2018-09-08  \n",
       "4  2018-09-08  "
      ]
     },
     "execution_count": 188,
     "metadata": {},
     "output_type": "execute_result"
    }
   ],
   "source": [
    "df.head()"
   ]
  },
  {
   "cell_type": "code",
   "execution_count": 210,
   "metadata": {},
   "outputs": [],
   "source": [
    "title = \"Manny_Pacquiao\"\n",
    "df_sub = df[df[\"title\"]==title]"
   ]
  },
  {
   "cell_type": "code",
   "execution_count": 211,
   "metadata": {},
   "outputs": [
    {
     "data": {
      "text/plain": [
       "8917"
      ]
     },
     "execution_count": 211,
     "metadata": {},
     "output_type": "execute_result"
    }
   ],
   "source": [
    "len(df_sub)"
   ]
  },
  {
   "cell_type": "code",
   "execution_count": 212,
   "metadata": {},
   "outputs": [
    {
     "data": {
      "text/html": [
       "<div>\n",
       "<style scoped>\n",
       "    .dataframe tbody tr th:only-of-type {\n",
       "        vertical-align: middle;\n",
       "    }\n",
       "\n",
       "    .dataframe tbody tr th {\n",
       "        vertical-align: top;\n",
       "    }\n",
       "\n",
       "    .dataframe thead th {\n",
       "        text-align: right;\n",
       "    }\n",
       "</style>\n",
       "<table border=\"1\" class=\"dataframe\">\n",
       "  <thead>\n",
       "    <tr style=\"text-align: right;\">\n",
       "      <th></th>\n",
       "      <th>title</th>\n",
       "      <th>parentid</th>\n",
       "      <th>revid</th>\n",
       "      <th>timestamp</th>\n",
       "      <th>user</th>\n",
       "      <th>userid</th>\n",
       "      <th>size</th>\n",
       "      <th>recipient</th>\n",
       "      <th>year</th>\n",
       "      <th>rank</th>\n",
       "      <th>country</th>\n",
       "      <th>career</th>\n",
       "      <th>tied</th>\n",
       "      <th>date</th>\n",
       "    </tr>\n",
       "  </thead>\n",
       "  <tbody>\n",
       "    <tr>\n",
       "      <td>477505</td>\n",
       "      <td>Manny_Pacquiao</td>\n",
       "      <td>858923775</td>\n",
       "      <td>858924908</td>\n",
       "      <td>2018-09-10 15:07:25+00:00</td>\n",
       "      <td>MroWikipedian</td>\n",
       "      <td>34478357.0</td>\n",
       "      <td>96240</td>\n",
       "      <td>Manny Pacquiao</td>\n",
       "      <td>2015</td>\n",
       "      <td>2</td>\n",
       "      <td>Philippines</td>\n",
       "      <td>Sportsperson (Boxing)</td>\n",
       "      <td>0</td>\n",
       "      <td>2018-09-10</td>\n",
       "    </tr>\n",
       "    <tr>\n",
       "      <td>477506</td>\n",
       "      <td>Manny_Pacquiao</td>\n",
       "      <td>858393401</td>\n",
       "      <td>858923775</td>\n",
       "      <td>2018-09-10 14:57:58+00:00</td>\n",
       "      <td>MroWikipedian</td>\n",
       "      <td>34478357.0</td>\n",
       "      <td>95925</td>\n",
       "      <td>Manny Pacquiao</td>\n",
       "      <td>2015</td>\n",
       "      <td>2</td>\n",
       "      <td>Philippines</td>\n",
       "      <td>Sportsperson (Boxing)</td>\n",
       "      <td>0</td>\n",
       "      <td>2018-09-10</td>\n",
       "    </tr>\n",
       "    <tr>\n",
       "      <td>477507</td>\n",
       "      <td>Manny_Pacquiao</td>\n",
       "      <td>858392991</td>\n",
       "      <td>858393401</td>\n",
       "      <td>2018-09-06 21:20:17+00:00</td>\n",
       "      <td>Tbb 911</td>\n",
       "      <td>7097402.0</td>\n",
       "      <td>95879</td>\n",
       "      <td>Manny Pacquiao</td>\n",
       "      <td>2015</td>\n",
       "      <td>2</td>\n",
       "      <td>Philippines</td>\n",
       "      <td>Sportsperson (Boxing)</td>\n",
       "      <td>0</td>\n",
       "      <td>2018-09-06</td>\n",
       "    </tr>\n",
       "    <tr>\n",
       "      <td>477508</td>\n",
       "      <td>Manny_Pacquiao</td>\n",
       "      <td>858165549</td>\n",
       "      <td>858392991</td>\n",
       "      <td>2018-09-06 21:16:11+00:00</td>\n",
       "      <td>Tbb 911</td>\n",
       "      <td>7097402.0</td>\n",
       "      <td>95954</td>\n",
       "      <td>Manny Pacquiao</td>\n",
       "      <td>2015</td>\n",
       "      <td>2</td>\n",
       "      <td>Philippines</td>\n",
       "      <td>Sportsperson (Boxing)</td>\n",
       "      <td>0</td>\n",
       "      <td>2018-09-06</td>\n",
       "    </tr>\n",
       "    <tr>\n",
       "      <td>477509</td>\n",
       "      <td>Manny_Pacquiao</td>\n",
       "      <td>858165135</td>\n",
       "      <td>858165549</td>\n",
       "      <td>2018-09-05 14:23:28+00:00</td>\n",
       "      <td>PinoyBoxing11</td>\n",
       "      <td>15621670.0</td>\n",
       "      <td>95951</td>\n",
       "      <td>Manny Pacquiao</td>\n",
       "      <td>2015</td>\n",
       "      <td>2</td>\n",
       "      <td>Philippines</td>\n",
       "      <td>Sportsperson (Boxing)</td>\n",
       "      <td>0</td>\n",
       "      <td>2018-09-05</td>\n",
       "    </tr>\n",
       "  </tbody>\n",
       "</table>\n",
       "</div>"
      ],
      "text/plain": [
       "                 title   parentid      revid                 timestamp  \\\n",
       "477505  Manny_Pacquiao  858923775  858924908 2018-09-10 15:07:25+00:00   \n",
       "477506  Manny_Pacquiao  858393401  858923775 2018-09-10 14:57:58+00:00   \n",
       "477507  Manny_Pacquiao  858392991  858393401 2018-09-06 21:20:17+00:00   \n",
       "477508  Manny_Pacquiao  858165549  858392991 2018-09-06 21:16:11+00:00   \n",
       "477509  Manny_Pacquiao  858165135  858165549 2018-09-05 14:23:28+00:00   \n",
       "\n",
       "                 user      userid   size       recipient  year  rank  \\\n",
       "477505  MroWikipedian  34478357.0  96240  Manny Pacquiao  2015     2   \n",
       "477506  MroWikipedian  34478357.0  95925  Manny Pacquiao  2015     2   \n",
       "477507        Tbb 911   7097402.0  95879  Manny Pacquiao  2015     2   \n",
       "477508        Tbb 911   7097402.0  95954  Manny Pacquiao  2015     2   \n",
       "477509  PinoyBoxing11  15621670.0  95951  Manny Pacquiao  2015     2   \n",
       "\n",
       "            country                 career  tied        date  \n",
       "477505  Philippines  Sportsperson (Boxing)     0  2018-09-10  \n",
       "477506  Philippines  Sportsperson (Boxing)     0  2018-09-10  \n",
       "477507  Philippines  Sportsperson (Boxing)     0  2018-09-06  \n",
       "477508  Philippines  Sportsperson (Boxing)     0  2018-09-06  \n",
       "477509  Philippines  Sportsperson (Boxing)     0  2018-09-05  "
      ]
     },
     "execution_count": 212,
     "metadata": {},
     "output_type": "execute_result"
    }
   ],
   "source": [
    "df_sub.head()"
   ]
  },
  {
   "cell_type": "code",
   "execution_count": 213,
   "metadata": {},
   "outputs": [],
   "source": [
    "date_min = df_sub[\"date\"].min()\n",
    "date_max = df_sub[\"date\"].max()"
   ]
  },
  {
   "cell_type": "code",
   "execution_count": 214,
   "metadata": {},
   "outputs": [
    {
     "data": {
      "text/plain": [
       "(datetime.date(2004, 8, 20), datetime.date(2018, 9, 10))"
      ]
     },
     "execution_count": 214,
     "metadata": {},
     "output_type": "execute_result"
    }
   ],
   "source": [
    "date_min, date_max"
   ]
  },
  {
   "cell_type": "code",
   "execution_count": 215,
   "metadata": {},
   "outputs": [
    {
     "data": {
      "text/plain": [
       "'Date range: 08/20/2004 to 09/10/2018'"
      ]
     },
     "execution_count": 215,
     "metadata": {},
     "output_type": "execute_result"
    }
   ],
   "source": [
    "'Date range: {:%m/%d/%Y} to {:%m/%d/%Y}'.format(date_min, date_max)"
   ]
  },
  {
   "cell_type": "code",
   "execution_count": 216,
   "metadata": {},
   "outputs": [],
   "source": [
    "df_daily = df_sub.groupby(\"date\")[\"revid\"].agg([len])"
   ]
  },
  {
   "cell_type": "code",
   "execution_count": 217,
   "metadata": {},
   "outputs": [
    {
     "data": {
      "text/html": [
       "<div>\n",
       "<style scoped>\n",
       "    .dataframe tbody tr th:only-of-type {\n",
       "        vertical-align: middle;\n",
       "    }\n",
       "\n",
       "    .dataframe tbody tr th {\n",
       "        vertical-align: top;\n",
       "    }\n",
       "\n",
       "    .dataframe thead th {\n",
       "        text-align: right;\n",
       "    }\n",
       "</style>\n",
       "<table border=\"1\" class=\"dataframe\">\n",
       "  <thead>\n",
       "    <tr style=\"text-align: right;\">\n",
       "      <th></th>\n",
       "      <th>len</th>\n",
       "    </tr>\n",
       "    <tr>\n",
       "      <th>date</th>\n",
       "      <th></th>\n",
       "    </tr>\n",
       "  </thead>\n",
       "  <tbody>\n",
       "    <tr>\n",
       "      <td>2004-08-20</td>\n",
       "      <td>5</td>\n",
       "    </tr>\n",
       "    <tr>\n",
       "      <td>2004-09-06</td>\n",
       "      <td>4</td>\n",
       "    </tr>\n",
       "    <tr>\n",
       "      <td>2004-09-12</td>\n",
       "      <td>1</td>\n",
       "    </tr>\n",
       "    <tr>\n",
       "      <td>2004-10-14</td>\n",
       "      <td>1</td>\n",
       "    </tr>\n",
       "    <tr>\n",
       "      <td>2004-10-22</td>\n",
       "      <td>1</td>\n",
       "    </tr>\n",
       "  </tbody>\n",
       "</table>\n",
       "</div>"
      ],
      "text/plain": [
       "            len\n",
       "date           \n",
       "2004-08-20    5\n",
       "2004-09-06    4\n",
       "2004-09-12    1\n",
       "2004-10-14    1\n",
       "2004-10-22    1"
      ]
     },
     "execution_count": 217,
     "metadata": {},
     "output_type": "execute_result"
    }
   ],
   "source": [
    "df_daily.head()"
   ]
  },
  {
   "cell_type": "code",
   "execution_count": 218,
   "metadata": {},
   "outputs": [
    {
     "data": {
      "text/plain": [
       "Index([2004-08-20, 2004-09-06, 2004-09-12, 2004-10-14, 2004-10-22, 2004-11-17,\n",
       "       2004-11-25, 2004-12-02, 2004-12-04, 2004-12-12,\n",
       "       ...\n",
       "       2018-08-02, 2018-08-04, 2018-08-05, 2018-08-08, 2018-08-14, 2018-08-26,\n",
       "       2018-09-04, 2018-09-05, 2018-09-06, 2018-09-10],\n",
       "      dtype='object', name='date', length=2023)"
      ]
     },
     "execution_count": 218,
     "metadata": {},
     "output_type": "execute_result"
    }
   ],
   "source": [
    "x = df_daily.index\n",
    "x"
   ]
  },
  {
   "cell_type": "code",
   "execution_count": 219,
   "metadata": {},
   "outputs": [],
   "source": [
    "y = df_daily[\"len\"]"
   ]
  },
  {
   "cell_type": "code",
   "execution_count": 220,
   "metadata": {},
   "outputs": [
    {
     "name": "stderr",
     "output_type": "stream",
     "text": [
      "/home/micaela/.pyenv/versions/anaconda3-2019.10/lib/python3.7/site-packages/pandas/plotting/_matplotlib/converter.py:103: FutureWarning: Using an implicitly registered datetime converter for a matplotlib plotting method. The converter was registered by pandas on import. Future versions of pandas will require you to explicitly register matplotlib converters.\n",
      "\n",
      "To register the converters:\n",
      "\t>>> from pandas.plotting import register_matplotlib_converters\n",
      "\t>>> register_matplotlib_converters()\n",
      "  warnings.warn(msg, FutureWarning)\n"
     ]
    },
    {
     "data": {
      "image/png": "[encoded data removed]",
      "text/plain": [
       "<Figure size 1296x432 with 1 Axes>"
      ]
     },
     "metadata": {
      "needs_background": "light"
     },
     "output_type": "display_data"
    }
   ],
   "source": [
    "plt.figure(figsize=(18,6))\n",
    "plt.plot(x, y, color='black')\n",
    "plt.ylabel(\"no. of Wikipedia Edits\")\n",
    "plt.title(\"Daily Counts for %s\" % title)\n",
    "plt.minorticks_on()"
   ]
  },
  {
   "cell_type": "code",
   "execution_count": 221,
   "metadata": {},
   "outputs": [
    {
     "data": {
      "text/html": [
       "<div>\n",
       "<style scoped>\n",
       "    .dataframe tbody tr th:only-of-type {\n",
       "        vertical-align: middle;\n",
       "    }\n",
       "\n",
       "    .dataframe tbody tr th {\n",
       "        vertical-align: top;\n",
       "    }\n",
       "\n",
       "    .dataframe thead th {\n",
       "        text-align: right;\n",
       "    }\n",
       "</style>\n",
       "<table border=\"1\" class=\"dataframe\">\n",
       "  <thead>\n",
       "    <tr style=\"text-align: right;\">\n",
       "      <th></th>\n",
       "      <th>len</th>\n",
       "    </tr>\n",
       "    <tr>\n",
       "      <th>date</th>\n",
       "      <th></th>\n",
       "    </tr>\n",
       "  </thead>\n",
       "  <tbody>\n",
       "    <tr>\n",
       "      <td>2010-11-14</td>\n",
       "      <td>150</td>\n",
       "    </tr>\n",
       "    <tr>\n",
       "      <td>2008-12-07</td>\n",
       "      <td>147</td>\n",
       "    </tr>\n",
       "    <tr>\n",
       "      <td>2008-06-29</td>\n",
       "      <td>118</td>\n",
       "    </tr>\n",
       "    <tr>\n",
       "      <td>2006-11-19</td>\n",
       "      <td>80</td>\n",
       "    </tr>\n",
       "    <tr>\n",
       "      <td>2007-01-30</td>\n",
       "      <td>64</td>\n",
       "    </tr>\n",
       "    <tr>\n",
       "      <td>...</td>\n",
       "      <td>...</td>\n",
       "    </tr>\n",
       "    <tr>\n",
       "      <td>2006-05-23</td>\n",
       "      <td>1</td>\n",
       "    </tr>\n",
       "    <tr>\n",
       "      <td>2012-05-18</td>\n",
       "      <td>1</td>\n",
       "    </tr>\n",
       "    <tr>\n",
       "      <td>2012-05-21</td>\n",
       "      <td>1</td>\n",
       "    </tr>\n",
       "    <tr>\n",
       "      <td>2012-05-26</td>\n",
       "      <td>1</td>\n",
       "    </tr>\n",
       "    <tr>\n",
       "      <td>2012-02-24</td>\n",
       "      <td>1</td>\n",
       "    </tr>\n",
       "  </tbody>\n",
       "</table>\n",
       "<p>2023 rows × 1 columns</p>\n",
       "</div>"
      ],
      "text/plain": [
       "            len\n",
       "date           \n",
       "2010-11-14  150\n",
       "2008-12-07  147\n",
       "2008-06-29  118\n",
       "2006-11-19   80\n",
       "2007-01-30   64\n",
       "...         ...\n",
       "2006-05-23    1\n",
       "2012-05-18    1\n",
       "2012-05-21    1\n",
       "2012-05-26    1\n",
       "2012-02-24    1\n",
       "\n",
       "[2023 rows x 1 columns]"
      ]
     },
     "execution_count": 221,
     "metadata": {},
     "output_type": "execute_result"
    }
   ],
   "source": [
    "df_daily.sort_values(by=\"len\", ascending=False).head()"
   ]
  },
  {
   "cell_type": "markdown",
   "metadata": {},
   "source": [
    "# Project"
   ]
  },
  {
   "cell_type": "markdown",
   "metadata": {},
   "source": [
    "Q1: Who's the top ranking celebrity per year\n",
    "\n",
    "Q2: Who's the most active editor for a particilar celebrity at their peak year\n",
    "\n",
    "Q3: Who's the most common editor amongst the top celerities"
   ]
  },
  {
   "cell_type": "code",
   "execution_count": 222,
   "metadata": {},
   "outputs": [],
   "source": [
    "df[\"year\"] = df[\"timestamp\"].dt.year"
   ]
  },
  {
   "cell_type": "code",
   "execution_count": 223,
   "metadata": {},
   "outputs": [
    {
     "data": {
      "text/html": [
       "<div>\n",
       "<style scoped>\n",
       "    .dataframe tbody tr th:only-of-type {\n",
       "        vertical-align: middle;\n",
       "    }\n",
       "\n",
       "    .dataframe tbody tr th {\n",
       "        vertical-align: top;\n",
       "    }\n",
       "\n",
       "    .dataframe thead th {\n",
       "        text-align: right;\n",
       "    }\n",
       "</style>\n",
       "<table border=\"1\" class=\"dataframe\">\n",
       "  <thead>\n",
       "    <tr style=\"text-align: right;\">\n",
       "      <th></th>\n",
       "      <th>title</th>\n",
       "      <th>parentid</th>\n",
       "      <th>revid</th>\n",
       "      <th>timestamp</th>\n",
       "      <th>user</th>\n",
       "      <th>userid</th>\n",
       "      <th>size</th>\n",
       "      <th>recipient</th>\n",
       "      <th>year</th>\n",
       "      <th>rank</th>\n",
       "      <th>country</th>\n",
       "      <th>career</th>\n",
       "      <th>tied</th>\n",
       "      <th>date</th>\n",
       "    </tr>\n",
       "  </thead>\n",
       "  <tbody>\n",
       "    <tr>\n",
       "      <td>0</td>\n",
       "      <td>50_Cent</td>\n",
       "      <td>858765697</td>\n",
       "      <td>858858564</td>\n",
       "      <td>2018-09-10 02:52:25+00:00</td>\n",
       "      <td>ProspectIV</td>\n",
       "      <td>33893830.0</td>\n",
       "      <td>132452</td>\n",
       "      <td>50 Cent</td>\n",
       "      <td>2018</td>\n",
       "      <td>8</td>\n",
       "      <td>United States</td>\n",
       "      <td>Musician</td>\n",
       "      <td>0</td>\n",
       "      <td>2018-09-10</td>\n",
       "    </tr>\n",
       "    <tr>\n",
       "      <td>1</td>\n",
       "      <td>50_Cent</td>\n",
       "      <td>858673799</td>\n",
       "      <td>858765697</td>\n",
       "      <td>2018-09-09 13:11:00+00:00</td>\n",
       "      <td>ProspectIV</td>\n",
       "      <td>33893830.0</td>\n",
       "      <td>132476</td>\n",
       "      <td>50 Cent</td>\n",
       "      <td>2018</td>\n",
       "      <td>8</td>\n",
       "      <td>United States</td>\n",
       "      <td>Musician</td>\n",
       "      <td>0</td>\n",
       "      <td>2018-09-09</td>\n",
       "    </tr>\n",
       "    <tr>\n",
       "      <td>2</td>\n",
       "      <td>50_Cent</td>\n",
       "      <td>858673121</td>\n",
       "      <td>858673799</td>\n",
       "      <td>2018-09-08 21:46:42+00:00</td>\n",
       "      <td>ProspectIV</td>\n",
       "      <td>33893830.0</td>\n",
       "      <td>132444</td>\n",
       "      <td>50 Cent</td>\n",
       "      <td>2018</td>\n",
       "      <td>8</td>\n",
       "      <td>United States</td>\n",
       "      <td>Musician</td>\n",
       "      <td>0</td>\n",
       "      <td>2018-09-08</td>\n",
       "    </tr>\n",
       "    <tr>\n",
       "      <td>3</td>\n",
       "      <td>50_Cent</td>\n",
       "      <td>858673016</td>\n",
       "      <td>858673121</td>\n",
       "      <td>2018-09-08 21:39:37+00:00</td>\n",
       "      <td>ProspectIV</td>\n",
       "      <td>33893830.0</td>\n",
       "      <td>132345</td>\n",
       "      <td>50 Cent</td>\n",
       "      <td>2018</td>\n",
       "      <td>8</td>\n",
       "      <td>United States</td>\n",
       "      <td>Musician</td>\n",
       "      <td>0</td>\n",
       "      <td>2018-09-08</td>\n",
       "    </tr>\n",
       "    <tr>\n",
       "      <td>4</td>\n",
       "      <td>50_Cent</td>\n",
       "      <td>858469414</td>\n",
       "      <td>858673016</td>\n",
       "      <td>2018-09-08 21:38:24+00:00</td>\n",
       "      <td>ProspectIV</td>\n",
       "      <td>33893830.0</td>\n",
       "      <td>132345</td>\n",
       "      <td>50 Cent</td>\n",
       "      <td>2018</td>\n",
       "      <td>8</td>\n",
       "      <td>United States</td>\n",
       "      <td>Musician</td>\n",
       "      <td>0</td>\n",
       "      <td>2018-09-08</td>\n",
       "    </tr>\n",
       "  </tbody>\n",
       "</table>\n",
       "</div>"
      ],
      "text/plain": [
       "     title   parentid      revid                 timestamp        user  \\\n",
       "0  50_Cent  858765697  858858564 2018-09-10 02:52:25+00:00  ProspectIV   \n",
       "1  50_Cent  858673799  858765697 2018-09-09 13:11:00+00:00  ProspectIV   \n",
       "2  50_Cent  858673121  858673799 2018-09-08 21:46:42+00:00  ProspectIV   \n",
       "3  50_Cent  858673016  858673121 2018-09-08 21:39:37+00:00  ProspectIV   \n",
       "4  50_Cent  858469414  858673016 2018-09-08 21:38:24+00:00  ProspectIV   \n",
       "\n",
       "       userid    size recipient  year  rank        country    career  tied  \\\n",
       "0  33893830.0  132452   50 Cent  2018     8  United States  Musician     0   \n",
       "1  33893830.0  132476   50 Cent  2018     8  United States  Musician     0   \n",
       "2  33893830.0  132444   50 Cent  2018     8  United States  Musician     0   \n",
       "3  33893830.0  132345   50 Cent  2018     8  United States  Musician     0   \n",
       "4  33893830.0  132345   50 Cent  2018     8  United States  Musician     0   \n",
       "\n",
       "         date  \n",
       "0  2018-09-10  \n",
       "1  2018-09-09  \n",
       "2  2018-09-08  \n",
       "3  2018-09-08  \n",
       "4  2018-09-08  "
      ]
     },
     "execution_count": 223,
     "metadata": {},
     "output_type": "execute_result"
    }
   ],
   "source": [
    "df.head()"
   ]
  },
  {
   "cell_type": "code",
   "execution_count": 226,
   "metadata": {},
   "outputs": [
    {
     "data": {
      "text/html": [
       "<div>\n",
       "<style scoped>\n",
       "    .dataframe tbody tr th:only-of-type {\n",
       "        vertical-align: middle;\n",
       "    }\n",
       "\n",
       "    .dataframe tbody tr th {\n",
       "        vertical-align: top;\n",
       "    }\n",
       "\n",
       "    .dataframe thead th {\n",
       "        text-align: right;\n",
       "    }\n",
       "</style>\n",
       "<table border=\"1\" class=\"dataframe\">\n",
       "  <thead>\n",
       "    <tr style=\"text-align: right;\">\n",
       "      <th></th>\n",
       "      <th>title</th>\n",
       "      <th>parentid</th>\n",
       "      <th>revid</th>\n",
       "      <th>timestamp</th>\n",
       "      <th>user</th>\n",
       "      <th>userid</th>\n",
       "      <th>size</th>\n",
       "      <th>recipient</th>\n",
       "      <th>year</th>\n",
       "      <th>rank</th>\n",
       "      <th>country</th>\n",
       "      <th>career</th>\n",
       "      <th>tied</th>\n",
       "      <th>date</th>\n",
       "    </tr>\n",
       "  </thead>\n",
       "  <tbody>\n",
       "    <tr>\n",
       "      <td>19791</td>\n",
       "      <td>Angelina_Jolie</td>\n",
       "      <td>858845787</td>\n",
       "      <td>858846275</td>\n",
       "      <td>2018-09-10 00:50:53+00:00</td>\n",
       "      <td>Cwf97</td>\n",
       "      <td>27730137.0</td>\n",
       "      <td>159928</td>\n",
       "      <td>Angelina Jolie</td>\n",
       "      <td>2018</td>\n",
       "      <td>1</td>\n",
       "      <td>United States</td>\n",
       "      <td>Actor</td>\n",
       "      <td>0</td>\n",
       "      <td>2018-09-10</td>\n",
       "    </tr>\n",
       "    <tr>\n",
       "      <td>19792</td>\n",
       "      <td>Angelina_Jolie</td>\n",
       "      <td>858538460</td>\n",
       "      <td>858845787</td>\n",
       "      <td>2018-09-10 00:46:23+00:00</td>\n",
       "      <td>InternetArchiveBot</td>\n",
       "      <td>27015025.0</td>\n",
       "      <td>159900</td>\n",
       "      <td>Angelina Jolie</td>\n",
       "      <td>2018</td>\n",
       "      <td>1</td>\n",
       "      <td>United States</td>\n",
       "      <td>Actor</td>\n",
       "      <td>0</td>\n",
       "      <td>2018-09-10</td>\n",
       "    </tr>\n",
       "    <tr>\n",
       "      <td>19793</td>\n",
       "      <td>Angelina_Jolie</td>\n",
       "      <td>857931506</td>\n",
       "      <td>858538460</td>\n",
       "      <td>2018-09-07 22:18:22+00:00</td>\n",
       "      <td>Treybien</td>\n",
       "      <td>1234927.0</td>\n",
       "      <td>159604</td>\n",
       "      <td>Angelina Jolie</td>\n",
       "      <td>2018</td>\n",
       "      <td>1</td>\n",
       "      <td>United States</td>\n",
       "      <td>Actor</td>\n",
       "      <td>0</td>\n",
       "      <td>2018-09-07</td>\n",
       "    </tr>\n",
       "    <tr>\n",
       "      <td>19794</td>\n",
       "      <td>Angelina_Jolie</td>\n",
       "      <td>856913722</td>\n",
       "      <td>857931506</td>\n",
       "      <td>2018-09-03 23:44:11+00:00</td>\n",
       "      <td>InternetArchiveBot</td>\n",
       "      <td>27015025.0</td>\n",
       "      <td>159590</td>\n",
       "      <td>Angelina Jolie</td>\n",
       "      <td>2018</td>\n",
       "      <td>1</td>\n",
       "      <td>United States</td>\n",
       "      <td>Actor</td>\n",
       "      <td>0</td>\n",
       "      <td>2018-09-03</td>\n",
       "    </tr>\n",
       "    <tr>\n",
       "      <td>19795</td>\n",
       "      <td>Angelina_Jolie</td>\n",
       "      <td>854242086</td>\n",
       "      <td>856913722</td>\n",
       "      <td>2018-08-28 10:20:35+00:00</td>\n",
       "      <td>AnneBCG</td>\n",
       "      <td>27017374.0</td>\n",
       "      <td>159390</td>\n",
       "      <td>Angelina Jolie</td>\n",
       "      <td>2018</td>\n",
       "      <td>1</td>\n",
       "      <td>United States</td>\n",
       "      <td>Actor</td>\n",
       "      <td>0</td>\n",
       "      <td>2018-08-28</td>\n",
       "    </tr>\n",
       "    <tr>\n",
       "      <td>...</td>\n",
       "      <td>...</td>\n",
       "      <td>...</td>\n",
       "      <td>...</td>\n",
       "      <td>...</td>\n",
       "      <td>...</td>\n",
       "      <td>...</td>\n",
       "      <td>...</td>\n",
       "      <td>...</td>\n",
       "      <td>...</td>\n",
       "      <td>...</td>\n",
       "      <td>...</td>\n",
       "      <td>...</td>\n",
       "      <td>...</td>\n",
       "      <td>...</td>\n",
       "    </tr>\n",
       "    <tr>\n",
       "      <td>767132</td>\n",
       "      <td>Tom_Cruise</td>\n",
       "      <td>290942</td>\n",
       "      <td>290943</td>\n",
       "      <td>2002-01-14 15:00:07+00:00</td>\n",
       "      <td>SJK</td>\n",
       "      <td>1228.0</td>\n",
       "      <td>330</td>\n",
       "      <td>Tom Cruise</td>\n",
       "      <td>2002</td>\n",
       "      <td>1</td>\n",
       "      <td>United States</td>\n",
       "      <td>Actor</td>\n",
       "      <td>0</td>\n",
       "      <td>2002-01-14</td>\n",
       "    </tr>\n",
       "    <tr>\n",
       "      <td>767133</td>\n",
       "      <td>Tom_Cruise</td>\n",
       "      <td>290941</td>\n",
       "      <td>290942</td>\n",
       "      <td>2002-01-14 14:59:03+00:00</td>\n",
       "      <td>203.170.3.xxx</td>\n",
       "      <td>0.0</td>\n",
       "      <td>3</td>\n",
       "      <td>Tom Cruise</td>\n",
       "      <td>2002</td>\n",
       "      <td>1</td>\n",
       "      <td>United States</td>\n",
       "      <td>Actor</td>\n",
       "      <td>0</td>\n",
       "      <td>2002-01-14</td>\n",
       "    </tr>\n",
       "    <tr>\n",
       "      <td>767134</td>\n",
       "      <td>Tom_Cruise</td>\n",
       "      <td>290940</td>\n",
       "      <td>290941</td>\n",
       "      <td>2002-01-08 05:45:11+00:00</td>\n",
       "      <td>144.132.75.xxx</td>\n",
       "      <td>0.0</td>\n",
       "      <td>330</td>\n",
       "      <td>Tom Cruise</td>\n",
       "      <td>2002</td>\n",
       "      <td>1</td>\n",
       "      <td>United States</td>\n",
       "      <td>Actor</td>\n",
       "      <td>0</td>\n",
       "      <td>2002-01-08</td>\n",
       "    </tr>\n",
       "    <tr>\n",
       "      <td>767135</td>\n",
       "      <td>Tom_Cruise</td>\n",
       "      <td>290939</td>\n",
       "      <td>290940</td>\n",
       "      <td>2002-01-08 04:52:22+00:00</td>\n",
       "      <td>203.109.250.xxx</td>\n",
       "      <td>0.0</td>\n",
       "      <td>241</td>\n",
       "      <td>Tom Cruise</td>\n",
       "      <td>2002</td>\n",
       "      <td>1</td>\n",
       "      <td>United States</td>\n",
       "      <td>Actor</td>\n",
       "      <td>0</td>\n",
       "      <td>2002-01-08</td>\n",
       "    </tr>\n",
       "    <tr>\n",
       "      <td>767136</td>\n",
       "      <td>Tom_Cruise</td>\n",
       "      <td>0</td>\n",
       "      <td>290939</td>\n",
       "      <td>2002-01-08 04:51:57+00:00</td>\n",
       "      <td>203.109.250.xxx</td>\n",
       "      <td>0.0</td>\n",
       "      <td>242</td>\n",
       "      <td>Tom Cruise</td>\n",
       "      <td>2002</td>\n",
       "      <td>1</td>\n",
       "      <td>United States</td>\n",
       "      <td>Actor</td>\n",
       "      <td>0</td>\n",
       "      <td>2002-01-08</td>\n",
       "    </tr>\n",
       "  </tbody>\n",
       "</table>\n",
       "<p>159498 rows × 14 columns</p>\n",
       "</div>"
      ],
      "text/plain": [
       "                 title   parentid      revid                 timestamp  \\\n",
       "19791   Angelina_Jolie  858845787  858846275 2018-09-10 00:50:53+00:00   \n",
       "19792   Angelina_Jolie  858538460  858845787 2018-09-10 00:46:23+00:00   \n",
       "19793   Angelina_Jolie  857931506  858538460 2018-09-07 22:18:22+00:00   \n",
       "19794   Angelina_Jolie  856913722  857931506 2018-09-03 23:44:11+00:00   \n",
       "19795   Angelina_Jolie  854242086  856913722 2018-08-28 10:20:35+00:00   \n",
       "...                ...        ...        ...                       ...   \n",
       "767132      Tom_Cruise     290942     290943 2002-01-14 15:00:07+00:00   \n",
       "767133      Tom_Cruise     290941     290942 2002-01-14 14:59:03+00:00   \n",
       "767134      Tom_Cruise     290940     290941 2002-01-08 05:45:11+00:00   \n",
       "767135      Tom_Cruise     290939     290940 2002-01-08 04:52:22+00:00   \n",
       "767136      Tom_Cruise          0     290939 2002-01-08 04:51:57+00:00   \n",
       "\n",
       "                      user      userid    size       recipient  year  rank  \\\n",
       "19791                Cwf97  27730137.0  159928  Angelina Jolie  2018     1   \n",
       "19792   InternetArchiveBot  27015025.0  159900  Angelina Jolie  2018     1   \n",
       "19793             Treybien   1234927.0  159604  Angelina Jolie  2018     1   \n",
       "19794   InternetArchiveBot  27015025.0  159590  Angelina Jolie  2018     1   \n",
       "19795              AnneBCG  27017374.0  159390  Angelina Jolie  2018     1   \n",
       "...                    ...         ...     ...             ...   ...   ...   \n",
       "767132                 SJK      1228.0     330      Tom Cruise  2002     1   \n",
       "767133       203.170.3.xxx         0.0       3      Tom Cruise  2002     1   \n",
       "767134      144.132.75.xxx         0.0     330      Tom Cruise  2002     1   \n",
       "767135     203.109.250.xxx         0.0     241      Tom Cruise  2002     1   \n",
       "767136     203.109.250.xxx         0.0     242      Tom Cruise  2002     1   \n",
       "\n",
       "              country career  tied        date  \n",
       "19791   United States  Actor     0  2018-09-10  \n",
       "19792   United States  Actor     0  2018-09-10  \n",
       "19793   United States  Actor     0  2018-09-07  \n",
       "19794   United States  Actor     0  2018-09-03  \n",
       "19795   United States  Actor     0  2018-08-28  \n",
       "...               ...    ...   ...         ...  \n",
       "767132  United States  Actor     0  2002-01-14  \n",
       "767133  United States  Actor     0  2002-01-14  \n",
       "767134  United States  Actor     0  2002-01-08  \n",
       "767135  United States  Actor     0  2002-01-08  \n",
       "767136  United States  Actor     0  2002-01-08  \n",
       "\n",
       "[159498 rows x 14 columns]"
      ]
     },
     "execution_count": 226,
     "metadata": {},
     "output_type": "execute_result"
    }
   ],
   "source": [
    "df_top_celeb = df[df['rank']==1]\n",
    "df_top_celeb"
   ]
  },
  {
   "cell_type": "markdown",
   "metadata": {},
   "source": [
    "# Answer for Q1: Who's the top ranking celebrity per year"
   ]
  },
  {
   "cell_type": "code",
   "execution_count": 229,
   "metadata": {},
   "outputs": [
    {
     "data": {
      "text/plain": [
       "year  recipient            \n",
       "2001  Britney Spears             8\n",
       "      Angelina Jolie             3\n",
       "      Jennifer Lopez             3\n",
       "      Michael Jordan             1\n",
       "2002  Britney Spears            61\n",
       "                              ... \n",
       "2018  Jennifer Lopez           108\n",
       "      Julia Roberts             91\n",
       "      Angelina Jolie            78\n",
       "      Mel Gibson                72\n",
       "      Floyd Mayweather, Jr.     50\n",
       "Name: recipient, Length: 229, dtype: int64"
      ]
     },
     "execution_count": 229,
     "metadata": {},
     "output_type": "execute_result"
    }
   ],
   "source": [
    "df_top_celeb.groupby('year')['recipient'].value_counts()"
   ]
  },
  {
   "cell_type": "markdown",
   "metadata": {},
   "source": [
    "# Answer for Q2: Who's the most active editor for a particilar celebrity at their peak year"
   ]
  },
  {
   "cell_type": "code",
   "execution_count": null,
   "metadata": {},
   "outputs": [],
   "source": []
  }
 ],
 "metadata": {
  "kernelspec": {
   "display_name": "Python 3",
   "language": "python",
   "name": "python3"
  },
  "language_info": {
   "codemirror_mode": {
    "name": "ipython",
    "version": 3
   },
   "file_extension": ".py",
   "mimetype": "text/x-python",
   "name": "python",
   "nbconvert_exporter": "python",
   "pygments_lexer": "ipython3",
   "version": "3.7.2"
  }
 },
 "nbformat": 4,
 "nbformat_minor": 2
}
